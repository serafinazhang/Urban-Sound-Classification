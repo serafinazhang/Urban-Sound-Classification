{
  "nbformat": 4,
  "nbformat_minor": 0,
  "metadata": {
    "colab": {
      "name": "Urban Sound Classification Code Book.ipynb",
      "provenance": [],
      "authorship_tag": "ABX9TyN00ppUhTdiY3+H4JD5Df6W",
      "include_colab_link": true
    },
    "kernelspec": {
      "name": "python3",
      "display_name": "Python 3"
    },
    "language_info": {
      "name": "python"
    },
    "accelerator": "GPU"
  },
  "cells": [
    {
      "cell_type": "markdown",
      "metadata": {
        "id": "view-in-github",
        "colab_type": "text"
      },
      "source": [
        "<a href=\"https://colab.research.google.com/github/serafinazhang/Urban-Sound-Classification/blob/main/Urban_Sound_Classification_Code_Book.ipynb\" target=\"_parent\"><img src=\"https://colab.research.google.com/assets/colab-badge.svg\" alt=\"Open In Colab\"/></a>"
      ]
    },
    {
      "cell_type": "markdown",
      "metadata": {
        "id": "pE6gP89-iF9O"
      },
      "source": [
        "# **Urban Sound Classification with Neural Networks**"
      ]
    },
    {
      "cell_type": "markdown",
      "metadata": {
        "id": "SleGnpteiKhU"
      },
      "source": [
        "# 1 Data Preprcessing"
      ]
    },
    {
      "cell_type": "markdown",
      "metadata": {
        "id": "l61SJ16EiYs7"
      },
      "source": [
        "## 1.1 Preparation"
      ]
    },
    {
      "cell_type": "code",
      "metadata": {
        "id": "XSFGKStXuZGW",
        "colab": {
          "base_uri": "https://localhost:8080/"
        },
        "collapsed": true,
        "outputId": "396c0720-53b1-4db5-ea83-dabddc040576"
      },
      "source": [
        "!pip install librosa\n",
        "import librosa\n",
        "import librosa.display\n",
        "# !pip install specAugment"
      ],
      "execution_count": 4,
      "outputs": [
        {
          "output_type": "stream",
          "text": [
            "Requirement already satisfied: librosa in /usr/local/lib/python3.7/dist-packages (0.8.1)\n",
            "Requirement already satisfied: soundfile>=0.10.2 in /usr/local/lib/python3.7/dist-packages (from librosa) (0.10.3.post1)\n",
            "Requirement already satisfied: decorator>=3.0.0 in /usr/local/lib/python3.7/dist-packages (from librosa) (4.4.2)\n",
            "Requirement already satisfied: scipy>=1.0.0 in /usr/local/lib/python3.7/dist-packages (from librosa) (1.4.1)\n",
            "Requirement already satisfied: pooch>=1.0 in /usr/local/lib/python3.7/dist-packages (from librosa) (1.4.0)\n",
            "Requirement already satisfied: numba>=0.43.0 in /usr/local/lib/python3.7/dist-packages (from librosa) (0.51.2)\n",
            "Requirement already satisfied: resampy>=0.2.2 in /usr/local/lib/python3.7/dist-packages (from librosa) (0.2.2)\n",
            "Requirement already satisfied: scikit-learn!=0.19.0,>=0.14.0 in /usr/local/lib/python3.7/dist-packages (from librosa) (0.22.2.post1)\n",
            "Requirement already satisfied: packaging>=20.0 in /usr/local/lib/python3.7/dist-packages (from librosa) (21.0)\n",
            "Requirement already satisfied: audioread>=2.0.0 in /usr/local/lib/python3.7/dist-packages (from librosa) (2.1.9)\n",
            "Requirement already satisfied: joblib>=0.14 in /usr/local/lib/python3.7/dist-packages (from librosa) (1.0.1)\n",
            "Requirement already satisfied: numpy>=1.15.0 in /usr/local/lib/python3.7/dist-packages (from librosa) (1.19.5)\n",
            "Requirement already satisfied: setuptools in /usr/local/lib/python3.7/dist-packages (from numba>=0.43.0->librosa) (57.4.0)\n",
            "Requirement already satisfied: llvmlite<0.35,>=0.34.0.dev0 in /usr/local/lib/python3.7/dist-packages (from numba>=0.43.0->librosa) (0.34.0)\n",
            "Requirement already satisfied: pyparsing>=2.0.2 in /usr/local/lib/python3.7/dist-packages (from packaging>=20.0->librosa) (2.4.7)\n",
            "Requirement already satisfied: appdirs in /usr/local/lib/python3.7/dist-packages (from pooch>=1.0->librosa) (1.4.4)\n",
            "Requirement already satisfied: requests in /usr/local/lib/python3.7/dist-packages (from pooch>=1.0->librosa) (2.23.0)\n",
            "Requirement already satisfied: six>=1.3 in /usr/local/lib/python3.7/dist-packages (from resampy>=0.2.2->librosa) (1.15.0)\n",
            "Requirement already satisfied: cffi>=1.0 in /usr/local/lib/python3.7/dist-packages (from soundfile>=0.10.2->librosa) (1.14.6)\n",
            "Requirement already satisfied: pycparser in /usr/local/lib/python3.7/dist-packages (from cffi>=1.0->soundfile>=0.10.2->librosa) (2.20)\n",
            "Requirement already satisfied: urllib3!=1.25.0,!=1.25.1,<1.26,>=1.21.1 in /usr/local/lib/python3.7/dist-packages (from requests->pooch>=1.0->librosa) (1.24.3)\n",
            "Requirement already satisfied: chardet<4,>=3.0.2 in /usr/local/lib/python3.7/dist-packages (from requests->pooch>=1.0->librosa) (3.0.4)\n",
            "Requirement already satisfied: certifi>=2017.4.17 in /usr/local/lib/python3.7/dist-packages (from requests->pooch>=1.0->librosa) (2021.5.30)\n",
            "Requirement already satisfied: idna<3,>=2.5 in /usr/local/lib/python3.7/dist-packages (from requests->pooch>=1.0->librosa) (2.10)\n"
          ],
          "name": "stdout"
        }
      ]
    },
    {
      "cell_type": "code",
      "metadata": {
        "id": "G-1hASnVuZKy"
      },
      "source": [
        "import pandas as pd\n",
        "import numpy as np\n",
        "import glob\n",
        "import os\n",
        "import tarfile\n",
        "from google.colab import drive\n",
        "import numpy as np\n",
        "import matplotlib.pyplot as plt\n",
        "import seaborn as sns\n",
        "from collections import defaultdict, Counter\n",
        "from google.colab import files\n",
        "from zipfile import ZipFile"
      ],
      "execution_count": 2,
      "outputs": []
    },
    {
      "cell_type": "code",
      "metadata": {
        "colab": {
          "base_uri": "https://localhost:8080/"
        },
        "id": "T8VUnw63xdTv",
        "collapsed": true,
        "outputId": "150f778e-0fee-4928-88aa-520348d524bb"
      },
      "source": [
        "drive.mount('/content/drive')"
      ],
      "execution_count": 3,
      "outputs": [
        {
          "output_type": "stream",
          "text": [
            "Mounted at /content/drive\n"
          ],
          "name": "stdout"
        }
      ]
    },
    {
      "cell_type": "code",
      "metadata": {
        "id": "7YIG37KQuZO2"
      },
      "source": [
        "from PIL import Image\n",
        "import pathlib\n",
        "import csv\n",
        "from sklearn import preprocessing\n",
        "from sklearn.preprocessing import LabelEncoder, StandardScaler\n",
        "from keras.preprocessing.image import ImageDataGenerator, array_to_img, img_to_array, load_img\n",
        "from sklearn.metrics import confusion_matrix, accuracy_score, zero_one_loss\n",
        "from sklearn.utils import shuffle\n",
        "import tensorflow as tf\n",
        "from tensorflow import keras\n",
        "from keras import layers\n",
        "from keras.layers import Activation, Dense, Dropout, Conv2D, Flatten, MaxPooling2D, GlobalMaxPooling2D, AveragePooling2D, Input, Add, TimeDistributed, LSTM, Bidirectional, Conv1D, MaxPooling1D, BatchNormalization, Lambda, GRU, concatenate\n",
        "from keras import regularizers\n",
        "from keras.callbacks import EarlyStopping\n",
        "from keras import backend\n",
        "from keras.models import Sequential, Model\n",
        "from keras.utils import np_utils\n",
        "from keras.optimizers import adam_v2"
      ],
      "execution_count": 5,
      "outputs": []
    },
    {
      "cell_type": "code",
      "metadata": {
        "id": "SLFi2Z_JiPCP"
      },
      "source": [
        "file = tarfile.open(\"/content/drive/MyDrive/machine learning/UrbanSound8K.tar.gz\")\n",
        "file.extractall('/content/')"
      ],
      "execution_count": null,
      "outputs": []
    },
    {
      "cell_type": "code",
      "metadata": {
        "id": "IMwE9lX2xNlb"
      },
      "source": [
        "path = '/content/UrbanSound8K/audio/'\n",
        "def pre_clean(fold):\n",
        "  path_list = []\n",
        "  labels = []\n",
        "  folds = []\n",
        "  for i in fold:\n",
        "    this_path = os.path.join(path,i)\n",
        "    for root, dirs, files_name in os.walk(this_path):\n",
        "      files_name.remove('.DS_Store')\n",
        "      for file in files_name:\n",
        "        path_list.append(os.path.join(root,file))\n",
        "        label = file.split('-')[1]\n",
        "        folds.append(i)\n",
        "        labels.append(label)\n",
        "  return path_list, labels, folds"
      ],
      "execution_count": null,
      "outputs": []
    },
    {
      "cell_type": "code",
      "metadata": {
        "id": "kgWNjW5AxP2q"
      },
      "source": [
        "train_path_list, train_labels, train_folds = pre_clean(train_fold)\n",
        "test_path_list, test_labels, test_folds = pre_clean(test_fold)"
      ],
      "execution_count": null,
      "outputs": []
    },
    {
      "cell_type": "code",
      "metadata": {
        "id": "90YRAvT47V6G"
      },
      "source": [
        "# get raw data from load function\n",
        "def loading_raw(path_list):\n",
        "  raw_list = []\n",
        "  for i in path_list:\n",
        "    raw, st = librosa.load(i)\n",
        "    raw_list.append(raw)\n",
        "  return raw_list"
      ],
      "execution_count": null,
      "outputs": []
    },
    {
      "cell_type": "code",
      "metadata": {
        "id": "e-mIZXgG90St"
      },
      "source": [
        "train_raw = loading_raw(train_path_list)\n",
        "test_raw = loading_raw(test_path_list)"
      ],
      "execution_count": null,
      "outputs": []
    },
    {
      "cell_type": "code",
      "metadata": {
        "id": "5GsyLfUk-IvQ"
      },
      "source": [
        "np.array(train_raw,dtype=object).dump(open('/content/drive/MyDrive/machine learning/raw data/train_raw.npy', 'wb'))\n",
        "np.array(test_raw,dtype=object).dump(open('/content/drive/MyDrive/machine learning/raw data/test_raw.npy', 'wb'))"
      ],
      "execution_count": null,
      "outputs": []
    },
    {
      "cell_type": "code",
      "metadata": {
        "id": "StkKwlMa-xxK"
      },
      "source": [
        "train_label = pd.DataFrame({'fold': train_folds, 'label': train_labels, 'path_list': train_path_list})\n",
        "test_label = pd.DataFrame({'fold': test_folds, 'label': test_labels, 'path_list': test_path_list})"
      ],
      "execution_count": null,
      "outputs": []
    },
    {
      "cell_type": "code",
      "metadata": {
        "id": "4Kp5nfno_P58"
      },
      "source": [
        "train_label.to_csv('/content/drive/MyDrive/machine learning/raw data/train_label.csv')\n",
        "test_label.to_csv('/content/drive/MyDrive/machine learning/raw data/test_label.csv')"
      ],
      "execution_count": null,
      "outputs": []
    },
    {
      "cell_type": "markdown",
      "metadata": {
        "id": "DeIVljlLihwN"
      },
      "source": [
        "## 1.2 Data Loading"
      ]
    },
    {
      "cell_type": "markdown",
      "metadata": {
        "id": "8UfiGdM2-z-3"
      },
      "source": [
        "###1.2.1 Loading Raw"
      ]
    },
    {
      "cell_type": "code",
      "metadata": {
        "id": "eb_82GhpyMKh"
      },
      "source": [
        "train_fold = ['fold1', 'fold2', 'fold3', 'fold4', 'fold6']\n",
        "test_fold = ['fold5', 'fold7', 'fold8', 'fold9', 'fold10']"
      ],
      "execution_count": null,
      "outputs": []
    },
    {
      "cell_type": "code",
      "metadata": {
        "id": "lRpyWi2lyOXE"
      },
      "source": [
        "train_raw = np.load('/content/drive/MyDrive/machine learning/raw data/train_raw.npy', allow_pickle=True) # sample rate is 22050Hz\n",
        "test_raw = np.load('/content/drive/MyDrive/machine learning/raw data/test_raw.npy', allow_pickle=True)"
      ],
      "execution_count": null,
      "outputs": []
    },
    {
      "cell_type": "code",
      "metadata": {
        "id": "fmfGLhWey3rJ"
      },
      "source": [
        "train_meta = pd.read_csv('/content/drive/MyDrive/machine learning/raw data/train_label.csv')\n",
        "test_meta = pd.read_csv('/content/drive/MyDrive/machine learning/raw data/test_label.csv')"
      ],
      "execution_count": null,
      "outputs": []
    },
    {
      "cell_type": "code",
      "metadata": {
        "id": "z9DDV_8P89Yy"
      },
      "source": [
        "def extract_name(x):\n",
        "  l = x.split('/')\n",
        "  name = l[-1]\n",
        "  name = name.split('.')[0]\n",
        "  return name"
      ],
      "execution_count": null,
      "outputs": []
    },
    {
      "cell_type": "code",
      "metadata": {
        "id": "bznZ-W9B89_e"
      },
      "source": [
        "train_meta['name'] = train_meta['path_list'].apply(extract_name)\n",
        "test_meta['name'] = test_meta['path_list'].apply(extract_name)"
      ],
      "execution_count": null,
      "outputs": []
    },
    {
      "cell_type": "code",
      "metadata": {
        "id": "mJBrNHAhKEm5"
      },
      "source": [
        "valid_raw = test_raw[:936]\n",
        "test_raw = test_raw[936:]"
      ],
      "execution_count": null,
      "outputs": []
    },
    {
      "cell_type": "code",
      "metadata": {
        "id": "a0oTHxsFMJ4V"
      },
      "source": [
        "valid_meta = test_meta[:936]"
      ],
      "execution_count": null,
      "outputs": []
    },
    {
      "cell_type": "code",
      "metadata": {
        "id": "DiE36L1OMPJG"
      },
      "source": [
        "test_meta = test_meta[936:].reset_index()"
      ],
      "execution_count": null,
      "outputs": []
    },
    {
      "cell_type": "markdown",
      "metadata": {
        "id": "-eJEZFQx-4un"
      },
      "source": [
        "###1.2.2 Slicing"
      ]
    },
    {
      "cell_type": "code",
      "metadata": {
        "id": "2h4btmuvPkwf"
      },
      "source": [
        "def windows(data, window_size):\n",
        "    start = 0\n",
        "    while start < len(data):\n",
        "        yield start, start + window_size\n",
        "        start += (window_size / 2)"
      ],
      "execution_count": null,
      "outputs": []
    },
    {
      "cell_type": "code",
      "metadata": {
        "id": "HAUb_6PxwR0d"
      },
      "source": [
        "def re_split(raw_data, meta_data, frames = 41):\n",
        "  column_names = ['name', 'fold', \"label\"]\n",
        "  df = pd.DataFrame(columns=column_names)\n",
        "  array_list = []\n",
        "\n",
        "  window_size = 512 * (frames - 1)\n",
        "  for i in range(len(raw_data)):\n",
        "    sound_clip = raw_data[i]\n",
        "\n",
        "    for (start,end) in windows(sound_clip,window_size):\n",
        "      if(len(sound_clip[int(start):int(end)]) == int(window_size)):\n",
        "        signal = sound_clip[int(start):int(end)]\n",
        "        array_list.append(signal)\n",
        "        df = df.append({'name': meta_data['name'][i], 'fold': meta_data['fold'][i], 'label': meta_data['label'][i]}, ignore_index = True)\n",
        "\n",
        "  return np.array(array_list), df"
      ],
      "execution_count": null,
      "outputs": []
    },
    {
      "cell_type": "code",
      "metadata": {
        "id": "pWOcuYoHxUAx"
      },
      "source": [
        "train_raw_split, train_meta_split = re_split(train_raw, train_meta)\n",
        "test_raw_split, test_meta_split = re_split(test_raw, test_meta)\n",
        "valid_raw_split, valid_meta_split = re_split(valid_raw, valid_meta)"
      ],
      "execution_count": null,
      "outputs": []
    },
    {
      "cell_type": "code",
      "metadata": {
        "id": "XscoWxC68OVf"
      },
      "source": [
        "np.save('/content/drive/MyDrive/machine learning/train_raw_split.npy', train_raw_split)\n",
        "np.save('/content/drive/MyDrive/machine learning/test_raw_split.npy', test_raw_split)\n",
        "np.save('/content/drive/MyDrive/machine learning/valid_raw_split.npy', valid_raw_split)"
      ],
      "execution_count": null,
      "outputs": []
    },
    {
      "cell_type": "code",
      "metadata": {
        "id": "xRVyGenG9d9v"
      },
      "source": [
        "train_meta_split.to_csv('/content/drive/MyDrive/machine learning/train_meta_split.csv')\n",
        "test_meta_split.to_csv('/content/drive/MyDrive/machine learning/test_meta_split.csv')\n",
        "valid_meta_split.to_csv('/content/drive/MyDrive/machine learning/valid_meta_split.csv')"
      ],
      "execution_count": null,
      "outputs": []
    },
    {
      "cell_type": "code",
      "metadata": {
        "id": "29Z9gzwCytOf"
      },
      "source": [
        "train_raw_split = np.load('/content/drive/MyDrive/machine learning/train_raw_split.npy')\n",
        "test_raw_split = np.load('/content/drive/MyDrive/machine learning/test_raw_split.npy')\n",
        "valid_raw_split = np.load('/content/drive/MyDrive/machine learning/valid_raw_split.npy')"
      ],
      "execution_count": null,
      "outputs": []
    },
    {
      "cell_type": "code",
      "metadata": {
        "id": "uqFammwj_dht"
      },
      "source": [
        "train_meta_split = pd.read_csv('/content/drive/MyDrive/machine learning/train_meta_split.csv')\n",
        "test_meta_split = pd.read_csv('/content/drive/MyDrive/machine learning/test_meta_split.csv')\n",
        "valid_meta_split = pd.read_csv('/content/drive/MyDrive/machine learning/valid_meta_split.csv')"
      ],
      "execution_count": 6,
      "outputs": []
    },
    {
      "cell_type": "markdown",
      "metadata": {
        "id": "TuKchS1EoLsp"
      },
      "source": [
        "## 1.3 Data Visualization"
      ]
    },
    {
      "cell_type": "markdown",
      "metadata": {
        "id": "DclZcNwCpvhQ"
      },
      "source": [
        "## 1.4 Feature Extraction"
      ]
    },
    {
      "cell_type": "code",
      "metadata": {
        "id": "4VMC6RHO0I7H"
      },
      "source": [
        "def mel_data(raw_data):\n",
        "  mel_fre = []\n",
        "  for i in range(len(raw_data)):\n",
        "    signal = raw_data[i]\n",
        "    S = librosa.feature.melspectrogram(signal, n_mels = 128, fmax=8000)\n",
        "    S_dB = librosa.power_to_db(S, ref=np.max).T\n",
        "    f = S_dB.flatten()\n",
        "    mel_fre.append(f)\n",
        "  mel_fre = np.asarray(mel_fre).reshape(len(raw_data),41,128)\n",
        "  return mel_fre"
      ],
      "execution_count": null,
      "outputs": []
    },
    {
      "cell_type": "code",
      "metadata": {
        "id": "eBcuryEE0I7J"
      },
      "source": [
        "def mfcc_data(raw_data):\n",
        "  mfcc = []\n",
        "  for i in range(len(raw_data)): \n",
        "    signal = raw_data[i] \n",
        "    S = librosa.feature.mfcc(y=signal, n_mfcc=50)\n",
        "    S_dB = librosa.power_to_db(S, ref=np.max).T\n",
        "    f = S_dB.flatten()\n",
        "    mfcc.append(f)\n",
        "  mfcc = np.asarray(mfcc).reshape(len(raw_data),41,50) \n",
        "  return mfcc"
      ],
      "execution_count": null,
      "outputs": []
    },
    {
      "cell_type": "code",
      "metadata": {
        "id": "Oz6MATJe0KOx"
      },
      "source": [
        "def chroma_data(raw_data):\n",
        "  chroma_d = []\n",
        "  for i in range(len(raw_data)):\n",
        "    signal = raw_data[i]\n",
        "    chroma = librosa.feature.chroma_stft(y=signal).T\n",
        "    f = chroma.flatten()\n",
        "    chroma_d.append(f)\n",
        "  chroma_d = np.asarray(chroma_d).reshape(len(raw_data),41,12) \n",
        "  return chroma_d"
      ],
      "execution_count": null,
      "outputs": []
    },
    {
      "cell_type": "code",
      "metadata": {
        "id": "EzuWFR-P1KLi"
      },
      "source": [
        "mel_train_data = mel_data(train_raw_split) \n",
        "mel_valid_data = mel_data(valid_raw_split)\n",
        "mel_test_data = mel_data(test_raw_split) "
      ],
      "execution_count": null,
      "outputs": []
    },
    {
      "cell_type": "code",
      "metadata": {
        "id": "8ja6L5RK1KLj"
      },
      "source": [
        "mfcc_train_data = mfcc_data(train_raw_split)\n",
        "mfcc_valid_data = mfcc_data(valid_raw_split) \n",
        "mfcc_test_data = mfcc_data(test_raw_split)"
      ],
      "execution_count": null,
      "outputs": []
    },
    {
      "cell_type": "code",
      "metadata": {
        "id": "bUwC03dd1WVe"
      },
      "source": [
        "chroma_train_data = chroma_data(train_raw_split)\n",
        "chroma_valid_data = chroma_data(valid_raw_split) \n",
        "chroma_test_data = chroma_data(test_raw_split)"
      ],
      "execution_count": null,
      "outputs": []
    },
    {
      "cell_type": "code",
      "metadata": {
        "id": "YyPrKPUB1cQt"
      },
      "source": [
        "all_feature_train = np.concatenate((mel_train_data, mfcc_train_data, chroma_train_data), axis = 2) \n",
        "all_feature_valid = np.concatenate((mel_valid_data, mfcc_valid_data, chroma_valid_data), axis = 2)\n",
        "all_feature_test = np.concatenate((mel_test_data, mfcc_test_data, chroma_test_data), axis = 2)"
      ],
      "execution_count": null,
      "outputs": []
    },
    {
      "cell_type": "code",
      "metadata": {
        "id": "DpG4dCki3rMB"
      },
      "source": [
        "np.save('/content/drive/MyDrive/machine learning/all_feature_train.npy', all_feature_train) \n",
        "np.save('/content/drive/MyDrive/machine learning/all_feature_valid.npy', all_feature_valid)\n",
        "np.save('/content/drive/MyDrive/machine learning/all_feature_test.npy', all_feature_test)"
      ],
      "execution_count": null,
      "outputs": []
    },
    {
      "cell_type": "markdown",
      "metadata": {
        "id": "xYgxdmwoz8-k"
      },
      "source": [
        "## 1.5 Image Generation"
      ]
    },
    {
      "cell_type": "code",
      "metadata": {
        "id": "hmK4vZ1OcD-O"
      },
      "source": [
        "# load Image function\n",
        "def load_image(meta_data, save_path):\n",
        "  image_array = []\n",
        "\n",
        "  for i in range(len(meta_data)):\n",
        "    p = save_path + meta_data['name'][i] + '-' + str(i) + '.png'\n",
        "    p = pathlib.Path(p)\n",
        "    a = img_to_array(load_img(p, target_size=(32, 32)))\n",
        "    image_array.append(a)\n",
        "  return np.array(image_array)"
      ],
      "execution_count": null,
      "outputs": []
    },
    {
      "cell_type": "markdown",
      "metadata": {
        "id": "d3J8Ceyyp354"
      },
      "source": [
        "### 1.4.1 Mel-frequency Spectrogram"
      ]
    },
    {
      "cell_type": "code",
      "metadata": {
        "id": "saDtdMVkqd67"
      },
      "source": [
        "pathlib.Path(f'/content/drive/MyDrive/machine learning/melspectrogram_train').mkdir(parents=True, exist_ok=True)\n",
        "pathlib.Path(f'/content/drive/MyDrive/machine learning/melspectrogram_valid').mkdir(parents=True, exist_ok=True)\n",
        "pathlib.Path(f'/content/drive/MyDrive/machine learning/melspectrogram_test').mkdir(parents=True, exist_ok=True)"
      ],
      "execution_count": null,
      "outputs": []
    },
    {
      "cell_type": "code",
      "metadata": {
        "id": "oyMj2KZQQjx4"
      },
      "source": [
        "mel_train_path = '/content/drive/MyDrive/machine learning/melspectrogram_train/'\n",
        "mel_valid_path = '/content/drive/MyDrive/machine learning/melspectrogram_valid/'\n",
        "mel_test_path = '/content/drive/MyDrive/machine learning/melspectrogram_test/'"
      ],
      "execution_count": null,
      "outputs": []
    },
    {
      "cell_type": "code",
      "metadata": {
        "id": "3LRfD4MuPtU0"
      },
      "source": [
        "def mel_spect(raw_data, meta, fold_name, save_path):\n",
        "  for i in list(meta[meta['fold']==fold_name].index):\n",
        "    signal = raw_data[i]\n",
        "    S = librosa.feature.melspectrogram(signal, n_mels = 128, fmax=8000)\n",
        "    fig, ax = plt.subplots()\n",
        "    S_dB = librosa.power_to_db(S, ref=np.max)\n",
        "    img = librosa.display.specshow(S_dB,fmax=8000, ax=ax)\n",
        "    plt.axis('off')\n",
        "    name = save_path + meta['name'][i] + '-' + str(i)\n",
        "    plt.savefig('{}.png'.format(name), bbox_inches='tight', pad_inches=0.0)\n",
        "    plt.clf()\n",
        "    plt.close()"
      ],
      "execution_count": null,
      "outputs": []
    },
    {
      "cell_type": "code",
      "metadata": {
        "id": "VsPBjR1Jh8Do",
        "collapsed": true
      },
      "source": [
        "mel_spect(test_raw_split, test_meta_split, 'fold7', mel_test_path)  "
      ],
      "execution_count": null,
      "outputs": []
    },
    {
      "cell_type": "code",
      "metadata": {
        "id": "Uw3Zl0ci57Bv"
      },
      "source": [
        "with ZipFile('/content/drive/MyDrive/machine learning/melspectrogram_valid.zip', 'r') as zipObj:\n",
        "  zipObj.extractall() "
      ],
      "execution_count": null,
      "outputs": []
    },
    {
      "cell_type": "code",
      "metadata": {
        "id": "5woGiDPC7oCr"
      },
      "source": [
        "with ZipFile('/content/drive/MyDrive/machine learning/melspectrogram_train.zip', 'r') as zipObj:\n",
        "  zipObj.extractall() "
      ],
      "execution_count": null,
      "outputs": []
    },
    {
      "cell_type": "code",
      "metadata": {
        "id": "QeoKDRkw7qro"
      },
      "source": [
        "with ZipFile('/content/drive/MyDrive/machine learning/melspectrogram_test.zip', 'r') as zipObj:\n",
        "  zipObj.extractall() "
      ],
      "execution_count": null,
      "outputs": []
    },
    {
      "cell_type": "code",
      "metadata": {
        "id": "bGtGKIBSUR-y",
        "collapsed": true
      },
      "source": [
        "mel_train_img = '/content/melspectrogram_train/'\n",
        "mel_train_array = load_image(train_meta_split, mel_train_img)  "
      ],
      "execution_count": null,
      "outputs": []
    },
    {
      "cell_type": "code",
      "metadata": {
        "id": "HkUyOff28i4X"
      },
      "source": [
        "mel_valid_img = '/content/melspectrogram_valid/'\n",
        "mel_valid_array = load_image(valid_meta_split, mel_valid_img)  "
      ],
      "execution_count": null,
      "outputs": []
    },
    {
      "cell_type": "code",
      "metadata": {
        "id": "Glh4Sghs8tUq"
      },
      "source": [
        "mel_test_img = '/content/melspectrogram_test/'\n",
        "mel_test_array = load_image(test_meta_split, mel_test_img)  "
      ],
      "execution_count": null,
      "outputs": []
    },
    {
      "cell_type": "code",
      "metadata": {
        "id": "qII7IDToG4zj"
      },
      "source": [
        "np.save('/content/drive/MyDrive/machine learning/mel_train_array.npy', mel_train_array)\n",
        "np.save('/content/drive/MyDrive/machine learning/mel_test_array.npy', mel_test_array) \n",
        "np.save('/content/drive/MyDrive/machine learning/mel_valid_array.npy', mel_valid_array) "
      ],
      "execution_count": null,
      "outputs": []
    },
    {
      "cell_type": "markdown",
      "metadata": {
        "id": "NQ6uq20op_RB"
      },
      "source": [
        "### 1.4.2 MFCCs Plot"
      ]
    },
    {
      "cell_type": "code",
      "metadata": {
        "id": "GdBLXB5CMU9s"
      },
      "source": [
        "pathlib.Path(f'/content/drive/MyDrive/machine learning/mfcc_plot_train').mkdir(parents=True, exist_ok=True)\n",
        "pathlib.Path(f'/content/drive/MyDrive/machine learning/mfcc_plot_valid').mkdir(parents=True, exist_ok=True)\n",
        "pathlib.Path(f'/content/drive/MyDrive/machine learning/mfcc_plot_test').mkdir(parents=True, exist_ok=True)"
      ],
      "execution_count": null,
      "outputs": []
    },
    {
      "cell_type": "code",
      "metadata": {
        "id": "FzhG_fcugnqS"
      },
      "source": [
        "mfcc_train_path = '/content/drive/MyDrive/machine learning/mfcc_plot_train/'\n",
        "mfcc_valid_path = '/content/drive/MyDrive/machine learning/mfcc_plot_valid/'\n",
        "mfcc_test_path = '/content/drive/MyDrive/machine learning/mfcc_plot_test/'"
      ],
      "execution_count": null,
      "outputs": []
    },
    {
      "cell_type": "code",
      "metadata": {
        "id": "vvDRXIH1METh"
      },
      "source": [
        "def mfcc_plot(raw_data, meta, fold_name, save_path):\n",
        "  for i in list(meta[meta['fold']==fold_name].index):\n",
        "    signal = raw_data[i]   \n",
        "    S = librosa.feature.mfcc(y=signal, n_mfcc=50)\n",
        "    fig, ax = plt.subplots()\n",
        "    S_dB = librosa.power_to_db(S, ref=np.max)\n",
        "    img = librosa.display.specshow(S_dB,fmax=8000, ax=ax)\n",
        "    plt.axis('off')\n",
        "    name = save_path + meta['name'][i] + '-' + str(i)\n",
        "    plt.savefig('{}.png'.format(name), bbox_inches='tight', pad_inches=0.0)\n",
        "    plt.clf()\n",
        "    plt.close()"
      ],
      "execution_count": null,
      "outputs": []
    },
    {
      "cell_type": "code",
      "metadata": {
        "id": "OgkE-abvs8iR"
      },
      "source": [
        "mfcc_plot(train_raw_split, train_meta_split, 'fold1', mfcc_train_path)"
      ],
      "execution_count": null,
      "outputs": []
    },
    {
      "cell_type": "code",
      "metadata": {
        "id": "DirVLt_qpaCE"
      },
      "source": [
        "with ZipFile('/content/drive/MyDrive/machine learning/mfcc_plot_valid.zip', 'r') as zipObj:\n",
        "  zipObj.extractall()"
      ],
      "execution_count": null,
      "outputs": []
    },
    {
      "cell_type": "code",
      "metadata": {
        "id": "_anPeMiepaC5"
      },
      "source": [
        "with ZipFile('/content/drive/MyDrive/machine learning/mfcc_plot_train.zip', 'r') as zipObj:\n",
        "  zipObj.extractall()"
      ],
      "execution_count": null,
      "outputs": []
    },
    {
      "cell_type": "code",
      "metadata": {
        "id": "vvGsDHvGpaC6"
      },
      "source": [
        "with ZipFile('/content/drive/MyDrive/machine learning/mfcc_plot_test.zip', 'r') as zipObj:\n",
        "  zipObj.extractall()"
      ],
      "execution_count": null,
      "outputs": []
    },
    {
      "cell_type": "code",
      "metadata": {
        "collapsed": true,
        "id": "kPEp3JkEpaC6"
      },
      "source": [
        "mfcc_train_img = '/content/mfcc_plot_train/'\n",
        "mfcc_train_array = load_image(train_meta_split, mfcc_train_img)"
      ],
      "execution_count": null,
      "outputs": []
    },
    {
      "cell_type": "code",
      "metadata": {
        "id": "GX_VMjLNpaC6"
      },
      "source": [
        "mfcc_valid_img = '/content/mfcc_plot_valid/'\n",
        "mfcc_valid_array = load_image(valid_meta_split, mfcc_valid_img)"
      ],
      "execution_count": null,
      "outputs": []
    },
    {
      "cell_type": "code",
      "metadata": {
        "id": "4X9O0F1YpaC7"
      },
      "source": [
        "mfcc_test_img = '/content/mfcc_plot_test/'\n",
        "mfcc_test_array = load_image(test_meta_split, mfcc_test_img)"
      ],
      "execution_count": null,
      "outputs": []
    },
    {
      "cell_type": "code",
      "metadata": {
        "id": "T1yuG76-paC7"
      },
      "source": [
        "np.save('/content/drive/MyDrive/machine learning/mfcc_train_array.npy', mfcc_train_array)\n",
        "np.save('/content/drive/MyDrive/machine learning/mfcc_test_array.npy', mfcc_test_array)\n",
        "np.save('/content/drive/MyDrive/machine learning/mfcc_valid_array.npy', mfcc_valid_array)"
      ],
      "execution_count": null,
      "outputs": []
    },
    {
      "cell_type": "markdown",
      "metadata": {
        "id": "wcmYP7J_qD25"
      },
      "source": [
        "### 1.4.3 Chromagram"
      ]
    },
    {
      "cell_type": "code",
      "metadata": {
        "id": "5UaYtwsEpjuz"
      },
      "source": [
        "pathlib.Path(f'/content/drive/MyDrive/machine learning/chromagram_train').mkdir(parents=True, exist_ok=True)\n",
        "pathlib.Path(f'/content/drive/MyDrive/machine learning/chromagram_test').mkdir(parents=True, exist_ok=True)\n",
        "pathlib.Path(f'/content/drive/MyDrive/machine learning/chromagram_valid').mkdir(parents=True, exist_ok=True)"
      ],
      "execution_count": null,
      "outputs": []
    },
    {
      "cell_type": "code",
      "metadata": {
        "id": "qAZa6dHaj4x1"
      },
      "source": [
        "chroma_train_path = '/content/drive/MyDrive/machine learning/chromagram_train/'\n",
        "chroma_valid_path = '/content/drive/MyDrive/machine learning/chromagram_valid/'\n",
        "chroma_test_path = '/content/drive/MyDrive/machine learning/chromagram_test/'"
      ],
      "execution_count": null,
      "outputs": []
    },
    {
      "cell_type": "code",
      "metadata": {
        "id": "oqYb62huOWXh"
      },
      "source": [
        "def chromagram_plot(raw_data, meta, fold_name, save_path):\n",
        "  for i in list(meta[meta['fold']==fold_name].index):\n",
        "    signal = raw_data[i]\n",
        "    chroma = librosa.feature.chroma_stft(y=signal)\n",
        "    fig, ax = plt.subplots()\n",
        "    img = librosa.display.specshow(chroma, ax= ax)\n",
        "    plt.axis('off')\n",
        "    name = save_path + meta['name'][i] + '-' + str(i)\n",
        "    plt.savefig('{}.png'.format(name), bbox_inches='tight', pad_inches=0.0)       \n",
        "    plt.clf()\n",
        "    plt.close()"
      ],
      "execution_count": null,
      "outputs": []
    },
    {
      "cell_type": "code",
      "metadata": {
        "id": "Je_3hErkxbPu"
      },
      "source": [
        "chromagram_plot(train_raw_split, train_meta_split, 'fold1', chroma_train_path) "
      ],
      "execution_count": null,
      "outputs": []
    },
    {
      "cell_type": "code",
      "metadata": {
        "id": "s_MfO2C-xjhj"
      },
      "source": [
        "with ZipFile('/content/drive/MyDrive/machine learning/chromagram_valid.zip', 'r') as zipObj:\n",
        "  zipObj.extractall() "
      ],
      "execution_count": null,
      "outputs": []
    },
    {
      "cell_type": "code",
      "metadata": {
        "id": "uiW8Ayoaxjhl"
      },
      "source": [
        "with ZipFile('/content/drive/MyDrive/machine learning/chromagram_train.zip', 'r') as zipObj:\n",
        "  zipObj.extractall() "
      ],
      "execution_count": null,
      "outputs": []
    },
    {
      "cell_type": "code",
      "metadata": {
        "id": "2IY6-gQXxjhl"
      },
      "source": [
        "with ZipFile('/content/drive/MyDrive/machine learning/chromagram_test.zip', 'r') as zipObj:\n",
        "  zipObj.extractall() "
      ],
      "execution_count": null,
      "outputs": []
    },
    {
      "cell_type": "code",
      "metadata": {
        "collapsed": true,
        "id": "PTOvdYWHxjhl"
      },
      "source": [
        "chroma_train_img = '/content/chromagram_train/'\n",
        "chroma_train_array = load_image(train_meta_split, chroma_train_img) "
      ],
      "execution_count": null,
      "outputs": []
    },
    {
      "cell_type": "code",
      "metadata": {
        "id": "q-G3P3YDxjhl"
      },
      "source": [
        "chroma_valid_img = '/content/chromagram_valid/'\n",
        "chroma_valid_array = load_image(valid_meta_split, chroma_valid_img) "
      ],
      "execution_count": null,
      "outputs": []
    },
    {
      "cell_type": "code",
      "metadata": {
        "id": "mduLoARvxjhm"
      },
      "source": [
        "chroma_test_img = '/content/chromagram_test/'\n",
        "chroma_test_array = load_image(test_meta_split, chroma_test_img) "
      ],
      "execution_count": null,
      "outputs": []
    },
    {
      "cell_type": "code",
      "metadata": {
        "id": "jA01NlxXxjhm"
      },
      "source": [
        "np.save('/content/drive/MyDrive/machine learning/chroma_train_array.npy', chroma_train_array) \n",
        "np.save('/content/drive/MyDrive/machine learning/chroma_test_array.npy', chroma_test_array) \n",
        "np.save('/content/drive/MyDrive/machine learning/chroma_valid_array.npy', chroma_valid_array) "
      ],
      "execution_count": null,
      "outputs": []
    },
    {
      "cell_type": "markdown",
      "metadata": {
        "id": "m4P7zKkJ10dZ"
      },
      "source": [
        "### 1.4.4 Combined Image"
      ]
    },
    {
      "cell_type": "code",
      "metadata": {
        "id": "TepXaFoCVYsk"
      },
      "source": [
        "mel_train_array = np.load('/content/drive/MyDrive/machine learning/mel_train_array.npy')\n",
        "mel_test_array = np.load('/content/drive/MyDrive/machine learning/mel_test_array.npy')\n",
        "mel_valid_array = np.load('/content/drive/MyDrive/machine learning/mel_valid_array.npy')"
      ],
      "execution_count": null,
      "outputs": []
    },
    {
      "cell_type": "code",
      "metadata": {
        "id": "XUpdKRLzVaiX"
      },
      "source": [
        "mfcc_train_array = np.load('/content/drive/MyDrive/machine learning/mfcc_train_array.npy')\n",
        "mfcc_test_array = np.load('/content/drive/MyDrive/machine learning/mfcc_test_array.npy')\n",
        "mfcc_valid_array = np.load('/content/drive/MyDrive/machine learning/mfcc_valid_array.npy')"
      ],
      "execution_count": null,
      "outputs": []
    },
    {
      "cell_type": "code",
      "metadata": {
        "id": "Fz_Bte6NVeaA"
      },
      "source": [
        "chroma_train_array = np.load('/content/drive/MyDrive/machine learning/chroma_train_array.npy')\n",
        "chroma_test_array = np.load('/content/drive/MyDrive/machine learning/chroma_test_array.npy')\n",
        "chroma_valid_array = np.load('/content/drive/MyDrive/machine learning/chroma_valid_array.npy')"
      ],
      "execution_count": null,
      "outputs": []
    },
    {
      "cell_type": "code",
      "metadata": {
        "id": "5Hgdrd87VgVC"
      },
      "source": [
        "def img_combine(mel_array, mfcc_array, chroma_array):\n",
        "  array_new = np.concatenate((mel_array[:,:,:,0][:,:,:,np.newaxis], mfcc_array[:,:,:,1][:,:,:,np.newaxis],chroma_array[:,:,:,2][:,:,:,np.newaxis]), axis =3)\n",
        "  return array_new"
      ],
      "execution_count": null,
      "outputs": []
    },
    {
      "cell_type": "code",
      "metadata": {
        "colab": {
          "base_uri": "https://localhost:8080/",
          "height": 284
        },
        "id": "za_JOQrjVmZL",
        "outputId": "bbfc116a-8ef7-444e-9027-acfd008872b9"
      },
      "source": [
        "plt.imshow(train_com[0].astype('float32')/255)"
      ],
      "execution_count": null,
      "outputs": [
        {
          "output_type": "execute_result",
          "data": {
            "text/plain": [
              "<matplotlib.image.AxesImage at 0x7ff7139030d0>"
            ]
          },
          "metadata": {
            "tags": []
          },
          "execution_count": 15
        },
        {
          "output_type": "display_data",
          "data": {
            "image/png": "[encoded data removed]",
            "text/plain": [
              "<Figure size 432x288 with 1 Axes>"
            ]
          },
          "metadata": {
            "tags": [],
            "needs_background": "light"
          }
        }
      ]
    },
    {
      "cell_type": "markdown",
      "metadata": {
        "id": "vSHsTQgyONrC"
      },
      "source": [
        "### 1.6 Predition"
      ]
    },
    {
      "cell_type": "code",
      "metadata": {
        "id": "vxrxejaxOcEU"
      },
      "source": [
        "def pred_label(model, X_test):\n",
        "  y_prob = model.predict(X_test, verbose = 0)\n",
        "  y_pred = []\n",
        "  for i in y_prob:\n",
        "    label = np.argmax(i)\n",
        "    y_pred.append(label)\n",
        "\n",
        "  return y_pred"
      ],
      "execution_count": 8,
      "outputs": []
    },
    {
      "cell_type": "code",
      "metadata": {
        "id": "ahpwH0dQbT6q"
      },
      "source": [
        "def plot_cm(y_true, y_pred):\n",
        "  label_name = [\"aircon\", \"horn\", \"child\", \"dog\", \"drill\", \"engine\", \"gun\", \"hammer\", \"siren\", \"music\"]\n",
        "  y_t = []\n",
        "  for i in y_true:\n",
        "    y_t.append(label_name[i])\n",
        "  y_p = []\n",
        "  for j in y_pred:\n",
        "    y_p.appedn(label_name[j])\n",
        "  cm = confusion_matrix(y_t, y_p, labels=label_name)\n",
        "  plt.figure(figsize = (16,8))\n",
        "  df_cm = pd.DataFrame(cm, label_name, label_name)\n",
        "  sns.heatmap(df_cm, annot=True, annot_kws={\"size\": 14}, fmt='g', linewidths=.5, cmap=\"YlGnBu\")"
      ],
      "execution_count": 9,
      "outputs": []
    },
    {
      "cell_type": "markdown",
      "metadata": {
        "id": "jirH67letlbE"
      },
      "source": [
        "# 2 Convolution Neural Network"
      ]
    },
    {
      "cell_type": "markdown",
      "metadata": {
        "id": "z0rFXdFNkmmw"
      },
      "source": [
        "## 2.1 Image Classification"
      ]
    },
    {
      "cell_type": "markdown",
      "metadata": {
        "id": "J_vcUtVltvaC"
      },
      "source": [
        "### 2.1.1 Image of Mel-Frequency Spectrogram"
      ]
    },
    {
      "cell_type": "code",
      "metadata": {
        "id": "_tVZb0dyq_yt"
      },
      "source": [
        "mel_train_array = np.load('/content/drive/MyDrive/machine learning/mel_train_array.npy')\n",
        "mel_valid_array = np.load('/content/drive/MyDrive/machine learning/mel_valid_array.npy')\n",
        "mel_test_array = np.load('/content/drive/MyDrive/machine learning/mel_test_array.npy')"
      ],
      "execution_count": 10,
      "outputs": []
    },
    {
      "cell_type": "code",
      "metadata": {
        "id": "KWpvIAIN90ba"
      },
      "source": [
        "X_train = mel_train_array.astype('float32')/255 \n",
        "X_valid = mel_valid_array.astype('float32')/255\n",
        "X_test = mel_test_array.astype('float32')/255"
      ],
      "execution_count": 11,
      "outputs": []
    },
    {
      "cell_type": "code",
      "metadata": {
        "id": "pQPviUVC-je8"
      },
      "source": [
        "y_train = np_utils.to_categorical(train_meta_split['label'], 10)\n",
        "y_valid = np_utils.to_categorical(valid_meta_split['label'], 10)\n",
        "y_test = np_utils.to_categorical(test_meta_split['label'], 10)"
      ],
      "execution_count": 12,
      "outputs": []
    },
    {
      "cell_type": "code",
      "metadata": {
        "id": "peoMqPsU1cI0"
      },
      "source": [
        "X_train, y_train = shuffle(X_train, y_train) \n",
        "X_valid, y_valid = shuffle(X_valid, y_valid)"
      ],
      "execution_count": 13,
      "outputs": []
    },
    {
      "cell_type": "code",
      "metadata": {
        "colab": {
          "base_uri": "https://localhost:8080/"
        },
        "id": "0R3qkw1dtK-q",
        "outputId": "011c0967-72ad-4401-bd67-4c23d711ba76"
      },
      "source": [
        "X_train.shape"
      ],
      "execution_count": 14,
      "outputs": [
        {
          "output_type": "execute_result",
          "data": {
            "text/plain": [
              "(27809, 32, 32, 3)"
            ]
          },
          "metadata": {},
          "execution_count": 14
        }
      ]
    },
    {
      "cell_type": "markdown",
      "metadata": {
        "id": "2K0vbg9PyHkf"
      },
      "source": [
        "#### 2.1.1.1 VGG with 1 bolck"
      ]
    },
    {
      "cell_type": "code",
      "metadata": {
        "id": "ciw4wzxmtuf2",
        "colab": {
          "base_uri": "https://localhost:8080/"
        },
        "outputId": "270ee8ef-f4f1-4031-f384-3f687c1e5881"
      },
      "source": [
        "model_cnn_mel_img_1 = Sequential([\n",
        "     Conv2D(32, kernel_size = (3, 3), strides=1, padding='same', activation='relu', input_shape=(32, 32, 3)),\n",
        "     Conv2D(32, kernel_size = (3, 3), strides=1, padding='same',activation='relu'), \n",
        "     MaxPooling2D(pool_size = (2, 2)),\n",
        "     Dropout(0.2),   \n",
        "\n",
        "     Flatten(),\n",
        "\n",
        "     Dense(128, activation='relu'),\n",
        "     Dropout(0.2),\n",
        "\n",
        "     Dense(10, activation='softmax')\n",
        "])\n",
        "\n",
        "model_cnn_mel_img_1.compile(optimizer = 'adam', loss='categorical_crossentropy', metrics=['accuracy'])\n",
        "\n",
        "\n",
        "model_cnn_mel_img_1.summary()"
      ],
      "execution_count": 27,
      "outputs": [
        {
          "output_type": "stream",
          "text": [
            "Model: \"sequential_1\"\n",
            "_________________________________________________________________\n",
            "Layer (type)                 Output Shape              Param #   \n",
            "=================================================================\n",
            "conv2d_2 (Conv2D)            (None, 32, 32, 32)        896       \n",
            "_________________________________________________________________\n",
            "conv2d_3 (Conv2D)            (None, 32, 32, 32)        9248      \n",
            "_________________________________________________________________\n",
            "max_pooling2d_1 (MaxPooling2 (None, 16, 16, 32)        0         \n",
            "_________________________________________________________________\n",
            "dropout_2 (Dropout)          (None, 16, 16, 32)        0         \n",
            "_________________________________________________________________\n",
            "flatten_1 (Flatten)          (None, 8192)              0         \n",
            "_________________________________________________________________\n",
            "dense_2 (Dense)              (None, 128)               1048704   \n",
            "_________________________________________________________________\n",
            "dropout_3 (Dropout)          (None, 128)               0         \n",
            "_________________________________________________________________\n",
            "dense_3 (Dense)              (None, 10)                1290      \n",
            "=================================================================\n",
            "Total params: 1,060,138\n",
            "Trainable params: 1,060,138\n",
            "Non-trainable params: 0\n",
            "_________________________________________________________________\n"
          ],
          "name": "stdout"
        }
      ]
    },
    {
      "cell_type": "code",
      "metadata": {
        "id": "M6pbDCawcfYR"
      },
      "source": [
        "es_cnn_mel_img_1 = EarlyStopping(monitor = 'val_loss', mode = 'min', verbose = 1, patience = 5)"
      ],
      "execution_count": 28,
      "outputs": []
    },
    {
      "cell_type": "code",
      "metadata": {
        "id": "xeCJhru_01ys",
        "colab": {
          "base_uri": "https://localhost:8080/"
        },
        "outputId": "04e68191-df1b-4c2a-e585-84905ccfff92"
      },
      "source": [
        "history_cnn_mel_img_1 = model_cnn_mel_img_1.fit(X_train, y_train, batch_size = 16, epochs = 50, validation_data = (X_valid, y_valid), verbose = 1, callbacks = [es_cnn_mel_img_1])"
      ],
      "execution_count": null,
      "outputs": [
        {
          "output_type": "stream",
          "text": [
            "Epoch 1/50\n",
            "1739/1739 [==============================] - 101s 58ms/step - loss: 1.0480 - accuracy: 0.6351 - val_loss: 2.1753 - val_accuracy: 0.4753\n",
            "Epoch 2/50\n",
            " 586/1739 [=========>....................] - ETA: 1:03 - loss: 0.6146 - accuracy: 0.7907"
          ],
          "name": "stdout"
        }
      ]
    },
    {
      "cell_type": "code",
      "metadata": {
        "colab": {
          "base_uri": "https://localhost:8080/",
          "height": 265
        },
        "id": "eoVbNUwbiVxQ",
        "outputId": "bac77a5d-6a06-45d4-bad1-96aab5518fe7"
      },
      "source": [
        "plt.plot(history_cnn_mel_img_1.history['loss'], label='Train')\n",
        "plt.plot(history_cnn_mel_img_1.history['val_loss'], label='Valid')\n",
        "plt.show()"
      ],
      "execution_count": 18,
      "outputs": [
        {
          "output_type": "display_data",
          "data": {
            "image/png": "[encoded data removed]",
            "text/plain": [
              "<Figure size 432x288 with 1 Axes>"
            ]
          },
          "metadata": {
            "needs_background": "light"
          }
        }
      ]
    },
    {
      "cell_type": "code",
      "metadata": {
        "id": "f4gyjJIOl6Jy"
      },
      "source": [
        "model1 = pd.DataFrame(history_cnn_mel_img_1.history.history)"
      ],
      "execution_count": 19,
      "outputs": []
    },
    {
      "cell_type": "code",
      "metadata": {
        "colab": {
          "base_uri": "https://localhost:8080/",
          "height": 237
        },
        "id": "6hSYB_GNuu33",
        "outputId": "91e9408d-213b-45b1-ed64-43270b1205cf"
      },
      "source": [
        "model1"
      ],
      "execution_count": 20,
      "outputs": [
        {
          "output_type": "execute_result",
          "data": {
            "text/html": [
              "<div>\n",
              "<style scoped>\n",
              "    .dataframe tbody tr th:only-of-type {\n",
              "        vertical-align: middle;\n",
              "    }\n",
              "\n",
              "    .dataframe tbody tr th {\n",
              "        vertical-align: top;\n",
              "    }\n",
              "\n",
              "    .dataframe thead th {\n",
              "        text-align: right;\n",
              "    }\n",
              "</style>\n",
              "<table border=\"1\" class=\"dataframe\">\n",
              "  <thead>\n",
              "    <tr style=\"text-align: right;\">\n",
              "      <th></th>\n",
              "      <th>loss</th>\n",
              "      <th>accuracy</th>\n",
              "      <th>val_loss</th>\n",
              "      <th>val_accuracy</th>\n",
              "    </tr>\n",
              "  </thead>\n",
              "  <tbody>\n",
              "    <tr>\n",
              "      <th>0</th>\n",
              "      <td>1.015204</td>\n",
              "      <td>0.650725</td>\n",
              "      <td>2.256615</td>\n",
              "      <td>0.409562</td>\n",
              "    </tr>\n",
              "    <tr>\n",
              "      <th>1</th>\n",
              "      <td>0.541108</td>\n",
              "      <td>0.813082</td>\n",
              "      <td>2.517677</td>\n",
              "      <td>0.411847</td>\n",
              "    </tr>\n",
              "    <tr>\n",
              "      <th>2</th>\n",
              "      <td>0.410069</td>\n",
              "      <td>0.855371</td>\n",
              "      <td>2.544518</td>\n",
              "      <td>0.473545</td>\n",
              "    </tr>\n",
              "    <tr>\n",
              "      <th>3</th>\n",
              "      <td>0.344342</td>\n",
              "      <td>0.877809</td>\n",
              "      <td>2.923407</td>\n",
              "      <td>0.455089</td>\n",
              "    </tr>\n",
              "    <tr>\n",
              "      <th>4</th>\n",
              "      <td>0.294073</td>\n",
              "      <td>0.894135</td>\n",
              "      <td>3.347703</td>\n",
              "      <td>0.459835</td>\n",
              "    </tr>\n",
              "    <tr>\n",
              "      <th>5</th>\n",
              "      <td>0.253964</td>\n",
              "      <td>0.909490</td>\n",
              "      <td>3.451260</td>\n",
              "      <td>0.457022</td>\n",
              "    </tr>\n",
              "  </tbody>\n",
              "</table>\n",
              "</div>"
            ],
            "text/plain": [
              "       loss  accuracy  val_loss  val_accuracy\n",
              "0  1.015204  0.650725  2.256615      0.409562\n",
              "1  0.541108  0.813082  2.517677      0.411847\n",
              "2  0.410069  0.855371  2.544518      0.473545\n",
              "3  0.344342  0.877809  2.923407      0.455089\n",
              "4  0.294073  0.894135  3.347703      0.459835\n",
              "5  0.253964  0.909490  3.451260      0.457022"
            ]
          },
          "metadata": {},
          "execution_count": 20
        }
      ]
    },
    {
      "cell_type": "code",
      "metadata": {
        "id": "h-LkqF-mNxKu"
      },
      "source": [
        "y_pred = pred_label(model_cnn_mel_img_1, X_test)"
      ],
      "execution_count": 22,
      "outputs": []
    },
    {
      "cell_type": "code",
      "metadata": {
        "colab": {
          "base_uri": "https://localhost:8080/"
        },
        "id": "P36HpI2QbKqj",
        "outputId": "ecc8714e-49aa-46ad-bae3-6b98eccca14e"
      },
      "source": [
        "zero_one_loss(test_meta_split['label'], y_pred)"
      ],
      "execution_count": 23,
      "outputs": [
        {
          "output_type": "execute_result",
          "data": {
            "text/plain": [
              "0.5255655558258332"
            ]
          },
          "metadata": {},
          "execution_count": 23
        }
      ]
    },
    {
      "cell_type": "code",
      "metadata": {
        "colab": {
          "base_uri": "https://localhost:8080/"
        },
        "id": "fUUrz6QfvZ9h",
        "outputId": "3c865cd0-91ad-4153-da15-d3d699c15155"
      },
      "source": [
        "accuracy_score(test_meta_split['label'], y_pred)"
      ],
      "execution_count": 24,
      "outputs": [
        {
          "output_type": "execute_result",
          "data": {
            "text/plain": [
              "0.47443444417416686"
            ]
          },
          "metadata": {},
          "execution_count": 24
        }
      ]
    },
    {
      "cell_type": "code",
      "metadata": {
        "colab": {
          "base_uri": "https://localhost:8080/",
          "height": 423
        },
        "id": "dC4CA_gRvgLb",
        "outputId": "65624912-ea2b-4e41-8331-c1c968a6606a"
      },
      "source": [
        "test_meta_split[test_meta_split['fold']=='fold7']"
      ],
      "execution_count": 26,
      "outputs": [
        {
          "output_type": "execute_result",
          "data": {
            "text/html": [
              "<div>\n",
              "<style scoped>\n",
              "    .dataframe tbody tr th:only-of-type {\n",
              "        vertical-align: middle;\n",
              "    }\n",
              "\n",
              "    .dataframe tbody tr th {\n",
              "        vertical-align: top;\n",
              "    }\n",
              "\n",
              "    .dataframe thead th {\n",
              "        text-align: right;\n",
              "    }\n",
              "</style>\n",
              "<table border=\"1\" class=\"dataframe\">\n",
              "  <thead>\n",
              "    <tr style=\"text-align: right;\">\n",
              "      <th></th>\n",
              "      <th>Unnamed: 0</th>\n",
              "      <th>name</th>\n",
              "      <th>fold</th>\n",
              "      <th>label</th>\n",
              "    </tr>\n",
              "  </thead>\n",
              "  <tbody>\n",
              "    <tr>\n",
              "      <th>0</th>\n",
              "      <td>0</td>\n",
              "      <td>201988-5-0-5</td>\n",
              "      <td>fold7</td>\n",
              "      <td>5</td>\n",
              "    </tr>\n",
              "    <tr>\n",
              "      <th>1</th>\n",
              "      <td>1</td>\n",
              "      <td>201988-5-0-5</td>\n",
              "      <td>fold7</td>\n",
              "      <td>5</td>\n",
              "    </tr>\n",
              "    <tr>\n",
              "      <th>2</th>\n",
              "      <td>2</td>\n",
              "      <td>201988-5-0-5</td>\n",
              "      <td>fold7</td>\n",
              "      <td>5</td>\n",
              "    </tr>\n",
              "    <tr>\n",
              "      <th>3</th>\n",
              "      <td>3</td>\n",
              "      <td>201988-5-0-5</td>\n",
              "      <td>fold7</td>\n",
              "      <td>5</td>\n",
              "    </tr>\n",
              "    <tr>\n",
              "      <th>4</th>\n",
              "      <td>4</td>\n",
              "      <td>201988-5-0-5</td>\n",
              "      <td>fold7</td>\n",
              "      <td>5</td>\n",
              "    </tr>\n",
              "    <tr>\n",
              "      <th>...</th>\n",
              "      <td>...</td>\n",
              "      <td>...</td>\n",
              "      <td>...</td>\n",
              "      <td>...</td>\n",
              "    </tr>\n",
              "    <tr>\n",
              "      <th>5272</th>\n",
              "      <td>5272</td>\n",
              "      <td>74850-9-0-11</td>\n",
              "      <td>fold7</td>\n",
              "      <td>9</td>\n",
              "    </tr>\n",
              "    <tr>\n",
              "      <th>5273</th>\n",
              "      <td>5273</td>\n",
              "      <td>74850-9-0-11</td>\n",
              "      <td>fold7</td>\n",
              "      <td>9</td>\n",
              "    </tr>\n",
              "    <tr>\n",
              "      <th>5274</th>\n",
              "      <td>5274</td>\n",
              "      <td>74850-9-0-11</td>\n",
              "      <td>fold7</td>\n",
              "      <td>9</td>\n",
              "    </tr>\n",
              "    <tr>\n",
              "      <th>5275</th>\n",
              "      <td>5275</td>\n",
              "      <td>74850-9-0-11</td>\n",
              "      <td>fold7</td>\n",
              "      <td>9</td>\n",
              "    </tr>\n",
              "    <tr>\n",
              "      <th>5276</th>\n",
              "      <td>5276</td>\n",
              "      <td>159705-6-0-0</td>\n",
              "      <td>fold7</td>\n",
              "      <td>6</td>\n",
              "    </tr>\n",
              "  </tbody>\n",
              "</table>\n",
              "<p>5277 rows × 4 columns</p>\n",
              "</div>"
            ],
            "text/plain": [
              "      Unnamed: 0          name   fold  label\n",
              "0              0  201988-5-0-5  fold7      5\n",
              "1              1  201988-5-0-5  fold7      5\n",
              "2              2  201988-5-0-5  fold7      5\n",
              "3              3  201988-5-0-5  fold7      5\n",
              "4              4  201988-5-0-5  fold7      5\n",
              "...          ...           ...    ...    ...\n",
              "5272        5272  74850-9-0-11  fold7      9\n",
              "5273        5273  74850-9-0-11  fold7      9\n",
              "5274        5274  74850-9-0-11  fold7      9\n",
              "5275        5275  74850-9-0-11  fold7      9\n",
              "5276        5276  159705-6-0-0  fold7      6\n",
              "\n",
              "[5277 rows x 4 columns]"
            ]
          },
          "metadata": {},
          "execution_count": 26
        }
      ]
    },
    {
      "cell_type": "markdown",
      "metadata": {
        "id": "2bSGh12pyUPx"
      },
      "source": [
        "#### 2.1.1.2 VGG with 3 blocks"
      ]
    },
    {
      "cell_type": "code",
      "metadata": {
        "id": "_ICHy2hUsU-m"
      },
      "source": [
        "model_cnn_mel_img_3 = Sequential([\n",
        "     Conv2D(32, kernel_size = (3, 3), strides = 1, padding = 'same', activation = 'relu', input_shape = (32, 32, 3)),\n",
        "     Conv2D(32, kernel_size = (3, 3), strides = 1, padding= 'same', activation='relu'), \n",
        "     MaxPooling2D(pool_size = (2, 2)),\n",
        "     Dropout(0.2),  \n",
        "\n",
        "     Conv2D(64, kernel_size = (3, 3), strides = 1, padding = 'same', activation = 'relu'),\n",
        "     Conv2D(64, kernel_size = (3, 3), strides = 1, padding = 'same', activation = 'relu'), \n",
        "     MaxPooling2D(pool_size = (2, 2)),\n",
        "     Dropout(0.2),  \n",
        "\n",
        "     Conv2D(128, kernel_size=(3, 3), strides = 1, padding = 'same', activation='relu'),\n",
        "     Conv2D(128, kernel_size = (3, 3), strides = 1, padding = 'same', activation = 'relu'), \n",
        "     MaxPooling2D(pool_size = (2, 2)),\n",
        "     Dropout(0.2), \n",
        "\n",
        "     Flatten(),\n",
        "\n",
        "     Dense(128, activation = 'relu'),\n",
        "     Dropout(0.2),\n",
        "\n",
        "     Dense(10, activation = 'softmax')\n",
        "])\n",
        "     \n",
        "model_cnn_mel_img_3.compile(optimizer = 'adam', loss = 'categorical_crossentropy', metrics = ['accuracy'])\n",
        "\n",
        "model_cnn_mel_img_3.summary()"
      ],
      "execution_count": null,
      "outputs": []
    },
    {
      "cell_type": "code",
      "metadata": {
        "id": "xlplmQwqsU-o"
      },
      "source": [
        "history_cnn_mel_img_3 = model_cnn_mel_img_3.fit(X_train, y_train, batch_size=16, epochs=15, validation_data=(X_valid, y_valid)) "
      ],
      "execution_count": null,
      "outputs": []
    },
    {
      "cell_type": "markdown",
      "metadata": {
        "id": "CDCUuWk_tgpt"
      },
      "source": [
        "### 2.1.2 Combined image"
      ]
    },
    {
      "cell_type": "code",
      "metadata": {
        "id": "DdfXN7vbVilb"
      },
      "source": [
        "train_com = img_combine(mel_train_array, mfcc_train_array, chroma_train_array)\n",
        "test_com = img_combine(mel_test_array, mfcc_test_array, chroma_test_array)\n",
        "valid_com = img_combine(mel_valid_array, mfcc_valid_array, chroma_valid_array)"
      ],
      "execution_count": null,
      "outputs": []
    },
    {
      "cell_type": "code",
      "metadata": {
        "id": "p5T9d2yMVvnh"
      },
      "source": [
        "X_train = train_com.astype('float32')/255\n",
        "X_test = test_com.astype('float32')/255\n",
        "X_valid = valid_com.astype('float32')/255"
      ],
      "execution_count": null,
      "outputs": []
    },
    {
      "cell_type": "code",
      "metadata": {
        "id": "iKYk4NThVvni"
      },
      "source": [
        "y_train = np_utils.to_categorical(train_meta_split['label'], 10)\n",
        "y_valid = np_utils.to_categorical(valid_meta_split['label'], 10)\n",
        "y_test = np_utils.to_categorical(test_meta_split['label'], 10)"
      ],
      "execution_count": null,
      "outputs": []
    },
    {
      "cell_type": "code",
      "metadata": {
        "id": "vTZ727twVvni"
      },
      "source": [
        "X_train, y_train = shuffle(X_train, y_train)\n",
        "X_valid, y_valid = shuffle(X_valid, y_valid)"
      ],
      "execution_count": null,
      "outputs": []
    },
    {
      "cell_type": "code",
      "metadata": {
        "id": "t94Vbbe6tdjS"
      },
      "source": [
        "model_cnn_com_1 = Sequential([\n",
        "     Conv2D(32, kernel_size = (3, 3), strides=1, padding = 'same', activation = 'relu', input_shape = (32, 32, 3)),\n",
        "     Conv2D(32, kernel_size = (3, 3), strides=1, padding = 'same', activation = 'relu'), \n",
        "     MaxPooling2D(pool_size = (2, 2)),\n",
        "     Dropout(0.2),   \n",
        "\n",
        "     Flatten(),\n",
        "\n",
        "     Dense(128, activation = 'relu'),\n",
        "     Dropout(0.2),\n",
        "\n",
        "     Dense(10, activation = 'softmax')\n",
        "])\n",
        "model_cnn_com_1.compile(optimizer = 'adam', loss = 'categorical_crossentropy', metrics = ['accuracy'])\n",
        "\n",
        "\n",
        "model_cnn_com_1.summary()"
      ],
      "execution_count": null,
      "outputs": []
    },
    {
      "cell_type": "code",
      "metadata": {
        "id": "ngDuCGnNtdjd"
      },
      "source": [
        "history_cnn_com_1 = model_cnn_com_1.fit(X_train, y_train, batch_size = 16, epochs=10, validation_data = (X_valid, y_valid))"
      ],
      "execution_count": null,
      "outputs": []
    },
    {
      "cell_type": "code",
      "metadata": {
        "id": "Yr1wUtLFtdjd"
      },
      "source": [
        "model_cnn_com_3 = Sequential([\n",
        "     Conv2D(32, kernel_size = (3, 3), strides = 1, padding = 'same', activation = 'relu', input_shape = (32, 32, 3)),\n",
        "     Conv2D(32, kernel_size = (3, 3), strides = 1, padding= 'same', activation='relu'), \n",
        "     MaxPooling2D(pool_size = (2, 2)),\n",
        "     Dropout(0.2),  \n",
        "\n",
        "     Conv2D(64, kernel_size = (3, 3), strides = 1, padding = 'same', activation = 'relu'),\n",
        "     Conv2D(64, kernel_size = (3, 3), strides = 1, padding = 'same', activation = 'relu'), \n",
        "     MaxPooling2D(pool_size = (2, 2)),\n",
        "     Dropout(0.2),  \n",
        "\n",
        "     Conv2D(128, kernel_size=(3, 3), strides = 1, padding = 'same', activation='relu'),\n",
        "     Conv2D(128, kernel_size = (3, 3), strides = 1, padding = 'same', activation = 'relu'), \n",
        "     MaxPooling2D(pool_size = (2, 2)),\n",
        "     Dropout(0.2), \n",
        "\n",
        "     Flatten(),\n",
        "\n",
        "     Dense(128, activation = 'relu'),\n",
        "     Dropout(0.2),\n",
        "\n",
        "     Dense(10, activation = 'softmax')\n",
        "])\n",
        "     \n",
        "model_cnn_com_3.compile(optimizer = 'adam', loss = 'categorical_crossentropy', metrics = ['accuracy'])\n",
        "\n",
        "model_cnn_com_3.summary()"
      ],
      "execution_count": null,
      "outputs": []
    },
    {
      "cell_type": "code",
      "metadata": {
        "id": "UJEeZGaLtdje"
      },
      "source": [
        "history_cnn_com_3 = model_cnn_com_3.fit(X_train, y_train, batch_size = 16, epochs = 15, validation_data = (X_valid, y_valid)) "
      ],
      "execution_count": null,
      "outputs": []
    },
    {
      "cell_type": "markdown",
      "metadata": {
        "id": "0LWZoEA9YAmi"
      },
      "source": [
        "## 2.2 Classification with Features\n",
        "\n",
        "- Mel-frequency Spectrogram: 128\n",
        "- Chromagram: 12\n",
        "- Tonnetz: 6\n",
        "- MFCCs: 50"
      ]
    },
    {
      "cell_type": "code",
      "metadata": {
        "id": "TVcdedUG1Oxk"
      },
      "source": [
        "all_feature_train = np.load('/content/drive/MyDrive/machine learning/all_feature_train.npy')\n",
        "all_feature_valid = np.load('/content/drive/MyDrive/machine learning/all_feature_valid.npy')\n",
        "all_feature_test = np.load('/content/drive/MyDrive/machine learning/all_feature_test.npy')"
      ],
      "execution_count": null,
      "outputs": []
    },
    {
      "cell_type": "code",
      "metadata": {
        "id": "HKqMGMR0rrFx"
      },
      "source": [
        "def add_delta(data):\n",
        "  two_channel = data[:,:,:,np.newaxis]\n",
        "  two_channel = np.concatenate((two_channel, np.zeros(np.shape(two_channel))), axis =3)\n",
        "  for i in range(len(data)):\n",
        "    feature = two_channel[i,:,:,0].T\n",
        "    two_channel[i,:,:,1] = librosa.feature.delta(feature).T\n",
        "  return two_channel"
      ],
      "execution_count": null,
      "outputs": []
    },
    {
      "cell_type": "markdown",
      "metadata": {
        "id": "E7fQvu7f0Yct"
      },
      "source": [
        "### 2.2.1 Spectrogram features"
      ]
    },
    {
      "cell_type": "code",
      "metadata": {
        "id": "2V86eYQi09Dr"
      },
      "source": [
        "mel_train_data = all_feature_train[:,:,:128]\n",
        "mel_valid_data = all_feature_valid[:,:,:128]\n",
        "mel_test_data = all_feature_test[:,:,:128]"
      ],
      "execution_count": null,
      "outputs": []
    },
    {
      "cell_type": "code",
      "metadata": {
        "id": "mADLDrP1ADXm"
      },
      "source": [
        "X_train = add_delta(mel_train_data)\n",
        "X_valid = add_delta(mel_valid_data)\n",
        "X_test = add_delta(mel_test_data)"
      ],
      "execution_count": null,
      "outputs": []
    },
    {
      "cell_type": "code",
      "metadata": {
        "id": "1b5hsB8FD3f6"
      },
      "source": [
        "y_train_label = train_meta_split['label']\n",
        "y_valid_label = valid_meta_split['label']\n",
        "y_test_label = test_meta_split['label']"
      ],
      "execution_count": null,
      "outputs": []
    },
    {
      "cell_type": "code",
      "metadata": {
        "id": "zNIu29iWD3f6"
      },
      "source": [
        "y_train = np_utils.to_categorical(y_train_label, 10)\n",
        "y_valid = np_utils.to_categorical(y_valid_label, 10)\n",
        "y_test = np_utils.to_categorical(y_test_label, 10)"
      ],
      "execution_count": null,
      "outputs": []
    },
    {
      "cell_type": "code",
      "metadata": {
        "id": "39OqTvojD3f7"
      },
      "source": [
        "X_train,y_train = shuffle(X_train, y_train) \n",
        "X_valid, y_valid = shuffle(X_valid, y_valid)"
      ],
      "execution_count": null,
      "outputs": []
    },
    {
      "cell_type": "code",
      "metadata": {
        "colab": {
          "base_uri": "https://localhost:8080/"
        },
        "id": "jnbohr0xFBo2",
        "outputId": "17829a68-6924-4902-ec8c-7d6423e40e29"
      },
      "source": [
        "X_train.shape"
      ],
      "execution_count": null,
      "outputs": [
        {
          "output_type": "execute_result",
          "data": {
            "text/plain": [
              "(27809, 41, 128, 2)"
            ]
          },
          "metadata": {
            "tags": []
          },
          "execution_count": 14
        }
      ]
    },
    {
      "cell_type": "code",
      "metadata": {
        "id": "3X0TSc3Z8R6I",
        "colab": {
          "base_uri": "https://localhost:8080/"
        },
        "outputId": "8e10aa63-b1a8-4b39-d805-9fbaa815c433"
      },
      "source": [
        "model_cnn_mel_1 = Sequential([\n",
        "     Conv2D(32, kernel_size = (3, 3), strides=1, padding = 'same', activation = 'relu', input_shape = (41, 128, 2)),\n",
        "     Conv2D(32, kernel_size = (3, 3), strides=1, padding = 'same', activation = 'relu'), \n",
        "     MaxPooling2D(pool_size = (2, 2)),\n",
        "     Dropout(0.2),   \n",
        "\n",
        "     Flatten(),\n",
        "\n",
        "     Dense(128, activation = 'relu'),\n",
        "     Dropout(0.2),\n",
        "\n",
        "     Dense(10, activation = 'softmax')\n",
        "])\n",
        "model_cnn_mel_1.compile(optimizer = 'adam', loss = 'categorical_crossentropy', metrics = ['accuracy'])\n",
        "\n",
        "\n",
        "model_cnn_mel_1.summary()"
      ],
      "execution_count": null,
      "outputs": [
        {
          "output_type": "stream",
          "text": [
            "Model: \"sequential\"\n",
            "_________________________________________________________________\n",
            "Layer (type)                 Output Shape              Param #   \n",
            "=================================================================\n",
            "conv2d (Conv2D)              (None, 41, 128, 32)       608       \n",
            "_________________________________________________________________\n",
            "conv2d_1 (Conv2D)            (None, 41, 128, 32)       1056      \n",
            "_________________________________________________________________\n",
            "max_pooling2d (MaxPooling2D) (None, 20, 64, 32)        0         \n",
            "_________________________________________________________________\n",
            "dropout (Dropout)            (None, 20, 64, 32)        0         \n",
            "_________________________________________________________________\n",
            "flatten (Flatten)            (None, 40960)             0         \n",
            "_________________________________________________________________\n",
            "dense (Dense)                (None, 128)               5243008   \n",
            "_________________________________________________________________\n",
            "dropout_1 (Dropout)          (None, 128)               0         \n",
            "_________________________________________________________________\n",
            "dense_1 (Dense)              (None, 10)                1290      \n",
            "=================================================================\n",
            "Total params: 5,245,962\n",
            "Trainable params: 5,245,962\n",
            "Non-trainable params: 0\n",
            "_________________________________________________________________\n"
          ],
          "name": "stdout"
        }
      ]
    },
    {
      "cell_type": "code",
      "metadata": {
        "id": "owoblnwD8R6Q",
        "colab": {
          "base_uri": "https://localhost:8080/"
        },
        "outputId": "b6c67b75-f972-4e7a-ac36-96f6ad754a85"
      },
      "source": [
        "history_cnn_mel_1 = model_cnn_mel_1.fit(X_train, y_train, batch_size=16, epochs=10, validation_data=(X_valid, y_valid)) "
      ],
      "execution_count": null,
      "outputs": [
        {
          "output_type": "stream",
          "text": [
            "Epoch 1/15\n",
            "1739/1739 [==============================] - 51s 13ms/step - loss: 2.3620 - accuracy: 0.3170 - val_loss: 1.8634 - val_accuracy: 0.3201\n",
            "Epoch 2/15\n",
            "1739/1739 [==============================] - 21s 12ms/step - loss: 1.3193 - accuracy: 0.5433 - val_loss: 1.6654 - val_accuracy: 0.4416\n",
            "Epoch 3/15\n",
            "1739/1739 [==============================] - 20s 12ms/step - loss: 0.9666 - accuracy: 0.6583 - val_loss: 1.6688 - val_accuracy: 0.5029\n",
            "Epoch 4/15\n",
            "1739/1739 [==============================] - 21s 12ms/step - loss: 0.7592 - accuracy: 0.7280 - val_loss: 2.4521 - val_accuracy: 0.4939\n",
            "Epoch 5/15\n",
            "1739/1739 [==============================] - 20s 12ms/step - loss: 0.6147 - accuracy: 0.7805 - val_loss: 2.4526 - val_accuracy: 0.5500\n",
            "Epoch 6/15\n",
            "1739/1739 [==============================] - 20s 11ms/step - loss: 0.5023 - accuracy: 0.8177 - val_loss: 2.2013 - val_accuracy: 0.5929\n",
            "Epoch 7/15\n",
            "1739/1739 [==============================] - 22s 13ms/step - loss: 0.4393 - accuracy: 0.8424 - val_loss: 2.9193 - val_accuracy: 0.5342\n",
            "Epoch 8/15\n",
            "1739/1739 [==============================] - 22s 12ms/step - loss: 0.4051 - accuracy: 0.8564 - val_loss: 3.6753 - val_accuracy: 0.5736\n",
            "Epoch 9/15\n",
            "1739/1739 [==============================] - 20s 11ms/step - loss: 0.3637 - accuracy: 0.8691 - val_loss: 4.4835 - val_accuracy: 0.5685\n",
            "Epoch 10/15\n",
            "1739/1739 [==============================] - 20s 11ms/step - loss: 0.3401 - accuracy: 0.8771 - val_loss: 4.0546 - val_accuracy: 0.5781\n",
            "Epoch 11/15\n",
            "1739/1739 [==============================] - 21s 12ms/step - loss: 0.3119 - accuracy: 0.8891 - val_loss: 3.7334 - val_accuracy: 0.5882\n",
            "Epoch 12/15\n",
            "1739/1739 [==============================] - 21s 12ms/step - loss: 0.2872 - accuracy: 0.8982 - val_loss: 4.1616 - val_accuracy: 0.5806\n",
            "Epoch 13/15\n",
            "1739/1739 [==============================] - 21s 12ms/step - loss: 0.2737 - accuracy: 0.9017 - val_loss: 4.6978 - val_accuracy: 0.5773\n",
            "Epoch 14/15\n",
            "1739/1739 [==============================] - 20s 11ms/step - loss: 0.2648 - accuracy: 0.9061 - val_loss: 4.5015 - val_accuracy: 0.5660\n",
            "Epoch 15/15\n",
            "1739/1739 [==============================] - 21s 12ms/step - loss: 0.2517 - accuracy: 0.9110 - val_loss: 5.1971 - val_accuracy: 0.5899\n"
          ],
          "name": "stdout"
        }
      ]
    },
    {
      "cell_type": "code",
      "metadata": {
        "colab": {
          "base_uri": "https://localhost:8080/"
        },
        "id": "YyTlSx1iHgj0",
        "outputId": "827fb0b9-fa21-4991-ae07-9a9b0fe219ed"
      },
      "source": [
        "model_cnn_mel_3 = Sequential([\n",
        "     Conv2D(32, kernel_size = (3, 3), strides = 1, padding = 'same', activation = 'relu', input_shape = (41, 128, 2)),\n",
        "     Conv2D(32, kernel_size = (3, 3), strides = 1, padding= 'same', activation='relu'), \n",
        "     MaxPooling2D(pool_size = (2, 2)),\n",
        "     Dropout(0.2),  \n",
        "\n",
        "     Conv2D(64, kernel_size = (3, 3), strides = 1, padding = 'same', activation = 'relu'),\n",
        "     Conv2D(64, kernel_size = (3, 3), strides = 1, padding = 'same', activation = 'relu'), \n",
        "     MaxPooling2D(pool_size = (2, 2)),\n",
        "     Dropout(0.2),  \n",
        "\n",
        "     Conv2D(128, kernel_size=(3, 3), strides = 1, padding = 'same', activation='relu'),\n",
        "     Conv2D(128, kernel_size = (3, 3), strides = 1, padding = 'same', activation = 'relu'), \n",
        "     MaxPooling2D(pool_size = (2, 2)),\n",
        "     Dropout(0.2), \n",
        "\n",
        "     Flatten(),\n",
        "\n",
        "     Dense(128, activation = 'relu'),\n",
        "     Dropout(0.2),\n",
        "\n",
        "     Dense(10, activation = 'softmax')\n",
        "])\n",
        "     \n",
        "model_cnn_mel_3.compile(optimizer = 'adam', loss = 'categorical_crossentropy', metrics = ['accuracy'])\n",
        "\n",
        "model_cnn_mel_3.summary()"
      ],
      "execution_count": null,
      "outputs": [
        {
          "output_type": "stream",
          "text": [
            "Model: \"sequential\"\n",
            "_________________________________________________________________\n",
            "Layer (type)                 Output Shape              Param #   \n",
            "=================================================================\n",
            "conv2d (Conv2D)              (None, 41, 128, 32)       608       \n",
            "_________________________________________________________________\n",
            "conv2d_1 (Conv2D)            (None, 41, 128, 32)       1056      \n",
            "_________________________________________________________________\n",
            "max_pooling2d (MaxPooling2D) (None, 20, 64, 32)        0         \n",
            "_________________________________________________________________\n",
            "dropout (Dropout)            (None, 20, 64, 32)        0         \n",
            "_________________________________________________________________\n",
            "conv2d_2 (Conv2D)            (None, 20, 64, 64)        18496     \n",
            "_________________________________________________________________\n",
            "conv2d_3 (Conv2D)            (None, 20, 64, 64)        4160      \n",
            "_________________________________________________________________\n",
            "max_pooling2d_1 (MaxPooling2 (None, 10, 32, 64)        0         \n",
            "_________________________________________________________________\n",
            "dropout_1 (Dropout)          (None, 10, 32, 64)        0         \n",
            "_________________________________________________________________\n",
            "conv2d_4 (Conv2D)            (None, 10, 32, 128)       73856     \n",
            "_________________________________________________________________\n",
            "conv2d_5 (Conv2D)            (None, 10, 32, 128)       16512     \n",
            "_________________________________________________________________\n",
            "max_pooling2d_2 (MaxPooling2 (None, 5, 16, 128)        0         \n",
            "_________________________________________________________________\n",
            "dropout_2 (Dropout)          (None, 5, 16, 128)        0         \n",
            "_________________________________________________________________\n",
            "flatten (Flatten)            (None, 10240)             0         \n",
            "_________________________________________________________________\n",
            "dense (Dense)                (None, 128)               1310848   \n",
            "_________________________________________________________________\n",
            "dropout_3 (Dropout)          (None, 128)               0         \n",
            "_________________________________________________________________\n",
            "dense_1 (Dense)              (None, 10)                1290      \n",
            "=================================================================\n",
            "Total params: 1,426,826\n",
            "Trainable params: 1,426,826\n",
            "Non-trainable params: 0\n",
            "_________________________________________________________________\n"
          ],
          "name": "stdout"
        }
      ]
    },
    {
      "cell_type": "code",
      "metadata": {
        "colab": {
          "base_uri": "https://localhost:8080/"
        },
        "id": "-to1An6AIS6K",
        "outputId": "a07b8c55-ef69-4dd0-d6d0-7378f6329093"
      },
      "source": [
        "history_cnn_mel_3 = model_cnn_mel_3.fit(X_train, y_train, batch_size = 16, epochs = 15, validation_data = (X_valid, y_valid)) "
      ],
      "execution_count": null,
      "outputs": [
        {
          "output_type": "stream",
          "text": [
            "Epoch 1/15\n",
            "1739/1739 [==============================] - 63s 19ms/step - loss: 1.2335 - accuracy: 0.5691 - val_loss: 1.8707 - val_accuracy: 0.5454\n",
            "Epoch 2/15\n",
            "1739/1739 [==============================] - 34s 19ms/step - loss: 0.5539 - accuracy: 0.8117 - val_loss: 2.2257 - val_accuracy: 0.5085\n",
            "Epoch 3/15\n",
            "1739/1739 [==============================] - 31s 18ms/step - loss: 0.4022 - accuracy: 0.8612 - val_loss: 2.4523 - val_accuracy: 0.5737\n",
            "Epoch 4/15\n",
            "1739/1739 [==============================] - 33s 19ms/step - loss: 0.3280 - accuracy: 0.8864 - val_loss: 2.5677 - val_accuracy: 0.5514\n",
            "Epoch 5/15\n",
            "1739/1739 [==============================] - 33s 19ms/step - loss: 0.2817 - accuracy: 0.9022 - val_loss: 2.2389 - val_accuracy: 0.5743\n",
            "Epoch 6/15\n",
            "1739/1739 [==============================] - 31s 18ms/step - loss: 0.2431 - accuracy: 0.9165 - val_loss: 2.3260 - val_accuracy: 0.5982\n",
            "Epoch 7/15\n",
            "1739/1739 [==============================] - 34s 19ms/step - loss: 0.2143 - accuracy: 0.9253 - val_loss: 3.3990 - val_accuracy: 0.5667\n",
            "Epoch 8/15\n",
            "1739/1739 [==============================] - 33s 19ms/step - loss: 0.1930 - accuracy: 0.9341 - val_loss: 3.5358 - val_accuracy: 0.6034\n",
            "Epoch 9/15\n",
            "1739/1739 [==============================] - 31s 18ms/step - loss: 0.1904 - accuracy: 0.9352 - val_loss: 3.2817 - val_accuracy: 0.5470\n",
            "Epoch 10/15\n",
            "1739/1739 [==============================] - 32s 19ms/step - loss: 0.1693 - accuracy: 0.9418 - val_loss: 3.2324 - val_accuracy: 0.5609\n",
            "Epoch 11/15\n",
            "1739/1739 [==============================] - 32s 19ms/step - loss: 0.1617 - accuracy: 0.9453 - val_loss: 3.3625 - val_accuracy: 0.5799\n",
            "Epoch 12/15\n",
            "1739/1739 [==============================] - 32s 19ms/step - loss: 0.1559 - accuracy: 0.9476 - val_loss: 3.2454 - val_accuracy: 0.5804\n",
            "Epoch 13/15\n",
            "1739/1739 [==============================] - 33s 19ms/step - loss: 0.1396 - accuracy: 0.9527 - val_loss: 3.5771 - val_accuracy: 0.5398\n",
            "Epoch 14/15\n",
            "1739/1739 [==============================] - 32s 19ms/step - loss: 0.1345 - accuracy: 0.9544 - val_loss: 4.4514 - val_accuracy: 0.5852\n",
            "Epoch 15/15\n",
            "1739/1739 [==============================] - 32s 19ms/step - loss: 0.1318 - accuracy: 0.9551 - val_loss: 3.7278 - val_accuracy: 0.6066\n"
          ],
          "name": "stdout"
        }
      ]
    },
    {
      "cell_type": "markdown",
      "metadata": {
        "id": "DFfJCxhvGVFW"
      },
      "source": [
        "### 2.2.2 All features"
      ]
    },
    {
      "cell_type": "code",
      "metadata": {
        "id": "ZdEnD9m7xVpd"
      },
      "source": [
        "X_train = add_delta(all_feature_train)\n",
        "X_valid = add_delta(all_feature_valid)\n",
        "X_test = add_delta(all_feature_test)"
      ],
      "execution_count": null,
      "outputs": []
    },
    {
      "cell_type": "code",
      "metadata": {
        "id": "-eokVlIRxVrm"
      },
      "source": [
        "y_train_label = train_meta_split['label']\n",
        "y_valid_label = valid_meta_split['label']\n",
        "y_test_label = test_meta_split['label']"
      ],
      "execution_count": null,
      "outputs": []
    },
    {
      "cell_type": "code",
      "metadata": {
        "id": "MDMlYKqGxVrm"
      },
      "source": [
        "y_train = np_utils.to_categorical(y_train_label, 10)\n",
        "y_valid = np_utils.to_categorical(y_valid_label, 10)\n",
        "y_test = np_utils.to_categorical(y_test_label, 10)"
      ],
      "execution_count": null,
      "outputs": []
    },
    {
      "cell_type": "code",
      "metadata": {
        "id": "PvLVp9HgxVrn"
      },
      "source": [
        "X_train,y_train = shuffle(X_train, y_train) \n",
        "X_valid, y_valid = shuffle(X_valid, y_valid)"
      ],
      "execution_count": null,
      "outputs": []
    },
    {
      "cell_type": "code",
      "metadata": {
        "colab": {
          "base_uri": "https://localhost:8080/"
        },
        "id": "M4lO9MQpxVrn",
        "outputId": "8e10aa63-b1a8-4b39-d805-9fbaa815c433"
      },
      "source": [
        "model_cnn_all_1 = Sequential([\n",
        "     Conv2D(32, kernel_size = (3, 3), strides=1, padding = 'same', activation = 'relu', input_shape = (41, 190, 2)),\n",
        "     Conv2D(32, kernel_size = (3, 3), strides=1, padding = 'same', activation = 'relu'), \n",
        "     MaxPooling2D(pool_size = (2, 2)),\n",
        "     Dropout(0.2),   \n",
        "\n",
        "     Flatten(),\n",
        "\n",
        "     Dense(128, activation = 'relu'),\n",
        "     Dropout(0.2),\n",
        "\n",
        "     Dense(10, activation = 'softmax')\n",
        "])\n",
        "model_cnn_all_1.compile(optimizer = 'adam', loss = 'categorical_crossentropy', metrics = ['accuracy'])\n",
        "\n",
        "\n",
        "model_cnn_all_1.summary()"
      ],
      "execution_count": null,
      "outputs": [
        {
          "output_type": "stream",
          "text": [
            "Model: \"sequential\"\n",
            "_________________________________________________________________\n",
            "Layer (type)                 Output Shape              Param #   \n",
            "=================================================================\n",
            "conv2d (Conv2D)              (None, 41, 128, 32)       608       \n",
            "_________________________________________________________________\n",
            "conv2d_1 (Conv2D)            (None, 41, 128, 32)       1056      \n",
            "_________________________________________________________________\n",
            "max_pooling2d (MaxPooling2D) (None, 20, 64, 32)        0         \n",
            "_________________________________________________________________\n",
            "dropout (Dropout)            (None, 20, 64, 32)        0         \n",
            "_________________________________________________________________\n",
            "flatten (Flatten)            (None, 40960)             0         \n",
            "_________________________________________________________________\n",
            "dense (Dense)                (None, 128)               5243008   \n",
            "_________________________________________________________________\n",
            "dropout_1 (Dropout)          (None, 128)               0         \n",
            "_________________________________________________________________\n",
            "dense_1 (Dense)              (None, 10)                1290      \n",
            "=================================================================\n",
            "Total params: 5,245,962\n",
            "Trainable params: 5,245,962\n",
            "Non-trainable params: 0\n",
            "_________________________________________________________________\n"
          ],
          "name": "stdout"
        }
      ]
    },
    {
      "cell_type": "code",
      "metadata": {
        "colab": {
          "base_uri": "https://localhost:8080/"
        },
        "id": "meqYvy6_xVsR",
        "outputId": "b6c67b75-f972-4e7a-ac36-96f6ad754a85"
      },
      "source": [
        "history_cnn_all_1 = model_cnn_all_1.fit(X_train, y_train, batch_size=16, epochs=10, validation_data=(X_valid, y_valid)) "
      ],
      "execution_count": null,
      "outputs": [
        {
          "output_type": "stream",
          "text": [
            "Epoch 1/15\n",
            "1739/1739 [==============================] - 51s 13ms/step - loss: 2.3620 - accuracy: 0.3170 - val_loss: 1.8634 - val_accuracy: 0.3201\n",
            "Epoch 2/15\n",
            "1739/1739 [==============================] - 21s 12ms/step - loss: 1.3193 - accuracy: 0.5433 - val_loss: 1.6654 - val_accuracy: 0.4416\n",
            "Epoch 3/15\n",
            "1739/1739 [==============================] - 20s 12ms/step - loss: 0.9666 - accuracy: 0.6583 - val_loss: 1.6688 - val_accuracy: 0.5029\n",
            "Epoch 4/15\n",
            "1739/1739 [==============================] - 21s 12ms/step - loss: 0.7592 - accuracy: 0.7280 - val_loss: 2.4521 - val_accuracy: 0.4939\n",
            "Epoch 5/15\n",
            "1739/1739 [==============================] - 20s 12ms/step - loss: 0.6147 - accuracy: 0.7805 - val_loss: 2.4526 - val_accuracy: 0.5500\n",
            "Epoch 6/15\n",
            "1739/1739 [==============================] - 20s 11ms/step - loss: 0.5023 - accuracy: 0.8177 - val_loss: 2.2013 - val_accuracy: 0.5929\n",
            "Epoch 7/15\n",
            "1739/1739 [==============================] - 22s 13ms/step - loss: 0.4393 - accuracy: 0.8424 - val_loss: 2.9193 - val_accuracy: 0.5342\n",
            "Epoch 8/15\n",
            "1739/1739 [==============================] - 22s 12ms/step - loss: 0.4051 - accuracy: 0.8564 - val_loss: 3.6753 - val_accuracy: 0.5736\n",
            "Epoch 9/15\n",
            "1739/1739 [==============================] - 20s 11ms/step - loss: 0.3637 - accuracy: 0.8691 - val_loss: 4.4835 - val_accuracy: 0.5685\n",
            "Epoch 10/15\n",
            "1739/1739 [==============================] - 20s 11ms/step - loss: 0.3401 - accuracy: 0.8771 - val_loss: 4.0546 - val_accuracy: 0.5781\n",
            "Epoch 11/15\n",
            "1739/1739 [==============================] - 21s 12ms/step - loss: 0.3119 - accuracy: 0.8891 - val_loss: 3.7334 - val_accuracy: 0.5882\n",
            "Epoch 12/15\n",
            "1739/1739 [==============================] - 21s 12ms/step - loss: 0.2872 - accuracy: 0.8982 - val_loss: 4.1616 - val_accuracy: 0.5806\n",
            "Epoch 13/15\n",
            "1739/1739 [==============================] - 21s 12ms/step - loss: 0.2737 - accuracy: 0.9017 - val_loss: 4.6978 - val_accuracy: 0.5773\n",
            "Epoch 14/15\n",
            "1739/1739 [==============================] - 20s 11ms/step - loss: 0.2648 - accuracy: 0.9061 - val_loss: 4.5015 - val_accuracy: 0.5660\n",
            "Epoch 15/15\n",
            "1739/1739 [==============================] - 21s 12ms/step - loss: 0.2517 - accuracy: 0.9110 - val_loss: 5.1971 - val_accuracy: 0.5899\n"
          ],
          "name": "stdout"
        }
      ]
    },
    {
      "cell_type": "code",
      "metadata": {
        "colab": {
          "base_uri": "https://localhost:8080/"
        },
        "id": "Rcdbb-jfxVsS",
        "outputId": "827fb0b9-fa21-4991-ae07-9a9b0fe219ed"
      },
      "source": [
        "model_cnn_all_3 = Sequential([\n",
        "     Conv2D(32, kernel_size = (3, 3), strides = 1, padding = 'same', activation = 'relu', input_shape = (41, 190, 2)),\n",
        "     Conv2D(32, kernel_size = (3, 3), strides = 1, padding= 'same', activation='relu'), \n",
        "     MaxPooling2D(pool_size = (2, 2)),\n",
        "     Dropout(0.2),  \n",
        "\n",
        "     Conv2D(64, kernel_size = (3, 3), strides = 1, padding = 'same', activation = 'relu'),\n",
        "     Conv2D(64, kernel_size = (3, 3), strides = 1, padding = 'same', activation = 'relu'), \n",
        "     MaxPooling2D(pool_size = (2, 2)),\n",
        "     Dropout(0.2),  \n",
        "\n",
        "     Conv2D(128, kernel_size=(3, 3), strides = 1, padding = 'same', activation='relu'),\n",
        "     Conv2D(128, kernel_size = (3, 3), strides = 1, padding = 'same', activation = 'relu'), \n",
        "     MaxPooling2D(pool_size = (2, 2)),\n",
        "     Dropout(0.2), \n",
        "\n",
        "     Flatten(),\n",
        "\n",
        "     Dense(128, activation = 'relu'),\n",
        "     Dropout(0.2),\n",
        "\n",
        "     Dense(10, activation = 'softmax')\n",
        "])\n",
        "     \n",
        "model_cnn_all_3.compile(optimizer = 'adam', loss = 'categorical_crossentropy', metrics = ['accuracy'])\n",
        "\n",
        "model_cnn_all_3.summary()"
      ],
      "execution_count": null,
      "outputs": [
        {
          "output_type": "stream",
          "text": [
            "Model: \"sequential\"\n",
            "_________________________________________________________________\n",
            "Layer (type)                 Output Shape              Param #   \n",
            "=================================================================\n",
            "conv2d (Conv2D)              (None, 41, 128, 32)       608       \n",
            "_________________________________________________________________\n",
            "conv2d_1 (Conv2D)            (None, 41, 128, 32)       1056      \n",
            "_________________________________________________________________\n",
            "max_pooling2d (MaxPooling2D) (None, 20, 64, 32)        0         \n",
            "_________________________________________________________________\n",
            "dropout (Dropout)            (None, 20, 64, 32)        0         \n",
            "_________________________________________________________________\n",
            "conv2d_2 (Conv2D)            (None, 20, 64, 64)        18496     \n",
            "_________________________________________________________________\n",
            "conv2d_3 (Conv2D)            (None, 20, 64, 64)        4160      \n",
            "_________________________________________________________________\n",
            "max_pooling2d_1 (MaxPooling2 (None, 10, 32, 64)        0         \n",
            "_________________________________________________________________\n",
            "dropout_1 (Dropout)          (None, 10, 32, 64)        0         \n",
            "_________________________________________________________________\n",
            "conv2d_4 (Conv2D)            (None, 10, 32, 128)       73856     \n",
            "_________________________________________________________________\n",
            "conv2d_5 (Conv2D)            (None, 10, 32, 128)       16512     \n",
            "_________________________________________________________________\n",
            "max_pooling2d_2 (MaxPooling2 (None, 5, 16, 128)        0         \n",
            "_________________________________________________________________\n",
            "dropout_2 (Dropout)          (None, 5, 16, 128)        0         \n",
            "_________________________________________________________________\n",
            "flatten (Flatten)            (None, 10240)             0         \n",
            "_________________________________________________________________\n",
            "dense (Dense)                (None, 128)               1310848   \n",
            "_________________________________________________________________\n",
            "dropout_3 (Dropout)          (None, 128)               0         \n",
            "_________________________________________________________________\n",
            "dense_1 (Dense)              (None, 10)                1290      \n",
            "=================================================================\n",
            "Total params: 1,426,826\n",
            "Trainable params: 1,426,826\n",
            "Non-trainable params: 0\n",
            "_________________________________________________________________\n"
          ],
          "name": "stdout"
        }
      ]
    },
    {
      "cell_type": "code",
      "metadata": {
        "colab": {
          "base_uri": "https://localhost:8080/"
        },
        "id": "jA5h_rmbxVsT",
        "outputId": "a07b8c55-ef69-4dd0-d6d0-7378f6329093"
      },
      "source": [
        "history_cnn_all_3 = model_cnn_all_3.fit(X_train, y_train, batch_size = 16, epochs = 15, validation_data = (X_valid, y_valid)) "
      ],
      "execution_count": null,
      "outputs": [
        {
          "output_type": "stream",
          "text": [
            "Epoch 1/15\n",
            "1739/1739 [==============================] - 63s 19ms/step - loss: 1.2335 - accuracy: 0.5691 - val_loss: 1.8707 - val_accuracy: 0.5454\n",
            "Epoch 2/15\n",
            "1739/1739 [==============================] - 34s 19ms/step - loss: 0.5539 - accuracy: 0.8117 - val_loss: 2.2257 - val_accuracy: 0.5085\n",
            "Epoch 3/15\n",
            "1739/1739 [==============================] - 31s 18ms/step - loss: 0.4022 - accuracy: 0.8612 - val_loss: 2.4523 - val_accuracy: 0.5737\n",
            "Epoch 4/15\n",
            "1739/1739 [==============================] - 33s 19ms/step - loss: 0.3280 - accuracy: 0.8864 - val_loss: 2.5677 - val_accuracy: 0.5514\n",
            "Epoch 5/15\n",
            "1739/1739 [==============================] - 33s 19ms/step - loss: 0.2817 - accuracy: 0.9022 - val_loss: 2.2389 - val_accuracy: 0.5743\n",
            "Epoch 6/15\n",
            "1739/1739 [==============================] - 31s 18ms/step - loss: 0.2431 - accuracy: 0.9165 - val_loss: 2.3260 - val_accuracy: 0.5982\n",
            "Epoch 7/15\n",
            "1739/1739 [==============================] - 34s 19ms/step - loss: 0.2143 - accuracy: 0.9253 - val_loss: 3.3990 - val_accuracy: 0.5667\n",
            "Epoch 8/15\n",
            "1739/1739 [==============================] - 33s 19ms/step - loss: 0.1930 - accuracy: 0.9341 - val_loss: 3.5358 - val_accuracy: 0.6034\n",
            "Epoch 9/15\n",
            "1739/1739 [==============================] - 31s 18ms/step - loss: 0.1904 - accuracy: 0.9352 - val_loss: 3.2817 - val_accuracy: 0.5470\n",
            "Epoch 10/15\n",
            "1739/1739 [==============================] - 32s 19ms/step - loss: 0.1693 - accuracy: 0.9418 - val_loss: 3.2324 - val_accuracy: 0.5609\n",
            "Epoch 11/15\n",
            "1739/1739 [==============================] - 32s 19ms/step - loss: 0.1617 - accuracy: 0.9453 - val_loss: 3.3625 - val_accuracy: 0.5799\n",
            "Epoch 12/15\n",
            "1739/1739 [==============================] - 32s 19ms/step - loss: 0.1559 - accuracy: 0.9476 - val_loss: 3.2454 - val_accuracy: 0.5804\n",
            "Epoch 13/15\n",
            "1739/1739 [==============================] - 33s 19ms/step - loss: 0.1396 - accuracy: 0.9527 - val_loss: 3.5771 - val_accuracy: 0.5398\n",
            "Epoch 14/15\n",
            "1739/1739 [==============================] - 32s 19ms/step - loss: 0.1345 - accuracy: 0.9544 - val_loss: 4.4514 - val_accuracy: 0.5852\n",
            "Epoch 15/15\n",
            "1739/1739 [==============================] - 32s 19ms/step - loss: 0.1318 - accuracy: 0.9551 - val_loss: 3.7278 - val_accuracy: 0.6066\n"
          ],
          "name": "stdout"
        }
      ]
    },
    {
      "cell_type": "markdown",
      "metadata": {
        "id": "_M4-mt_02rSc"
      },
      "source": [
        "# 3 Convolution Recurrent Neural Network"
      ]
    },
    {
      "cell_type": "markdown",
      "metadata": {
        "id": "zexCejJw2yhX"
      },
      "source": [
        "## 3.1 CRNN with Mel-Frequency Spectrogram"
      ]
    },
    {
      "cell_type": "code",
      "metadata": {
        "id": "b5J2-cRGoeW0"
      },
      "source": [
        "mel_valid_data = mel_data(valid_raw_split)"
      ],
      "execution_count": null,
      "outputs": []
    },
    {
      "cell_type": "code",
      "metadata": {
        "id": "CuZHKRoEqxiT"
      },
      "source": [
        "mel_train_data = mel_data(train_raw_split)"
      ],
      "execution_count": null,
      "outputs": []
    },
    {
      "cell_type": "code",
      "metadata": {
        "id": "nAfZROsmuAoR"
      },
      "source": [
        "train_label = train_meta_split['label']\n",
        "valid_label = valid_meta_split['label']"
      ],
      "execution_count": null,
      "outputs": []
    },
    {
      "cell_type": "code",
      "metadata": {
        "id": "ZbpNRSCVuJT9"
      },
      "source": [
        "y_train = np_utils.to_categorical(train_label,10)\n",
        "y_valid = np_utils.to_categorical(valid_label,10)"
      ],
      "execution_count": null,
      "outputs": []
    },
    {
      "cell_type": "code",
      "metadata": {
        "id": "ucROv0yIuS9Y"
      },
      "source": [
        "X_train = mel_train_data\n",
        "X_valid = mel_valid_data"
      ],
      "execution_count": null,
      "outputs": []
    },
    {
      "cell_type": "code",
      "metadata": {
        "id": "rvdMXEOkvmrv"
      },
      "source": [
        "X_train,y_train = shuffle(X_train,y_train)\n",
        "X_valid, y_valid = shuffle(X_valid, y_valid)"
      ],
      "execution_count": null,
      "outputs": []
    },
    {
      "cell_type": "code",
      "metadata": {
        "colab": {
          "base_uri": "https://localhost:8080/"
        },
        "id": "NbzdlhX3v-W-",
        "outputId": "fbf2f401-7f54-4fd4-dda7-07aebea2bc2d"
      },
      "source": [
        "model_crnn = Sequential([\n",
        "    Conv1D(16, 1, activation='relu', input_shape = (41,128)),\n",
        "    MaxPooling1D(2),\n",
        "    Dropout(0.1),\n",
        "\n",
        "    Conv1D(32, 1, activation='relu'),\n",
        "    MaxPooling1D(2),\n",
        "    Dropout(0.1),\n",
        "\n",
        "    Conv1D(64, 1, activation='relu'),\n",
        "    MaxPooling1D(2),\n",
        "    Dropout(0.1),    \n",
        "  \n",
        "\n",
        "    LSTM(96, return_sequences=False),\n",
        "    Dropout(0.4),\n",
        "\n",
        "    Flatten(),\n",
        "\n",
        "    Dense(128, activation='relu'),\n",
        "    Dropout(0.4),\n",
        "    Dense(10, activation = 'softmax')\n",
        "])\n",
        "\n",
        "\n",
        "optimizer = adam_v2.Adam(learning_rate=0.001)\n",
        "model_crnn.compile(optimizer = optimizer, loss='categorical_crossentropy', metrics=['accuracy'])\n",
        "\n",
        "\n",
        "model_crnn.summary()"
      ],
      "execution_count": null,
      "outputs": [
        {
          "output_type": "stream",
          "text": [
            "Model: \"sequential_4\"\n",
            "_________________________________________________________________\n",
            "Layer (type)                 Output Shape              Param #   \n",
            "=================================================================\n",
            "conv1d_12 (Conv1D)           (None, 41, 16)            2064      \n",
            "_________________________________________________________________\n",
            "max_pooling1d_12 (MaxPooling (None, 20, 16)            0         \n",
            "_________________________________________________________________\n",
            "dropout_20 (Dropout)         (None, 20, 16)            0         \n",
            "_________________________________________________________________\n",
            "conv1d_13 (Conv1D)           (None, 20, 32)            544       \n",
            "_________________________________________________________________\n",
            "max_pooling1d_13 (MaxPooling (None, 10, 32)            0         \n",
            "_________________________________________________________________\n",
            "dropout_21 (Dropout)         (None, 10, 32)            0         \n",
            "_________________________________________________________________\n",
            "conv1d_14 (Conv1D)           (None, 10, 64)            2112      \n",
            "_________________________________________________________________\n",
            "max_pooling1d_14 (MaxPooling (None, 5, 64)             0         \n",
            "_________________________________________________________________\n",
            "dropout_22 (Dropout)         (None, 5, 64)             0         \n",
            "_________________________________________________________________\n",
            "lstm_4 (LSTM)                (None, 96)                61824     \n",
            "_________________________________________________________________\n",
            "dropout_23 (Dropout)         (None, 96)                0         \n",
            "_________________________________________________________________\n",
            "flatten_4 (Flatten)          (None, 96)                0         \n",
            "_________________________________________________________________\n",
            "dense_8 (Dense)              (None, 128)               12416     \n",
            "_________________________________________________________________\n",
            "dropout_24 (Dropout)         (None, 128)               0         \n",
            "_________________________________________________________________\n",
            "dense_9 (Dense)              (None, 10)                1290      \n",
            "=================================================================\n",
            "Total params: 80,250\n",
            "Trainable params: 80,250\n",
            "Non-trainable params: 0\n",
            "_________________________________________________________________\n"
          ],
          "name": "stdout"
        }
      ]
    },
    {
      "cell_type": "code",
      "metadata": {
        "id": "Id8ZnjgYD8wV"
      },
      "source": [
        "history = model_crnn.fit(X_train, y_train, batch_size=16, epochs=50, validation_data=(X_valid, y_valid))"
      ],
      "execution_count": null,
      "outputs": []
    },
    {
      "cell_type": "markdown",
      "metadata": {
        "id": "UwS-pWml5zcA"
      },
      "source": [
        "## 3.2 With all features"
      ]
    },
    {
      "cell_type": "code",
      "metadata": {
        "id": "OB1V66nI59C5"
      },
      "source": [
        "X_train = all_feature_train\n",
        "X_valid = all_feature_valid"
      ],
      "execution_count": null,
      "outputs": []
    },
    {
      "cell_type": "code",
      "metadata": {
        "id": "3l7gFQzP6GCC"
      },
      "source": [
        "y_train = np_utils.to_categorical(train_meta_split['label'],10)\n",
        "y_valid = np_utils.to_categorical(valid_meta_split['label'],10)"
      ],
      "execution_count": null,
      "outputs": []
    },
    {
      "cell_type": "code",
      "metadata": {
        "id": "nbV62d4Z6Z_5"
      },
      "source": [
        "X_train,y_train = shuffle(X_train,y_train)\n",
        "X_valid, y_valid = shuffle(X_valid, y_valid)"
      ],
      "execution_count": null,
      "outputs": []
    },
    {
      "cell_type": "code",
      "metadata": {
        "colab": {
          "base_uri": "https://localhost:8080/"
        },
        "id": "4uS-F9ve6lPs",
        "outputId": "90bcf661-6798-4b49-f8ab-9ad8454a8a94"
      },
      "source": [
        "model_crnn_all = Sequential([\n",
        "    Conv1D(16, 1, activation='relu', input_shape = (41,190)),\n",
        "    MaxPooling1D(2),\n",
        "    Dropout(0.1),\n",
        "\n",
        "    Conv1D(32, 1, activation='relu'),\n",
        "    MaxPooling1D(2),\n",
        "    Dropout(0.1),\n",
        "\n",
        "    Conv1D(64, 1, activation='relu'),\n",
        "    MaxPooling1D(2),\n",
        "    Dropout(0.1),    \n",
        "  \n",
        "\n",
        "    LSTM(96, return_sequences=False),\n",
        "    Dropout(0.4),\n",
        "\n",
        "    Flatten(),\n",
        "\n",
        "    Dense(128, activation='relu'),\n",
        "    Dropout(0.4),\n",
        "    Dense(10, activation = 'softmax')\n",
        "])\n",
        "\n",
        "\n",
        "optimizer = adam_v2.Adam(learning_rate=0.001)\n",
        "model_crnn_all.compile(optimizer = optimizer, loss='categorical_crossentropy', metrics=['accuracy'])\n",
        "\n",
        "\n",
        "model_crnn_all.summary()"
      ],
      "execution_count": null,
      "outputs": [
        {
          "output_type": "stream",
          "text": [
            "Model: \"sequential_1\"\n",
            "_________________________________________________________________\n",
            "Layer (type)                 Output Shape              Param #   \n",
            "=================================================================\n",
            "conv1d_3 (Conv1D)            (None, 41, 16)            3056      \n",
            "_________________________________________________________________\n",
            "max_pooling1d_3 (MaxPooling1 (None, 20, 16)            0         \n",
            "_________________________________________________________________\n",
            "dropout_5 (Dropout)          (None, 20, 16)            0         \n",
            "_________________________________________________________________\n",
            "conv1d_4 (Conv1D)            (None, 20, 32)            544       \n",
            "_________________________________________________________________\n",
            "max_pooling1d_4 (MaxPooling1 (None, 10, 32)            0         \n",
            "_________________________________________________________________\n",
            "dropout_6 (Dropout)          (None, 10, 32)            0         \n",
            "_________________________________________________________________\n",
            "conv1d_5 (Conv1D)            (None, 10, 64)            2112      \n",
            "_________________________________________________________________\n",
            "max_pooling1d_5 (MaxPooling1 (None, 5, 64)             0         \n",
            "_________________________________________________________________\n",
            "dropout_7 (Dropout)          (None, 5, 64)             0         \n",
            "_________________________________________________________________\n",
            "lstm_1 (LSTM)                (None, 96)                61824     \n",
            "_________________________________________________________________\n",
            "dropout_8 (Dropout)          (None, 96)                0         \n",
            "_________________________________________________________________\n",
            "flatten_1 (Flatten)          (None, 96)                0         \n",
            "_________________________________________________________________\n",
            "dense_2 (Dense)              (None, 128)               12416     \n",
            "_________________________________________________________________\n",
            "dropout_9 (Dropout)          (None, 128)               0         \n",
            "_________________________________________________________________\n",
            "dense_3 (Dense)              (None, 10)                1290      \n",
            "=================================================================\n",
            "Total params: 81,242\n",
            "Trainable params: 81,242\n",
            "Non-trainable params: 0\n",
            "_________________________________________________________________\n"
          ],
          "name": "stdout"
        }
      ]
    },
    {
      "cell_type": "code",
      "metadata": {
        "id": "RQ_lrJtD6lPt"
      },
      "source": [
        "history = model_crnn_all.fit(X_train, y_train, batch_size=32, epochs=50, validation_data=(X_valid, y_valid)) "
      ],
      "execution_count": null,
      "outputs": []
    },
    {
      "cell_type": "code",
      "metadata": {
        "id": "f5jjS6dApxel"
      },
      "source": [
        ""
      ],
      "execution_count": null,
      "outputs": []
    },
    {
      "cell_type": "markdown",
      "metadata": {
        "id": "mJYG-2vC7i03"
      },
      "source": [
        "# 4 Parallel CNN-RNN Model"
      ]
    },
    {
      "cell_type": "markdown",
      "metadata": {
        "id": "VsQ7Jco-7qpL"
      },
      "source": [
        "## 4.1 with Mel-Frequency Spectrogram"
      ]
    },
    {
      "cell_type": "code",
      "metadata": {
        "id": "7piDovpnF8lq"
      },
      "source": [
        "def parallel_cnn_rnn(model_input):\n",
        "  print('Builing model...')\n",
        "  layer = model_input\n",
        "\n",
        "  ## CNN block\n",
        "  conv_1 = Conv2D(16, (3, 1), strides=1, padding = 'same', activation='relu')(layer)\n",
        "  pool_1 = MaxPooling2D((2,2))(conv_1)\n",
        "\n",
        "  conv_2 = Conv2D(32, (3, 1), strides=1, padding = 'same', activation='relu')(pool_1)\n",
        "  pool_2 = MaxPooling2D((2,2))(conv_2)\n",
        "\n",
        "  conv_3 = Conv2D(64, (3, 1), strides=1, padding = 'same', activation='relu')(pool_2)\n",
        "  pool_3 = MaxPooling2D((2,2))(conv_3)\n",
        "\n",
        "  conv_4 = Conv2D(64, (3, 1), strides=1, padding = 'same', activation='relu')(pool_3)\n",
        "  pool_4 = MaxPooling2D((2,2))(conv_4)\n",
        "\n",
        "  conv_5 = Conv2D(64, (3, 1), strides=1, padding = 'same', activation='relu')(pool_4)\n",
        "  pool_5 = MaxPooling2D((2,2))(conv_5)\n",
        "\n",
        "  flatten_1 = Flatten()(pool_5)\n",
        "\n",
        "  ## Bi-RNN block\n",
        "  pool_lstm1 = MaxPooling2D((4,2))(layer)\n",
        "  squeezed = Lambda(lambda x: keras.backend.squeeze(x, axis= -1))(pool_lstm1)\n",
        "  lstm = Bidirectional(GRU(64))(squeezed)\n",
        "\n",
        "  ## Concat two output\n",
        "  concat = concatenate([flatten_1, lstm], axis=-1)\n",
        "  output = Dense(10, activation = 'softmax')(concat)\n",
        "\n",
        "  model_output = output\n",
        "\n",
        "  model = Model(model_input, model_output)\n",
        "\n",
        "  optimizer = adam_v2.Adam(learning_rate=0.001)\n",
        "  model.compile(optimizer = optimizer, loss='categorical_crossentropy', metrics=['accuracy'])\n",
        "\n",
        "  print(model.summary())\n",
        "  \n",
        "  return model"
      ],
      "execution_count": null,
      "outputs": []
    },
    {
      "cell_type": "code",
      "metadata": {
        "colab": {
          "base_uri": "https://localhost:8080/"
        },
        "id": "SGLHzmAi4fBR",
        "outputId": "c8edff69-ca21-4077-d604-9fc11866e889"
      },
      "source": [
        "model_input = Input((41,128,1))\n",
        "model_pcrnn = parallel_cnn_rnn(model_input)"
      ],
      "execution_count": null,
      "outputs": [
        {
          "output_type": "stream",
          "text": [
            "Builing model...\n",
            "Model: \"model_1\"\n",
            "__________________________________________________________________________________________________\n",
            "Layer (type)                    Output Shape         Param #     Connected to                     \n",
            "==================================================================================================\n",
            "input_12 (InputLayer)           [(None, 41, 128, 1)] 0                                            \n",
            "__________________________________________________________________________________________________\n",
            "conv2d_52 (Conv2D)              (None, 41, 128, 16)  64          input_12[0][0]                   \n",
            "__________________________________________________________________________________________________\n",
            "max_pooling2d_48 (MaxPooling2D) (None, 20, 64, 16)   0           conv2d_52[0][0]                  \n",
            "__________________________________________________________________________________________________\n",
            "conv2d_53 (Conv2D)              (None, 20, 64, 32)   1568        max_pooling2d_48[0][0]           \n",
            "__________________________________________________________________________________________________\n",
            "max_pooling2d_49 (MaxPooling2D) (None, 10, 32, 32)   0           conv2d_53[0][0]                  \n",
            "__________________________________________________________________________________________________\n",
            "conv2d_54 (Conv2D)              (None, 10, 32, 64)   6208        max_pooling2d_49[0][0]           \n",
            "__________________________________________________________________________________________________\n",
            "max_pooling2d_50 (MaxPooling2D) (None, 5, 16, 64)    0           conv2d_54[0][0]                  \n",
            "__________________________________________________________________________________________________\n",
            "conv2d_55 (Conv2D)              (None, 5, 16, 64)    12352       max_pooling2d_50[0][0]           \n",
            "__________________________________________________________________________________________________\n",
            "max_pooling2d_51 (MaxPooling2D) (None, 2, 8, 64)     0           conv2d_55[0][0]                  \n",
            "__________________________________________________________________________________________________\n",
            "conv2d_56 (Conv2D)              (None, 2, 8, 64)     12352       max_pooling2d_51[0][0]           \n",
            "__________________________________________________________________________________________________\n",
            "max_pooling2d_53 (MaxPooling2D) (None, 10, 64, 1)    0           input_12[0][0]                   \n",
            "__________________________________________________________________________________________________\n",
            "max_pooling2d_52 (MaxPooling2D) (None, 1, 4, 64)     0           conv2d_56[0][0]                  \n",
            "__________________________________________________________________________________________________\n",
            "lambda_6 (Lambda)               (None, 10, 64)       0           max_pooling2d_53[0][0]           \n",
            "__________________________________________________________________________________________________\n",
            "flatten_6 (Flatten)             (None, 256)          0           max_pooling2d_52[0][0]           \n",
            "__________________________________________________________________________________________________\n",
            "bidirectional_3 (Bidirectional) (None, 128)          49920       lambda_6[0][0]                   \n",
            "__________________________________________________________________________________________________\n",
            "concatenate_1 (Concatenate)     (None, 384)          0           flatten_6[0][0]                  \n",
            "                                                                 bidirectional_3[0][0]            \n",
            "__________________________________________________________________________________________________\n",
            "dense_2 (Dense)                 (None, 10)           3850        concatenate_1[0][0]              \n",
            "==================================================================================================\n",
            "Total params: 86,314\n",
            "Trainable params: 86,314\n",
            "Non-trainable params: 0\n",
            "__________________________________________________________________________________________________\n",
            "None\n"
          ],
          "name": "stdout"
        }
      ]
    },
    {
      "cell_type": "code",
      "metadata": {
        "id": "84UH0UZyEtUg"
      },
      "source": [
        "X_train = mel_train_data\n",
        "X_valid = mel_valid_data"
      ],
      "execution_count": null,
      "outputs": []
    },
    {
      "cell_type": "code",
      "metadata": {
        "id": "zYZOytmHE0TU"
      },
      "source": [
        "y_train = np_utils.to_categorical(train_meta_split['label'], 10)\n",
        "y_valid = np_utils.to_categorical(valid_meta_split['label'], 10)"
      ],
      "execution_count": null,
      "outputs": []
    },
    {
      "cell_type": "code",
      "metadata": {
        "id": "8QjZ_agXFE2i"
      },
      "source": [
        "X_train, y_train = shuffle(X_train, y_train)\n",
        "X_valid, y_valid = shuffle(X_valid, y_valid)"
      ],
      "execution_count": null,
      "outputs": []
    },
    {
      "cell_type": "code",
      "metadata": {
        "colab": {
          "base_uri": "https://localhost:8080/"
        },
        "id": "GZqcMyGlFUqR",
        "outputId": "3fd30abe-5291-4ed0-9261-5ecf9b8d84e7"
      },
      "source": [
        "X_train.shape"
      ],
      "execution_count": null,
      "outputs": [
        {
          "output_type": "execute_result",
          "data": {
            "text/plain": [
              "(27809, 41, 128)"
            ]
          },
          "metadata": {
            "tags": []
          },
          "execution_count": 64
        }
      ]
    },
    {
      "cell_type": "code",
      "metadata": {
        "id": "JWwdbwEaFb0u"
      },
      "source": [
        "X_train_new = X_train[:,:,:, np.newaxis]\n",
        "X_valid_new = X_valid[:,:,:, np.newaxis]"
      ],
      "execution_count": null,
      "outputs": []
    },
    {
      "cell_type": "code",
      "metadata": {
        "colab": {
          "base_uri": "https://localhost:8080/"
        },
        "id": "e1TfRc5LF2tT",
        "outputId": "b25be281-70eb-4390-c195-883b83b52c2f"
      },
      "source": [
        "history = model_pcrnn.fit(X_train_new, y_train, batch_size=16, epochs=20, validation_data=(X_valid_new, y_valid))"
      ],
      "execution_count": null,
      "outputs": [
        {
          "output_type": "stream",
          "text": [
            "Epoch 1/20\n",
            "1739/1739 [==============================] - 15s 8ms/step - loss: 1.4123 - accuracy: 0.5054 - val_loss: 1.5817 - val_accuracy: 0.4746\n",
            "Epoch 2/20\n",
            "1739/1739 [==============================] - 13s 8ms/step - loss: 1.0647 - accuracy: 0.6281 - val_loss: 1.4374 - val_accuracy: 0.5219\n",
            "Epoch 3/20\n",
            "1739/1739 [==============================] - 13s 8ms/step - loss: 0.9034 - accuracy: 0.6896 - val_loss: 1.4349 - val_accuracy: 0.5410\n",
            "Epoch 4/20\n",
            "1739/1739 [==============================] - 13s 8ms/step - loss: 0.7966 - accuracy: 0.7339 - val_loss: 1.4858 - val_accuracy: 0.5481\n",
            "Epoch 5/20\n",
            "1739/1739 [==============================] - 13s 8ms/step - loss: 0.7023 - accuracy: 0.7643 - val_loss: 1.4322 - val_accuracy: 0.5409\n",
            "Epoch 6/20\n",
            "1739/1739 [==============================] - 13s 8ms/step - loss: 0.6511 - accuracy: 0.7828 - val_loss: 1.3742 - val_accuracy: 0.5968\n",
            "Epoch 7/20\n",
            "1739/1739 [==============================] - 13s 8ms/step - loss: 0.5923 - accuracy: 0.8033 - val_loss: 1.4562 - val_accuracy: 0.5439\n",
            "Epoch 8/20\n",
            "1739/1739 [==============================] - 13s 8ms/step - loss: 0.5462 - accuracy: 0.8200 - val_loss: 1.3576 - val_accuracy: 0.6001\n",
            "Epoch 9/20\n",
            "1739/1739 [==============================] - 13s 8ms/step - loss: 0.5237 - accuracy: 0.8257 - val_loss: 1.5481 - val_accuracy: 0.5966\n",
            "Epoch 10/20\n",
            "1739/1739 [==============================] - 13s 8ms/step - loss: 0.4822 - accuracy: 0.8388 - val_loss: 1.5300 - val_accuracy: 0.5711\n",
            "Epoch 11/20\n",
            "1739/1739 [==============================] - 13s 8ms/step - loss: 0.4524 - accuracy: 0.8490 - val_loss: 1.6072 - val_accuracy: 0.5584\n",
            "Epoch 12/20\n",
            "1739/1739 [==============================] - 14s 8ms/step - loss: 0.4275 - accuracy: 0.8547 - val_loss: 1.4385 - val_accuracy: 0.6006\n",
            "Epoch 13/20\n",
            "1739/1739 [==============================] - 14s 8ms/step - loss: 0.4131 - accuracy: 0.8611 - val_loss: 1.6482 - val_accuracy: 0.5567\n",
            "Epoch 14/20\n",
            "1739/1739 [==============================] - 14s 8ms/step - loss: 0.3854 - accuracy: 0.8694 - val_loss: 1.7011 - val_accuracy: 0.5711\n",
            "Epoch 15/20\n",
            "1739/1739 [==============================] - 13s 8ms/step - loss: 0.3806 - accuracy: 0.8705 - val_loss: 1.6068 - val_accuracy: 0.5954\n",
            "Epoch 16/20\n",
            "1739/1739 [==============================] - 13s 8ms/step - loss: 0.3588 - accuracy: 0.8780 - val_loss: 1.8276 - val_accuracy: 0.5931\n",
            "Epoch 17/20\n",
            "1739/1739 [==============================] - 13s 8ms/step - loss: 0.3454 - accuracy: 0.8811 - val_loss: 1.6952 - val_accuracy: 0.5901\n",
            "Epoch 18/20\n",
            "1739/1739 [==============================] - 13s 8ms/step - loss: 0.3512 - accuracy: 0.8771 - val_loss: 1.8997 - val_accuracy: 0.5839\n",
            "Epoch 19/20\n",
            "1739/1739 [==============================] - 14s 8ms/step - loss: 0.3327 - accuracy: 0.8859 - val_loss: 2.1920 - val_accuracy: 0.5732\n",
            "Epoch 20/20\n",
            "1739/1739 [==============================] - 13s 8ms/step - loss: 0.3225 - accuracy: 0.8908 - val_loss: 1.8743 - val_accuracy: 0.6212\n"
          ],
          "name": "stdout"
        }
      ]
    }
  ]
}