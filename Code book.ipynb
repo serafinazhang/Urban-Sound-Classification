{
  "nbformat": 4,
  "nbformat_minor": 0,
  "metadata": {
    "colab": {
      "name": "Urban Sound Classification with Neural Networks.ipynb",
      "provenance": [],
      "collapsed_sections": [
        "kOWFAjiRyQpI",
        "mhj2TeFz4aMj",
        "0LWZoEA9YAmi",
        "zexCejJw2yhX"
      ],
      "authorship_tag": "ABX9TyO/19ODVYn9CJw3a7RvG8QB",
      "include_colab_link": true
    },
    "kernelspec": {
      "name": "python3",
      "display_name": "Python 3"
    },
    "language_info": {
      "name": "python"
    },
    "accelerator": "GPU"
  },
  "cells": [
    {
      "cell_type": "markdown",
      "metadata": {
        "id": "view-in-github",
        "colab_type": "text"
      },
      "source": [
        "<a href=\"https://colab.research.google.com/github/serafinazhang/Urban-Sound-Classification/blob/main/Code%20book.ipynb\" target=\"_parent\"><img src=\"https://colab.research.google.com/assets/colab-badge.svg\" alt=\"Open In Colab\"/></a>"
      ]
    },
    {
      "cell_type": "markdown",
      "metadata": {
        "id": "pE6gP89-iF9O"
      },
      "source": [
        "# **Urban Sound Classification with Neural Networks**"
      ]
    },
    {
      "cell_type": "markdown",
      "metadata": {
        "id": "SleGnpteiKhU"
      },
      "source": [
        "# 1 Data Preprcessing"
      ]
    },
    {
      "cell_type": "markdown",
      "metadata": {
        "id": "l61SJ16EiYs7"
      },
      "source": [
        "## 1.1 Preparation"
      ]
    },
    {
      "cell_type": "code",
      "metadata": {
        "id": "XSFGKStXuZGW",
        "colab": {
          "base_uri": "https://localhost:8080/"
        },
        "collapsed": true,
        "outputId": "b6708dd5-3020-4a03-a5a1-f40b2f1afc55"
      },
      "source": [
        "!pip install librosa\n",
        "# !pip install specAugment"
      ],
      "execution_count": 1,
      "outputs": [
        {
          "output_type": "stream",
          "text": [
            "Requirement already satisfied: librosa in /usr/local/lib/python3.7/dist-packages (0.8.1)\n",
            "Requirement already satisfied: numpy>=1.15.0 in /usr/local/lib/python3.7/dist-packages (from librosa) (1.19.5)\n",
            "Requirement already satisfied: decorator>=3.0.0 in /usr/local/lib/python3.7/dist-packages (from librosa) (4.4.2)\n",
            "Requirement already satisfied: pooch>=1.0 in /usr/local/lib/python3.7/dist-packages (from librosa) (1.4.0)\n",
            "Requirement already satisfied: joblib>=0.14 in /usr/local/lib/python3.7/dist-packages (from librosa) (1.0.1)\n",
            "Requirement already satisfied: audioread>=2.0.0 in /usr/local/lib/python3.7/dist-packages (from librosa) (2.1.9)\n",
            "Requirement already satisfied: scikit-learn!=0.19.0,>=0.14.0 in /usr/local/lib/python3.7/dist-packages (from librosa) (0.22.2.post1)\n",
            "Requirement already satisfied: soundfile>=0.10.2 in /usr/local/lib/python3.7/dist-packages (from librosa) (0.10.3.post1)\n",
            "Requirement already satisfied: packaging>=20.0 in /usr/local/lib/python3.7/dist-packages (from librosa) (21.0)\n",
            "Requirement already satisfied: scipy>=1.0.0 in /usr/local/lib/python3.7/dist-packages (from librosa) (1.4.1)\n",
            "Requirement already satisfied: numba>=0.43.0 in /usr/local/lib/python3.7/dist-packages (from librosa) (0.51.2)\n",
            "Requirement already satisfied: resampy>=0.2.2 in /usr/local/lib/python3.7/dist-packages (from librosa) (0.2.2)\n",
            "Requirement already satisfied: llvmlite<0.35,>=0.34.0.dev0 in /usr/local/lib/python3.7/dist-packages (from numba>=0.43.0->librosa) (0.34.0)\n",
            "Requirement already satisfied: setuptools in /usr/local/lib/python3.7/dist-packages (from numba>=0.43.0->librosa) (57.4.0)\n",
            "Requirement already satisfied: pyparsing>=2.0.2 in /usr/local/lib/python3.7/dist-packages (from packaging>=20.0->librosa) (2.4.7)\n",
            "Requirement already satisfied: appdirs in /usr/local/lib/python3.7/dist-packages (from pooch>=1.0->librosa) (1.4.4)\n",
            "Requirement already satisfied: requests in /usr/local/lib/python3.7/dist-packages (from pooch>=1.0->librosa) (2.23.0)\n",
            "Requirement already satisfied: six>=1.3 in /usr/local/lib/python3.7/dist-packages (from resampy>=0.2.2->librosa) (1.15.0)\n",
            "Requirement already satisfied: cffi>=1.0 in /usr/local/lib/python3.7/dist-packages (from soundfile>=0.10.2->librosa) (1.14.6)\n",
            "Requirement already satisfied: pycparser in /usr/local/lib/python3.7/dist-packages (from cffi>=1.0->soundfile>=0.10.2->librosa) (2.20)\n",
            "Requirement already satisfied: idna<3,>=2.5 in /usr/local/lib/python3.7/dist-packages (from requests->pooch>=1.0->librosa) (2.10)\n",
            "Requirement already satisfied: urllib3!=1.25.0,!=1.25.1,<1.26,>=1.21.1 in /usr/local/lib/python3.7/dist-packages (from requests->pooch>=1.0->librosa) (1.24.3)\n",
            "Requirement already satisfied: chardet<4,>=3.0.2 in /usr/local/lib/python3.7/dist-packages (from requests->pooch>=1.0->librosa) (3.0.4)\n",
            "Requirement already satisfied: certifi>=2017.4.17 in /usr/local/lib/python3.7/dist-packages (from requests->pooch>=1.0->librosa) (2021.5.30)\n"
          ],
          "name": "stdout"
        }
      ]
    },
    {
      "cell_type": "code",
      "metadata": {
        "id": "G-1hASnVuZKy"
      },
      "source": [
        "import librosa\n",
        "import librosa.display\n",
        "import pandas as pd\n",
        "import numpy as np\n",
        "import glob\n",
        "import os\n",
        "import tarfile\n",
        "from google.colab import drive\n",
        "import numpy as np\n",
        "import matplotlib.pyplot as plt\n",
        "import seaborn as sns\n",
        "from collections import defaultdict, Counter\n",
        "from google.colab import files\n",
        "from zipfile import ZipFile"
      ],
      "execution_count": 2,
      "outputs": []
    },
    {
      "cell_type": "code",
      "metadata": {
        "colab": {
          "base_uri": "https://localhost:8080/"
        },
        "id": "T8VUnw63xdTv",
        "collapsed": true,
        "outputId": "7cc8dc54-36b8-4e3c-f8f0-27a2b563469a"
      },
      "source": [
        "drive.mount('/content/drive')"
      ],
      "execution_count": 3,
      "outputs": [
        {
          "output_type": "stream",
          "text": [
            "Mounted at /content/drive\n"
          ],
          "name": "stdout"
        }
      ]
    },
    {
      "cell_type": "code",
      "metadata": {
        "id": "7YIG37KQuZO2"
      },
      "source": [
        "from PIL import Image\n",
        "import pathlib\n",
        "import csv\n",
        "from sklearn import preprocessing\n",
        "from sklearn.decomposition import PCA, NMF\n",
        "from sklearn.preprocessing import LabelEncoder, StandardScaler\n",
        "from sklearn.metrics import confusion_matrix\n",
        "from sklearn.utils import shuffle\n",
        "import tensorflow as tf\n",
        "from tensorflow import keras\n",
        "from keras import layers\n",
        "from keras.layers import Activation, Dense, Dropout, Conv2D, Flatten, MaxPooling2D, GlobalMaxPooling2D, AveragePooling2D, Input, Add, TimeDistributed, LSTM, Bidirectional, Conv1D, MaxPooling1D, BatchNormalization, Lambda, GRU, concatenate\n",
        "from keras import regularizers\n",
        "from keras.layers.advanced_activations import ELU\n",
        "from keras import backend\n",
        "from keras.callbacks import ModelCheckpoint, TensorBoard, ReduceLROnPlateau\n",
        "from keras.models import Sequential, Model\n",
        "from keras.preprocessing.image import ImageDataGenerator, array_to_img, img_to_array, load_img\n",
        "from keras.utils import np_utils\n",
        "from keras.optimizers import adam_v2"
      ],
      "execution_count": 46,
      "outputs": []
    },
    {
      "cell_type": "code",
      "metadata": {
        "id": "SLFi2Z_JiPCP"
      },
      "source": [
        "file = tarfile.open(\"/content/drive/MyDrive/machine learning/UrbanSound8K.tar.gz\")\n",
        "file.extractall('/content/')"
      ],
      "execution_count": null,
      "outputs": []
    },
    {
      "cell_type": "code",
      "metadata": {
        "id": "IMwE9lX2xNlb"
      },
      "source": [
        "path = '/content/UrbanSound8K/audio/'\n",
        "def pre_clean(fold):\n",
        "  path_list = []\n",
        "  labels = []\n",
        "  folds = []\n",
        "  for i in fold:\n",
        "    this_path = os.path.join(path,i)\n",
        "    for root, dirs, files_name in os.walk(this_path):\n",
        "      files_name.remove('.DS_Store')\n",
        "      for file in files_name:\n",
        "        path_list.append(os.path.join(root,file))\n",
        "        label = file.split('-')[1]\n",
        "        folds.append(i)\n",
        "        labels.append(label)\n",
        "  return path_list, labels, folds"
      ],
      "execution_count": null,
      "outputs": []
    },
    {
      "cell_type": "code",
      "metadata": {
        "id": "kgWNjW5AxP2q"
      },
      "source": [
        "train_path_list, train_labels, train_folds = pre_clean(train_fold)\n",
        "test_path_list, test_labels, test_folds = pre_clean(test_fold)"
      ],
      "execution_count": null,
      "outputs": []
    },
    {
      "cell_type": "code",
      "metadata": {
        "id": "90YRAvT47V6G"
      },
      "source": [
        "# get raw data from load function\n",
        "def loading_raw(path_list):\n",
        "  raw_list = []\n",
        "  for i in path_list:\n",
        "    raw, st = librosa.load(i)\n",
        "    raw_list.append(raw)\n",
        "  return raw_list"
      ],
      "execution_count": null,
      "outputs": []
    },
    {
      "cell_type": "code",
      "metadata": {
        "id": "e-mIZXgG90St"
      },
      "source": [
        "train_raw = loading_raw(train_path_list)\n",
        "test_raw = loading_raw(test_path_list)"
      ],
      "execution_count": null,
      "outputs": []
    },
    {
      "cell_type": "code",
      "metadata": {
        "id": "5GsyLfUk-IvQ"
      },
      "source": [
        "np.array(train_raw,dtype=object).dump(open('/content/drive/MyDrive/machine learning/raw data/train_raw.npy', 'wb'))\n",
        "np.array(test_raw,dtype=object).dump(open('/content/drive/MyDrive/machine learning/raw data/test_raw.npy', 'wb'))"
      ],
      "execution_count": null,
      "outputs": []
    },
    {
      "cell_type": "code",
      "metadata": {
        "id": "StkKwlMa-xxK"
      },
      "source": [
        "train_label = pd.DataFrame({'fold': train_folds, 'label': train_labels, 'path_list': train_path_list})\n",
        "test_label = pd.DataFrame({'fold': test_folds, 'label': test_labels, 'path_list': test_path_list})"
      ],
      "execution_count": null,
      "outputs": []
    },
    {
      "cell_type": "code",
      "metadata": {
        "id": "4Kp5nfno_P58"
      },
      "source": [
        "train_label.to_csv('/content/drive/MyDrive/machine learning/raw data/train_label.csv')\n",
        "test_label.to_csv('/content/drive/MyDrive/machine learning/raw data/test_label.csv')"
      ],
      "execution_count": null,
      "outputs": []
    },
    {
      "cell_type": "markdown",
      "metadata": {
        "id": "DeIVljlLihwN"
      },
      "source": [
        "## 1.2 Data Loading"
      ]
    },
    {
      "cell_type": "markdown",
      "metadata": {
        "id": "8UfiGdM2-z-3"
      },
      "source": [
        "###1.2.1 Loading Raw"
      ]
    },
    {
      "cell_type": "code",
      "metadata": {
        "id": "eb_82GhpyMKh"
      },
      "source": [
        "train_fold = ['fold1', 'fold2', 'fold3', 'fold4', 'fold6']\n",
        "test_fold = ['fold5', 'fold7', 'fold8', 'fold9', 'fold10']"
      ],
      "execution_count": null,
      "outputs": []
    },
    {
      "cell_type": "code",
      "metadata": {
        "id": "lRpyWi2lyOXE"
      },
      "source": [
        "train_raw = np.load('/content/drive/MyDrive/machine learning/raw data/train_raw.npy', allow_pickle=True) # sample rate is 22050Hz\n",
        "test_raw = np.load('/content/drive/MyDrive/machine learning/raw data/test_raw.npy', allow_pickle=True)"
      ],
      "execution_count": null,
      "outputs": []
    },
    {
      "cell_type": "code",
      "metadata": {
        "id": "fmfGLhWey3rJ"
      },
      "source": [
        "train_meta = pd.read_csv('/content/drive/MyDrive/machine learning/raw data/train_label.csv')\n",
        "test_meta = pd.read_csv('/content/drive/MyDrive/machine learning/raw data/test_label.csv')"
      ],
      "execution_count": null,
      "outputs": []
    },
    {
      "cell_type": "code",
      "metadata": {
        "id": "z9DDV_8P89Yy"
      },
      "source": [
        "def extract_name(x):\n",
        "  l = x.split('/')\n",
        "  name = l[-1]\n",
        "  name = name.split('.')[0]\n",
        "  return name"
      ],
      "execution_count": null,
      "outputs": []
    },
    {
      "cell_type": "code",
      "metadata": {
        "id": "bznZ-W9B89_e"
      },
      "source": [
        "train_meta['name'] = train_meta['path_list'].apply(extract_name)\n",
        "test_meta['name'] = test_meta['path_list'].apply(extract_name)"
      ],
      "execution_count": null,
      "outputs": []
    },
    {
      "cell_type": "code",
      "metadata": {
        "id": "mJBrNHAhKEm5"
      },
      "source": [
        "valid_raw = test_raw[:936]\n",
        "test_raw = test_raw[936:]"
      ],
      "execution_count": null,
      "outputs": []
    },
    {
      "cell_type": "code",
      "metadata": {
        "id": "a0oTHxsFMJ4V"
      },
      "source": [
        "valid_meta = test_meta[:936]"
      ],
      "execution_count": null,
      "outputs": []
    },
    {
      "cell_type": "code",
      "metadata": {
        "id": "DiE36L1OMPJG"
      },
      "source": [
        "test_meta = test_meta[936:].reset_index()"
      ],
      "execution_count": null,
      "outputs": []
    },
    {
      "cell_type": "markdown",
      "metadata": {
        "id": "-eJEZFQx-4un"
      },
      "source": [
        "###1.2.2 Slicing Raw"
      ]
    },
    {
      "cell_type": "code",
      "metadata": {
        "id": "2h4btmuvPkwf"
      },
      "source": [
        "def windows(data, window_size):\n",
        "    start = 0\n",
        "    while start < len(data):\n",
        "        yield start, start + window_size\n",
        "        start += (window_size / 2)"
      ],
      "execution_count": null,
      "outputs": []
    },
    {
      "cell_type": "code",
      "metadata": {
        "id": "HAUb_6PxwR0d"
      },
      "source": [
        "def re_split(raw_data, meta_data, frames = 41):\n",
        "  column_names = ['name', 'fold', \"label\"]\n",
        "  df = pd.DataFrame(columns=column_names)\n",
        "  array_list = []\n",
        "\n",
        "  window_size = 512 * (frames - 1)\n",
        "  for i in range(len(raw_data)):\n",
        "    sound_clip = raw_data[i]\n",
        "\n",
        "    for (start,end) in windows(sound_clip,window_size):\n",
        "      if(len(sound_clip[int(start):int(end)]) == int(window_size)):\n",
        "        signal = sound_clip[int(start):int(end)]\n",
        "        array_list.append(signal)\n",
        "        df = df.append({'name': meta_data['name'][i], 'fold': meta_data['fold'][i], 'label': meta_data['label'][i]}, ignore_index = True)\n",
        "\n",
        "  return np.array(array_list), df"
      ],
      "execution_count": null,
      "outputs": []
    },
    {
      "cell_type": "code",
      "metadata": {
        "id": "pWOcuYoHxUAx"
      },
      "source": [
        "train_raw_split, train_meta_split = re_split(train_raw, train_meta)\n",
        "test_raw_split, test_meta_split = re_split(test_raw, test_meta)\n",
        "valid_raw_split, valid_meta_split = re_split(valid_raw, valid_meta)"
      ],
      "execution_count": null,
      "outputs": []
    },
    {
      "cell_type": "code",
      "metadata": {
        "id": "XscoWxC68OVf"
      },
      "source": [
        "np.save('/content/drive/MyDrive/machine learning/train_raw_split.npy', train_raw_split)\n",
        "np.save('/content/drive/MyDrive/machine learning/test_raw_split.npy', test_raw_split)\n",
        "np.save('/content/drive/MyDrive/machine learning/valid_raw_split.npy', valid_raw_split)"
      ],
      "execution_count": null,
      "outputs": []
    },
    {
      "cell_type": "code",
      "metadata": {
        "id": "xRVyGenG9d9v"
      },
      "source": [
        "train_meta_split.to_csv('/content/drive/MyDrive/machine learning/train_meta_split.csv')\n",
        "test_meta_split.to_csv('/content/drive/MyDrive/machine learning/test_meta_split.csv')\n",
        "valid_meta_split.to_csv('/content/drive/MyDrive/machine learning/valid_meta_split.csv')"
      ],
      "execution_count": null,
      "outputs": []
    },
    {
      "cell_type": "code",
      "metadata": {
        "id": "29Z9gzwCytOf"
      },
      "source": [
        "train_raw_split = np.load('/content/drive/MyDrive/machine learning/train_raw_split.npy')\n",
        "test_raw_split = np.load('/content/drive/MyDrive/machine learning/test_raw_split.npy')\n",
        "valid_raw_split = np.load('/content/drive/MyDrive/machine learning/valid_raw_split.npy')"
      ],
      "execution_count": 5,
      "outputs": []
    },
    {
      "cell_type": "code",
      "metadata": {
        "id": "uqFammwj_dht"
      },
      "source": [
        "train_meta_split = pd.read_csv('/content/drive/MyDrive/machine learning/train_meta_split.csv')\n",
        "test_meta_split = pd.read_csv('/content/drive/MyDrive/machine learning/test_meta_split.csv')\n",
        "valid_meta_split = pd.read_csv('/content/drive/MyDrive/machine learning/valid_meta_split.csv')"
      ],
      "execution_count": 6,
      "outputs": []
    },
    {
      "cell_type": "markdown",
      "metadata": {
        "id": "kOWFAjiRyQpI"
      },
      "source": [
        "## 1.3 Data Visualization"
      ]
    },
    {
      "cell_type": "code",
      "metadata": {
        "id": "evGMvHNEyakf"
      },
      "source": [
        "v_test = '/content/UrbanSound8K/audio/fold1/102305-6-0-0.wav'\n",
        "v_test2 = '/content/UrbanSound8K/audio/fold5/100032-3-0-0.wav'\n",
        "sound, sr = librosa.load(v_test)\n",
        "sound2, sr2 = librosa.load(v_test2)"
      ],
      "execution_count": null,
      "outputs": []
    },
    {
      "cell_type": "code",
      "metadata": {
        "id": "PU_kmR0NeCdG"
      },
      "source": [
        "S = librosa.feature.melspectrogram(y=sound, sr=sr, n_mels=128)"
      ],
      "execution_count": null,
      "outputs": []
    },
    {
      "cell_type": "code",
      "metadata": {
        "id": "Zynmy6Pntwxd"
      },
      "source": [
        "mfcc_t = librosa.feature.mfcc(S=librosa.power_to_db(S), n_mfcc=10)"
      ],
      "execution_count": null,
      "outputs": []
    },
    {
      "cell_type": "code",
      "metadata": {
        "colab": {
          "base_uri": "https://localhost:8080/"
        },
        "id": "DkZe4J0Pte5k",
        "outputId": "868739a8-43f6-4744-c496-9f29616de881"
      },
      "source": [
        "fig, ax = plt.subplots()\n",
        "img = librosa.display.specshow(mfcc_t, x_axis='time', ax=ax)\n",
        "fig.colorbar(img, ax=ax)\n",
        "ax.set(title='MFCC')"
      ],
      "execution_count": null,
      "outputs": [
        {
          "output_type": "execute_result",
          "data": {
            "text/plain": [
              "[Text(0.5, 1.0, 'MFCC')]"
            ]
          },
          "metadata": {
            "tags": []
          },
          "execution_count": 72
        },
        {
          "output_type": "display_data",
          "data": {
            "image/png": "[encoded data removed]",
            "text/plain": [
              "<Figure size 432x288 with 2 Axes>"
            ]
          },
          "metadata": {
            "tags": [],
            "needs_background": "light"
          }
        }
      ]
    },
    {
      "cell_type": "code",
      "metadata": {
        "colab": {
          "base_uri": "https://localhost:8080/"
        },
        "id": "PwM3Py7vt1MB",
        "outputId": "0c528989-9e8b-43bf-e623-e7ef590dea0f"
      },
      "source": [
        "fig, ax = plt.subplots()\n",
        "img = librosa.display.specshow(mfcc_t2, x_axis='time', ax=ax)\n",
        "fig.colorbar(img, ax=ax)\n",
        "ax.set(title='MFCC')"
      ],
      "execution_count": null,
      "outputs": [
        {
          "output_type": "execute_result",
          "data": {
            "text/plain": [
              "[Text(0.5, 1.0, 'MFCC')]"
            ]
          },
          "metadata": {
            "tags": []
          },
          "execution_count": 64
        },
        {
          "output_type": "display_data",
          "data": {
            "image/png": "[encoded data removed]",
            "text/plain": [
              "<Figure size 432x288 with 2 Axes>"
            ]
          },
          "metadata": {
            "tags": [],
            "needs_background": "light"
          }
        }
      ]
    },
    {
      "cell_type": "code",
      "metadata": {
        "id": "2zM_IS9fmqEL"
      },
      "source": [
        "pp = '/content/drive/MyDrive/machine learning/melspectrogram_train/102305-6-0-0.png'\n",
        "tt = img_to_array(load_img(pp,target_size=(64, 64)))"
      ],
      "execution_count": null,
      "outputs": []
    },
    {
      "cell_type": "code",
      "metadata": {
        "id": "frMnYURTnwGF"
      },
      "source": [
        "rgb_weights = [0.2989, 0.5870, 0.1140]\n",
        "image_grey = np.dot(tt, rgb_weights)"
      ],
      "execution_count": null,
      "outputs": []
    },
    {
      "cell_type": "code",
      "metadata": {
        "colab": {
          "base_uri": "https://localhost:8080/"
        },
        "id": "EIYqGIHEn_NK",
        "outputId": "878fcbbd-4902-454e-8637-7b196d036e34"
      },
      "source": [
        "image_grey.shape"
      ],
      "execution_count": null,
      "outputs": [
        {
          "output_type": "execute_result",
          "data": {
            "text/plain": [
              "(64, 64)"
            ]
          },
          "metadata": {
            "tags": []
          },
          "execution_count": 22
        }
      ]
    },
    {
      "cell_type": "code",
      "metadata": {
        "id": "830s5Tuy2PDP"
      },
      "source": [
        "S = librosa.feature.melspectrogram(y=sound, sr=sr, n_mels=128)\n",
        "S2 = librosa.feature.melspectrogram(y=sound2, sr=sr2, n_mels=128)"
      ],
      "execution_count": null,
      "outputs": []
    },
    {
      "cell_type": "code",
      "metadata": {
        "id": "J6UH11-Y7HaU"
      },
      "source": [
        "S_dB = librosa.power_to_db(S, ref=np.max)"
      ],
      "execution_count": null,
      "outputs": []
    },
    {
      "cell_type": "code",
      "metadata": {
        "colab": {
          "base_uri": "https://localhost:8080/"
        },
        "id": "v5TEfBtm8EbR",
        "outputId": "953beef7-1baf-4881-ec0e-9fa1b9622fa2"
      },
      "source": [
        "S_dB.shape"
      ],
      "execution_count": null,
      "outputs": [
        {
          "output_type": "execute_result",
          "data": {
            "text/plain": [
              "(128, 113)"
            ]
          },
          "metadata": {
            "tags": []
          },
          "execution_count": 34
        }
      ]
    },
    {
      "cell_type": "code",
      "metadata": {
        "id": "Z796NOT79mBb"
      },
      "source": [
        "S_dB2 = librosa.power_to_db(S2, ref=np.max)"
      ],
      "execution_count": null,
      "outputs": []
    },
    {
      "cell_type": "code",
      "metadata": {
        "colab": {
          "base_uri": "https://localhost:8080/"
        },
        "id": "DGpnA_gf7Iwg",
        "outputId": "af5928cd-b8ac-4541-8e46-6c04e9a09609"
      },
      "source": [
        "S.shape"
      ],
      "execution_count": null,
      "outputs": [
        {
          "output_type": "execute_result",
          "data": {
            "text/plain": [
              "(128, 113)"
            ]
          },
          "metadata": {
            "tags": []
          },
          "execution_count": 85
        }
      ]
    },
    {
      "cell_type": "code",
      "metadata": {
        "colab": {
          "base_uri": "https://localhost:8080/"
        },
        "id": "3hkKyXDcPrtJ",
        "outputId": "f674309d-fefc-4130-97be-01b4181787fa"
      },
      "source": [
        "sacts.shape"
      ],
      "execution_count": null,
      "outputs": [
        {
          "output_type": "execute_result",
          "data": {
            "text/plain": [
              "(16, 113)"
            ]
          },
          "metadata": {
            "tags": []
          },
          "execution_count": 87
        }
      ]
    },
    {
      "cell_type": "code",
      "metadata": {
        "colab": {
          "base_uri": "https://localhost:8080/",
          "height": 313
        },
        "id": "XaCJCfJA26r2",
        "outputId": "94f9ccff-2e89-425f-f8db-ab4037a09d87"
      },
      "source": [
        "fig, ax = plt.subplots()\n",
        "S_dB = librosa.power_to_db(S2, ref=np.max)\n",
        "img = librosa.display.specshow(S_dB,cmap='gray_r', x_axis='time',\n",
        "                         y_axis='mel', sr=sr, ax=ax)\n",
        "plt.colorbar(img, ax=ax, format='%+2.0f dB')\n",
        "plt.set_cmap(\"gray\")\n",
        "ax.set(title='Mel-frequency spectrogram')"
      ],
      "execution_count": null,
      "outputs": [
        {
          "output_type": "execute_result",
          "data": {
            "text/plain": [
              "[Text(0.5, 1.0, 'Mel-frequency spectrogram')]"
            ]
          },
          "metadata": {
            "tags": []
          },
          "execution_count": 82
        },
        {
          "output_type": "display_data",
          "data": {
            "image/png": "[encoded data removed]",
            "text/plain": [
              "<Figure size 432x288 with 2 Axes>"
            ]
          },
          "metadata": {
            "tags": [],
            "needs_background": "light"
          }
        }
      ]
    },
    {
      "cell_type": "code",
      "metadata": {
        "colab": {
          "base_uri": "https://localhost:8080/"
        },
        "id": "YSrIfU61IXUQ",
        "outputId": "d5d1feac-0547-4be5-c050-27cbbf57320a"
      },
      "source": [
        "S_dB.shape"
      ],
      "execution_count": null,
      "outputs": [
        {
          "output_type": "execute_result",
          "data": {
            "text/plain": [
              "(128, 14)"
            ]
          },
          "metadata": {
            "tags": []
          },
          "execution_count": 83
        }
      ]
    },
    {
      "cell_type": "code",
      "metadata": {
        "colab": {
          "base_uri": "https://localhost:8080/",
          "height": 313
        },
        "id": "OvztuiOd3SG6",
        "outputId": "98b38698-8652-401a-d0fc-d3154f6b819f"
      },
      "source": [
        "fig, ax = plt.subplots()\n",
        "S_dB2 = librosa.power_to_db(S2, ref=np.max)\n",
        "img2 = librosa.display.specshow(S_dB2, x_axis='time',\n",
        "                         y_axis='mel', sr=sr2, ax=ax)\n",
        "fig.colorbar(img2, ax=ax, format='%+2.0f dB')\n",
        "ax.set(title='Mel-frequency spectrogram')"
      ],
      "execution_count": null,
      "outputs": [
        {
          "output_type": "execute_result",
          "data": {
            "text/plain": [
              "[Text(0.5, 1.0, 'Mel-frequency spectrogram')]"
            ]
          },
          "metadata": {
            "tags": []
          },
          "execution_count": 65
        },
        {
          "output_type": "display_data",
          "data": {
            "image/png": "[encoded data removed]",
            "text/plain": [
              "<Figure size 432x288 with 2 Axes>"
            ]
          },
          "metadata": {
            "tags": [],
            "needs_background": "light"
          }
        }
      ]
    },
    {
      "cell_type": "code",
      "metadata": {
        "id": "CSJ-CmQq4fSn"
      },
      "source": [
        "S2 = np.abs(librosa.stft(sound))"
      ],
      "execution_count": null,
      "outputs": []
    },
    {
      "cell_type": "code",
      "metadata": {
        "colab": {
          "base_uri": "https://localhost:8080/"
        },
        "id": "T7G5nnDXJQNj",
        "outputId": "699a33e2-01db-4e32-eb70-c5786bd029a6"
      },
      "source": [
        "S2.shape"
      ],
      "execution_count": null,
      "outputs": [
        {
          "output_type": "execute_result",
          "data": {
            "text/plain": [
              "(1025, 173)"
            ]
          },
          "metadata": {
            "tags": []
          },
          "execution_count": 77
        }
      ]
    },
    {
      "cell_type": "code",
      "metadata": {
        "id": "v21VBOixJBUX"
      },
      "source": [
        "comps2, acts2 = librosa.decompose.decompose(S, n_components=5)\n",
        "S_approx2 = comps2.dot(acts2)"
      ],
      "execution_count": null,
      "outputs": []
    },
    {
      "cell_type": "code",
      "metadata": {
        "id": "USbyfggILVh5"
      },
      "source": [
        "comps3, acts3 = librosa.decompose.decompose(S, n_components=200)\n",
        "S_approx3 = comps3.dot(acts3)"
      ],
      "execution_count": null,
      "outputs": []
    },
    {
      "cell_type": "code",
      "metadata": {
        "colab": {
          "base_uri": "https://localhost:8080/"
        },
        "id": "vGrNU39uIlvQ",
        "outputId": "7932d530-b4a4-4665-b948-9cb0feb0c3d3"
      },
      "source": [
        "comps3.shape"
      ],
      "execution_count": null,
      "outputs": [
        {
          "output_type": "execute_result",
          "data": {
            "text/plain": [
              "(128, 16)"
            ]
          },
          "metadata": {
            "tags": []
          },
          "execution_count": 55
        }
      ]
    },
    {
      "cell_type": "code",
      "metadata": {
        "colab": {
          "base_uri": "https://localhost:8080/",
          "height": 313
        },
        "id": "99HgTsFK-U71",
        "outputId": "14b1d411-a93f-497f-cdfd-bef2ab5b421e"
      },
      "source": [
        "fig, ax = plt.subplots()\n",
        "S_dB = librosa.amplitude_to_db(S, ref=np.max)\n",
        "img = librosa.display.specshow(S_dB, x_axis='time',\n",
        "                         y_axis='mel', sr=sr, ax=ax)\n",
        "fig.colorbar(img, ax=ax, format='%+2.0f dB')\n",
        "ax.set(title='reconstruct')"
      ],
      "execution_count": null,
      "outputs": [
        {
          "output_type": "execute_result",
          "data": {
            "text/plain": [
              "[Text(0.5, 1.0, 'reconstruct')]"
            ]
          },
          "metadata": {
            "tags": []
          },
          "execution_count": 65
        },
        {
          "output_type": "display_data",
          "data": {
            "image/png": "[encoded data removed]",
            "text/plain": [
              "<Figure size 432x288 with 2 Axes>"
            ]
          },
          "metadata": {
            "tags": [],
            "needs_background": "light"
          }
        }
      ]
    },
    {
      "cell_type": "code",
      "metadata": {
        "colab": {
          "base_uri": "https://localhost:8080/",
          "height": 313
        },
        "id": "vHEE2E3wBEYf",
        "outputId": "79742108-3203-479b-abde-9e9af2f07fb5"
      },
      "source": [
        "fig, ax = plt.subplots()\n",
        "S_dB = librosa.amplitude_to_db(S_approx2, ref=np.max)\n",
        "img = librosa.display.specshow(S_dB, x_axis='time',\n",
        "                         y_axis='mel', sr=sr, ax=ax)\n",
        "fig.colorbar(img, ax=ax, format='%+2.0f dB')\n",
        "ax.set(title='reconstruct')"
      ],
      "execution_count": null,
      "outputs": [
        {
          "output_type": "execute_result",
          "data": {
            "text/plain": [
              "[Text(0.5, 1.0, 'reconstruct')]"
            ]
          },
          "metadata": {
            "tags": []
          },
          "execution_count": 66
        },
        {
          "output_type": "display_data",
          "data": {
            "image/png": "[encoded data removed]",
            "text/plain": [
              "<Figure size 432x288 with 2 Axes>"
            ]
          },
          "metadata": {
            "tags": [],
            "needs_background": "light"
          }
        }
      ]
    },
    {
      "cell_type": "code",
      "metadata": {
        "colab": {
          "base_uri": "https://localhost:8080/",
          "height": 313
        },
        "id": "sPiQz5nWLg3X",
        "outputId": "f8dbc4e5-0f50-41fc-c9c4-521fdb216fd5"
      },
      "source": [
        "fig, ax = plt.subplots()\n",
        "S_dB = librosa.amplitude_to_db(S_approx3, ref=np.max)\n",
        "img = librosa.display.specshow(S_dB, x_axis='time',\n",
        "                         y_axis='mel', sr=sr, ax=ax)\n",
        "fig.colorbar(img, ax=ax, format='%+2.0f dB')\n",
        "ax.set(title='reconstruct')"
      ],
      "execution_count": null,
      "outputs": [
        {
          "output_type": "execute_result",
          "data": {
            "text/plain": [
              "[Text(0.5, 1.0, 'reconstruct')]"
            ]
          },
          "metadata": {
            "tags": []
          },
          "execution_count": 69
        },
        {
          "output_type": "display_data",
          "data": {
            "image/png": "[encoded data removed]",
            "text/plain": [
              "<Figure size 432x288 with 2 Axes>"
            ]
          },
          "metadata": {
            "tags": [],
            "needs_background": "light"
          }
        }
      ]
    },
    {
      "cell_type": "code",
      "metadata": {
        "colab": {
          "base_uri": "https://localhost:8080/"
        },
        "id": "9JOaKZpYHrR1",
        "outputId": "5f4c87da-73e8-48fa-983e-4737d9399fcb"
      },
      "source": [
        "Counter(meta['classID'])"
      ],
      "execution_count": null,
      "outputs": [
        {
          "output_type": "execute_result",
          "data": {
            "text/plain": [
              "Counter({0: 1000,\n",
              "         1: 429,\n",
              "         2: 1000,\n",
              "         3: 1000,\n",
              "         4: 1000,\n",
              "         5: 1000,\n",
              "         6: 374,\n",
              "         7: 1000,\n",
              "         8: 929,\n",
              "         9: 1000})"
            ]
          },
          "metadata": {
            "tags": []
          },
          "execution_count": 78
        }
      ]
    },
    {
      "cell_type": "markdown",
      "metadata": {
        "id": "DclZcNwCpvhQ"
      },
      "source": [
        "## 1.4 Feature Extraction"
      ]
    },
    {
      "cell_type": "code",
      "metadata": {
        "id": "4VMC6RHO0I7H"
      },
      "source": [
        "def mel_data(raw_data):\n",
        "  mel_fre = []\n",
        "  for i in range(len(raw_data)):\n",
        "    signal = raw_data[i]\n",
        "    S = librosa.feature.melspectrogram(signal, n_mels = 128, fmax=8000)\n",
        "    S_dB = librosa.power_to_db(S, ref=np.max).T\n",
        "    f = S_dB.flatten()\n",
        "    mel_fre.append(f)\n",
        "  mel_fre = np.asarray(mel_fre).reshape(len(raw_data),41,128)\n",
        "  return mel_fre"
      ],
      "execution_count": 7,
      "outputs": []
    },
    {
      "cell_type": "code",
      "metadata": {
        "id": "eBcuryEE0I7J"
      },
      "source": [
        "def mfcc_data(raw_data):\n",
        "  mfcc = []\n",
        "  for i in range(len(raw_data)): \n",
        "    signal = raw_data[i] \n",
        "    S = librosa.feature.mfcc(y=signal, n_mfcc=50)\n",
        "    S_dB = librosa.power_to_db(S, ref=np.max).T\n",
        "    f = S_dB.flatten()\n",
        "    mfcc.append(f)\n",
        "  mfcc = np.asarray(mfcc).reshape(len(raw_data),41,50) \n",
        "  return mfcc"
      ],
      "execution_count": 13,
      "outputs": []
    },
    {
      "cell_type": "code",
      "metadata": {
        "id": "Oz6MATJe0KOx"
      },
      "source": [
        "def chroma_data(raw_data):\n",
        "  chroma_d = []\n",
        "  for i in range(len(raw_data)):\n",
        "    signal = raw_data[i]\n",
        "    chroma = librosa.feature.chroma_stft(y=signal).T\n",
        "    f = chroma.flatten()\n",
        "    chroma_d.append(f)\n",
        "  chroma_d = np.asarray(chroma_d).reshape(len(raw_data),41,12) \n",
        "  return chroma_d"
      ],
      "execution_count": 14,
      "outputs": []
    },
    {
      "cell_type": "code",
      "metadata": {
        "id": "EzuWFR-P1KLi"
      },
      "source": [
        "mel_train_data = mel_data(train_raw_split)\n",
        "mel_valid_data = mel_data(valid_raw_split)"
      ],
      "execution_count": 8,
      "outputs": []
    },
    {
      "cell_type": "code",
      "metadata": {
        "id": "8ja6L5RK1KLj"
      },
      "source": [
        "mfcc_train_data = mfcc_data(train_raw_split)\n",
        "mfcc_valid_data = mfcc_data(valid_raw_split)"
      ],
      "execution_count": 16,
      "outputs": []
    },
    {
      "cell_type": "code",
      "metadata": {
        "id": "q5O6eyEd5kwU"
      },
      "source": [
        "mel_test_data = mel_data(test_raw_split)\n",
        "mfcc_test_data = mfcc_data(test_raw_split)"
      ],
      "execution_count": null,
      "outputs": []
    },
    {
      "cell_type": "code",
      "metadata": {
        "colab": {
          "base_uri": "https://localhost:8080/"
        },
        "id": "bUwC03dd1WVe",
        "outputId": "ff97d4c0-f3f0-44bf-c731-b658b7daaff2"
      },
      "source": [
        "chroma_train_data = chroma_data(train_raw_split)\n",
        "chroma_valid_data = chroma_data(valid_raw_split)"
      ],
      "execution_count": 17,
      "outputs": [
        {
          "output_type": "stream",
          "text": [
            "/usr/local/lib/python3.7/dist-packages/librosa/core/pitch.py:153: UserWarning: Trying to estimate tuning from empty frequency set.\n",
            "  warnings.warn(\"Trying to estimate tuning from empty frequency set.\")\n"
          ],
          "name": "stderr"
        }
      ]
    },
    {
      "cell_type": "code",
      "metadata": {
        "id": "qUvrKS_q5pSF"
      },
      "source": [
        "chroma_test_data = chroma_data(test_raw_split)"
      ],
      "execution_count": null,
      "outputs": []
    },
    {
      "cell_type": "code",
      "metadata": {
        "id": "YyPrKPUB1cQt"
      },
      "source": [
        "all_feature_train = np.concatenate((mel_train_data, mfcc_train_data, chroma_train_data), axis = 2)"
      ],
      "execution_count": 18,
      "outputs": []
    },
    {
      "cell_type": "code",
      "metadata": {
        "id": "DpG4dCki3rMB"
      },
      "source": [
        "np.save('/content/drive/MyDrive/machine learning/all_feature_train.npy', all_feature_train)"
      ],
      "execution_count": 19,
      "outputs": []
    },
    {
      "cell_type": "code",
      "metadata": {
        "id": "A0eCRMpz1cTl"
      },
      "source": [
        "all_feature_valid = np.concatenate((mel_valid_data, mfcc_valid_data, chroma_valid_data), axis = 2)"
      ],
      "execution_count": 20,
      "outputs": []
    },
    {
      "cell_type": "code",
      "metadata": {
        "id": "aMO0MnNB4ADh"
      },
      "source": [
        "np.save('/content/drive/MyDrive/machine learning/all_feature_valid.npy', all_feature_valid)"
      ],
      "execution_count": 21,
      "outputs": []
    },
    {
      "cell_type": "code",
      "metadata": {
        "id": "mI9BtJaG3jhj"
      },
      "source": [
        "all_feature_test = np.concatenate((mel_test_data, mfcc_test_data, chroma_test_data), axis = 2)"
      ],
      "execution_count": null,
      "outputs": []
    },
    {
      "cell_type": "code",
      "metadata": {
        "id": "KKrh4nTL4CV-"
      },
      "source": [
        "np.save('/content/drive/MyDrive/machine learning/all_feature_test.npy', all_feature_test)"
      ],
      "execution_count": null,
      "outputs": []
    },
    {
      "cell_type": "markdown",
      "metadata": {
        "id": "xYgxdmwoz8-k"
      },
      "source": [
        "## 1.5 Image Generation"
      ]
    },
    {
      "cell_type": "code",
      "metadata": {
        "id": "hmK4vZ1OcD-O"
      },
      "source": [
        "# load Image function\n",
        "def load_image(meta_data, save_path):\n",
        "  image_array = []\n",
        "\n",
        "  for i in range(len(meta_data)):\n",
        "    p = save_path + meta_data['name'][i] + '-' + str(i) + '.png'\n",
        "    p = pathlib.Path(p)\n",
        "    a = img_to_array(load_img(p, target_size=(32, 32)))\n",
        "    image_array.append(a)\n",
        "  return np.array(image_array)"
      ],
      "execution_count": null,
      "outputs": []
    },
    {
      "cell_type": "markdown",
      "metadata": {
        "id": "d3J8Ceyyp354"
      },
      "source": [
        "### 1.4.1 Mel-frequency Spectrogram"
      ]
    },
    {
      "cell_type": "code",
      "metadata": {
        "id": "saDtdMVkqd67"
      },
      "source": [
        "pathlib.Path(f'/content/drive/MyDrive/machine learning/melspectrogram_train').mkdir(parents=True, exist_ok=True)\n",
        "pathlib.Path(f'/content/drive/MyDrive/machine learning/melspectrogram_valid').mkdir(parents=True, exist_ok=True)\n",
        "pathlib.Path(f'/content/drive/MyDrive/machine learning/melspectrogram_test').mkdir(parents=True, exist_ok=True)"
      ],
      "execution_count": 37,
      "outputs": []
    },
    {
      "cell_type": "code",
      "metadata": {
        "id": "oyMj2KZQQjx4"
      },
      "source": [
        "mel_train_path = '/content/drive/MyDrive/machine learning/melspectrogram_train/'\n",
        "mel_valid_path = '/content/drive/MyDrive/machine learning/melspectrogram_valid/'\n",
        "mel_test_path = '/content/drive/MyDrive/machine learning/melspectrogram_test/'"
      ],
      "execution_count": 38,
      "outputs": []
    },
    {
      "cell_type": "code",
      "metadata": {
        "id": "3LRfD4MuPtU0"
      },
      "source": [
        "def mel_spect(raw_data, meta, fold_name, save_path):\n",
        "  for i in list(meta[meta['fold']==fold_name].index):\n",
        "    signal = raw_data[i]\n",
        "    S = librosa.feature.melspectrogram(signal, n_mels = 128, fmax=8000)\n",
        "    fig, ax = plt.subplots()\n",
        "    S_dB = librosa.power_to_db(S, ref=np.max)\n",
        "    img = librosa.display.specshow(S_dB,fmax=8000, ax=ax)\n",
        "    plt.axis('off')\n",
        "    name = save_path + meta['name'][i] + '-' + str(i)\n",
        "    plt.savefig('{}.png'.format(name), bbox_inches='tight', pad_inches=0.0)\n",
        "    plt.clf()\n",
        "    plt.close()"
      ],
      "execution_count": 39,
      "outputs": []
    },
    {
      "cell_type": "code",
      "metadata": {
        "id": "VsPBjR1Jh8Do",
        "collapsed": true
      },
      "source": [
        "mel_spect(test_raw_split, test_meta_split, 'fold7', mel_test_path)  "
      ],
      "execution_count": null,
      "outputs": []
    },
    {
      "cell_type": "code",
      "metadata": {
        "id": "Uw3Zl0ci57Bv"
      },
      "source": [
        "with ZipFile('/content/drive/MyDrive/machine learning/melspectrogram_valid.zip', 'r') as zipObj:\n",
        "  zipObj.extractall() "
      ],
      "execution_count": null,
      "outputs": []
    },
    {
      "cell_type": "code",
      "metadata": {
        "id": "5woGiDPC7oCr"
      },
      "source": [
        "with ZipFile('/content/drive/MyDrive/machine learning/melspectrogram_train.zip', 'r') as zipObj:\n",
        "  zipObj.extractall() "
      ],
      "execution_count": null,
      "outputs": []
    },
    {
      "cell_type": "code",
      "metadata": {
        "id": "QeoKDRkw7qro"
      },
      "source": [
        "with ZipFile('/content/drive/MyDrive/machine learning/melspectrogram_test.zip', 'r') as zipObj:\n",
        "  zipObj.extractall() "
      ],
      "execution_count": null,
      "outputs": []
    },
    {
      "cell_type": "code",
      "metadata": {
        "id": "bGtGKIBSUR-y",
        "collapsed": true
      },
      "source": [
        "mel_train_img = '/content/melspectrogram_train/'\n",
        "mel_train_array = load_image(train_meta_split, mel_train_img)  "
      ],
      "execution_count": null,
      "outputs": []
    },
    {
      "cell_type": "code",
      "metadata": {
        "id": "HkUyOff28i4X"
      },
      "source": [
        "mel_valid_img = '/content/melspectrogram_valid/'\n",
        "mel_valid_array = load_image(valid_meta_split, mel_valid_img)  "
      ],
      "execution_count": null,
      "outputs": []
    },
    {
      "cell_type": "code",
      "metadata": {
        "id": "Glh4Sghs8tUq"
      },
      "source": [
        "mel_test_img = '/content/melspectrogram_test/'\n",
        "mel_test_array = load_image(test_meta_split, mel_test_img)  "
      ],
      "execution_count": null,
      "outputs": []
    },
    {
      "cell_type": "code",
      "metadata": {
        "id": "qII7IDToG4zj"
      },
      "source": [
        "np.save('/content/drive/MyDrive/machine learning/mel_train_array.npy', mel_train_array)\n",
        "np.save('/content/drive/MyDrive/machine learning/mel_test_array.npy', mel_test_array) \n",
        "np.save('/content/drive/MyDrive/machine learning/mel_valid_array.npy', mel_valid_array) "
      ],
      "execution_count": null,
      "outputs": []
    },
    {
      "cell_type": "markdown",
      "metadata": {
        "id": "NQ6uq20op_RB"
      },
      "source": [
        "### 1.4.2 MFCCs Plot"
      ]
    },
    {
      "cell_type": "code",
      "metadata": {
        "id": "GdBLXB5CMU9s"
      },
      "source": [
        "pathlib.Path(f'/content/drive/MyDrive/machine learning/mfcc_plot_train').mkdir(parents=True, exist_ok=True)\n",
        "pathlib.Path(f'/content/drive/MyDrive/machine learning/mfcc_plot_valid').mkdir(parents=True, exist_ok=True)\n",
        "pathlib.Path(f'/content/drive/MyDrive/machine learning/mfcc_plot_test').mkdir(parents=True, exist_ok=True)"
      ],
      "execution_count": null,
      "outputs": []
    },
    {
      "cell_type": "code",
      "metadata": {
        "id": "FzhG_fcugnqS"
      },
      "source": [
        "mfcc_train_path = '/content/drive/MyDrive/machine learning/mfcc_plot_train/'\n",
        "mfcc_valid_path = '/content/drive/MyDrive/machine learning/mfcc_plot_valid/'\n",
        "mfcc_test_path = '/content/drive/MyDrive/machine learning/mfcc_plot_test/'"
      ],
      "execution_count": null,
      "outputs": []
    },
    {
      "cell_type": "code",
      "metadata": {
        "id": "vvDRXIH1METh"
      },
      "source": [
        "def mfcc_plot(raw_data, meta, fold_name, save_path):\n",
        "  for i in list(meta[meta['fold']==fold_name].index):\n",
        "    signal = raw_data[i]   \n",
        "    S = librosa.feature.mfcc(y=signal, n_mfcc=50)\n",
        "    fig, ax = plt.subplots()\n",
        "    S_dB = librosa.power_to_db(S, ref=np.max)\n",
        "    img = librosa.display.specshow(S_dB,fmax=8000, ax=ax)\n",
        "    plt.axis('off')\n",
        "    name = save_path + meta['name'][i] + '-' + str(i)\n",
        "    plt.savefig('{}.png'.format(name), bbox_inches='tight', pad_inches=0.0)\n",
        "    plt.clf()\n",
        "    plt.close()"
      ],
      "execution_count": null,
      "outputs": []
    },
    {
      "cell_type": "code",
      "metadata": {
        "id": "OgkE-abvs8iR"
      },
      "source": [
        "mfcc_plot(train_raw_split, train_meta_split, 'fold1', mfcc_train_path)"
      ],
      "execution_count": null,
      "outputs": []
    },
    {
      "cell_type": "code",
      "metadata": {
        "id": "DirVLt_qpaCE"
      },
      "source": [
        "with ZipFile('/content/drive/MyDrive/machine learning/mfcc_plot_valid.zip', 'r') as zipObj:\n",
        "  zipObj.extractall()"
      ],
      "execution_count": null,
      "outputs": []
    },
    {
      "cell_type": "code",
      "metadata": {
        "id": "_anPeMiepaC5"
      },
      "source": [
        "with ZipFile('/content/drive/MyDrive/machine learning/mfcc_plot_train.zip', 'r') as zipObj:\n",
        "  zipObj.extractall()"
      ],
      "execution_count": null,
      "outputs": []
    },
    {
      "cell_type": "code",
      "metadata": {
        "id": "vvGsDHvGpaC6"
      },
      "source": [
        "with ZipFile('/content/drive/MyDrive/machine learning/mfcc_plot_test.zip', 'r') as zipObj:\n",
        "  zipObj.extractall()"
      ],
      "execution_count": null,
      "outputs": []
    },
    {
      "cell_type": "code",
      "metadata": {
        "collapsed": true,
        "id": "kPEp3JkEpaC6"
      },
      "source": [
        "mfcc_train_img = '/content/mfcc_plot_train/'\n",
        "mfcc_train_array = load_image(train_meta_split, mfcc_train_img)"
      ],
      "execution_count": null,
      "outputs": []
    },
    {
      "cell_type": "code",
      "metadata": {
        "id": "GX_VMjLNpaC6"
      },
      "source": [
        "mfcc_valid_img = '/content/mfcc_plot_valid/'\n",
        "mfcc_valid_array = load_image(valid_meta_split, mfcc_valid_img)"
      ],
      "execution_count": null,
      "outputs": []
    },
    {
      "cell_type": "code",
      "metadata": {
        "id": "4X9O0F1YpaC7"
      },
      "source": [
        "mfcc_test_img = '/content/mfcc_plot_test/'\n",
        "mfcc_test_array = load_image(test_meta_split, mfcc_test_img)"
      ],
      "execution_count": null,
      "outputs": []
    },
    {
      "cell_type": "code",
      "metadata": {
        "id": "T1yuG76-paC7"
      },
      "source": [
        "np.save('/content/drive/MyDrive/machine learning/mfcc_train_array.npy', mfcc_train_array)\n",
        "np.save('/content/drive/MyDrive/machine learning/mfcc_test_array.npy', mfcc_test_array)\n",
        "np.save('/content/drive/MyDrive/machine learning/mfcc_valid_array.npy', mfcc_valid_array)"
      ],
      "execution_count": null,
      "outputs": []
    },
    {
      "cell_type": "markdown",
      "metadata": {
        "id": "wcmYP7J_qD25"
      },
      "source": [
        "### 1.4.3 Chromagram"
      ]
    },
    {
      "cell_type": "code",
      "metadata": {
        "id": "5UaYtwsEpjuz"
      },
      "source": [
        "pathlib.Path(f'/content/drive/MyDrive/machine learning/chromagram_train').mkdir(parents=True, exist_ok=True)\n",
        "pathlib.Path(f'/content/drive/MyDrive/machine learning/chromagram_test').mkdir(parents=True, exist_ok=True)\n",
        "pathlib.Path(f'/content/drive/MyDrive/machine learning/chromagram_valid').mkdir(parents=True, exist_ok=True)"
      ],
      "execution_count": 41,
      "outputs": []
    },
    {
      "cell_type": "code",
      "metadata": {
        "id": "qAZa6dHaj4x1"
      },
      "source": [
        "chroma_train_path = '/content/drive/MyDrive/machine learning/chromagram_train/'\n",
        "chroma_valid_path = '/content/drive/MyDrive/machine learning/chromagram_valid/'\n",
        "chroma_test_path = '/content/drive/MyDrive/machine learning/chromagram_test/'"
      ],
      "execution_count": 42,
      "outputs": []
    },
    {
      "cell_type": "code",
      "metadata": {
        "id": "oqYb62huOWXh"
      },
      "source": [
        "def chromagram_plot(raw_data, meta, fold_name, save_path):\n",
        "  for i in list(meta[meta['fold']==fold_name].index):\n",
        "    signal = raw_data[i]\n",
        "    chroma = librosa.feature.chroma_stft(y=signal)\n",
        "    fig, ax = plt.subplots()\n",
        "    img = librosa.display.specshow(chroma, ax= ax)\n",
        "    plt.axis('off')\n",
        "    name = save_path + meta['name'][i] + '-' + str(i)\n",
        "    plt.savefig('{}.png'.format(name), bbox_inches='tight', pad_inches=0.0)       \n",
        "    plt.clf()\n",
        "    plt.close()"
      ],
      "execution_count": 43,
      "outputs": []
    },
    {
      "cell_type": "code",
      "metadata": {
        "id": "Je_3hErkxbPu"
      },
      "source": [
        "chromagram_plot(train_raw_split, train_meta_split, 'fold1', chroma_train_path) "
      ],
      "execution_count": null,
      "outputs": []
    },
    {
      "cell_type": "code",
      "metadata": {
        "id": "s_MfO2C-xjhj"
      },
      "source": [
        "with ZipFile('/content/drive/MyDrive/machine learning/chromagram_valid.zip', 'r') as zipObj:\n",
        "  zipObj.extractall() "
      ],
      "execution_count": null,
      "outputs": []
    },
    {
      "cell_type": "code",
      "metadata": {
        "id": "uiW8Ayoaxjhl"
      },
      "source": [
        "with ZipFile('/content/drive/MyDrive/machine learning/chromagram_train.zip', 'r') as zipObj:\n",
        "  zipObj.extractall() "
      ],
      "execution_count": null,
      "outputs": []
    },
    {
      "cell_type": "code",
      "metadata": {
        "id": "2IY6-gQXxjhl"
      },
      "source": [
        "with ZipFile('/content/drive/MyDrive/machine learning/chromagram_test.zip', 'r') as zipObj:\n",
        "  zipObj.extractall() "
      ],
      "execution_count": null,
      "outputs": []
    },
    {
      "cell_type": "code",
      "metadata": {
        "collapsed": true,
        "id": "PTOvdYWHxjhl"
      },
      "source": [
        "chroma_train_img = '/content/chromagram_train/'\n",
        "chroma_train_array = load_image(train_meta_split, chroma_train_img) "
      ],
      "execution_count": null,
      "outputs": []
    },
    {
      "cell_type": "code",
      "metadata": {
        "id": "q-G3P3YDxjhl"
      },
      "source": [
        "chroma_valid_img = '/content/chromagram_valid/'\n",
        "chroma_valid_array = load_image(valid_meta_split, chroma_valid_img) "
      ],
      "execution_count": null,
      "outputs": []
    },
    {
      "cell_type": "code",
      "metadata": {
        "id": "mduLoARvxjhm"
      },
      "source": [
        "chroma_test_img = '/content/chromagram_test/'\n",
        "chroma_test_array = load_image(test_meta_split, chroma_test_img) "
      ],
      "execution_count": null,
      "outputs": []
    },
    {
      "cell_type": "code",
      "metadata": {
        "id": "dXEbbhWa2R2P"
      },
      "source": [
        "chroma_train_array.shape "
      ],
      "execution_count": null,
      "outputs": []
    },
    {
      "cell_type": "code",
      "metadata": {
        "id": "jA01NlxXxjhm"
      },
      "source": [
        "np.save('/content/drive/MyDrive/machine learning/chroma_train_array.npy', chroma_train_array) "
      ],
      "execution_count": null,
      "outputs": []
    },
    {
      "cell_type": "code",
      "metadata": {
        "id": "nmwV2_fexjhm"
      },
      "source": [
        "np.save('/content/drive/MyDrive/machine learning/chroma_test_array.npy', chroma_test_array) "
      ],
      "execution_count": null,
      "outputs": []
    },
    {
      "cell_type": "code",
      "metadata": {
        "id": "x0Wdp-HUxjhm"
      },
      "source": [
        "np.save('/content/drive/MyDrive/machine learning/chroma_valid_array.npy', chroma_valid_array) "
      ],
      "execution_count": null,
      "outputs": []
    },
    {
      "cell_type": "markdown",
      "metadata": {
        "id": "m4P7zKkJ10dZ"
      },
      "source": [
        "### 1.4.4 Combined Image"
      ]
    },
    {
      "cell_type": "code",
      "metadata": {
        "id": "TepXaFoCVYsk"
      },
      "source": [
        "mel_train_array = np.load('/content/drive/MyDrive/machine learning/mel_train_array.npy')\n",
        "mel_test_array = np.load('/content/drive/MyDrive/machine learning/mel_test_array.npy')\n",
        "mel_valid_array = np.load('/content/drive/MyDrive/machine learning/mel_valid_array.npy')"
      ],
      "execution_count": null,
      "outputs": []
    },
    {
      "cell_type": "code",
      "metadata": {
        "id": "XUpdKRLzVaiX"
      },
      "source": [
        "mfcc_train_array = np.load('/content/drive/MyDrive/machine learning/mfcc_train_array.npy')\n",
        "mfcc_test_array = np.load('/content/drive/MyDrive/machine learning/mfcc_test_array.npy')\n",
        "mfcc_valid_array = np.load('/content/drive/MyDrive/machine learning/mfcc_valid_array.npy')"
      ],
      "execution_count": null,
      "outputs": []
    },
    {
      "cell_type": "code",
      "metadata": {
        "id": "Fz_Bte6NVeaA"
      },
      "source": [
        "chroma_train_array = np.load('/content/drive/MyDrive/machine learning/chroma_train_array.npy')\n",
        "chroma_test_array = np.load('/content/drive/MyDrive/machine learning/chroma_test_array.npy')\n",
        "chroma_valid_array = np.load('/content/drive/MyDrive/machine learning/chroma_valid_array.npy')"
      ],
      "execution_count": null,
      "outputs": []
    },
    {
      "cell_type": "code",
      "metadata": {
        "id": "5Hgdrd87VgVC"
      },
      "source": [
        "def img_combine(mel_array, mfcc_array, chroma_array):\n",
        "  array_new = np.concatenate((mel_array[:,:,:,0][:,:,:,np.newaxis], mfcc_array[:,:,:,1][:,:,:,np.newaxis],chroma_array[:,:,:,2][:,:,:,np.newaxis]), axis =3)\n",
        "  return array_new"
      ],
      "execution_count": null,
      "outputs": []
    },
    {
      "cell_type": "code",
      "metadata": {
        "colab": {
          "base_uri": "https://localhost:8080/",
          "height": 284
        },
        "id": "za_JOQrjVmZL",
        "outputId": "bbfc116a-8ef7-444e-9027-acfd008872b9"
      },
      "source": [
        "plt.imshow(train_com[0].astype('float32')/255)"
      ],
      "execution_count": null,
      "outputs": [
        {
          "output_type": "execute_result",
          "data": {
            "text/plain": [
              "<matplotlib.image.AxesImage at 0x7ff7139030d0>"
            ]
          },
          "metadata": {
            "tags": []
          },
          "execution_count": 15
        },
        {
          "output_type": "display_data",
          "data": {
            "image/png": "[encoded data removed]",
            "text/plain": [
              "<Figure size 432x288 with 1 Axes>"
            ]
          },
          "metadata": {
            "tags": [],
            "needs_background": "light"
          }
        }
      ]
    },
    {
      "cell_type": "markdown",
      "metadata": {
        "id": "mhj2TeFz4aMj"
      },
      "source": [
        "# 2 Feed-Forward Neural Network"
      ]
    },
    {
      "cell_type": "markdown",
      "metadata": {
        "id": "7rJE6yBG4lcB"
      },
      "source": [
        "## 2.1 FFN neural network with mel-frequency spectrogram"
      ]
    },
    {
      "cell_type": "code",
      "metadata": {
        "id": "k_CvRzTq5MVX"
      },
      "source": [
        "rgb_weights = [0.2989, 0.5870, 0.1140]\n",
        "def grey_flat(a):\n",
        "  grey_array = np.ndarray(shape=(a.shape[0], 32, 32))\n",
        "  for i in range(a.shape[0]):\n",
        "    image_convert = a[i]\n",
        "    grey_array[i] = np.dot(image_convert[...,:3], rgb_weights)\n",
        "  flat_array = np.ndarray(shape=(1024, grey_array.shape[0]))\n",
        "  for i in range(grey_array.shape[0]):\n",
        "    flat_array[:,i] = np.concatenate(grey_array[i])\n",
        "  return flat_array"
      ],
      "execution_count": null,
      "outputs": []
    },
    {
      "cell_type": "code",
      "metadata": {
        "id": "ZAH8g7C_5yon"
      },
      "source": [
        "X_train_grey = grey_flat(X_train_array).T\n",
        "X_valid_grey = grey_flat(X_valid_array).T\n",
        "X_test_grey = grey_flat(X_test_array).T"
      ],
      "execution_count": null,
      "outputs": []
    },
    {
      "cell_type": "code",
      "metadata": {
        "id": "_JCXs1RH8HSX"
      },
      "source": [
        "standard_scaler = preprocessing.StandardScaler()\n",
        "X_train_flat_T = standard_scaler.fit_transform(X_train_grey)\n",
        "X_valid_flat_T = standard_scaler.transform(X_valid_grey)\n",
        "X_test_flat_T = standard_scaler.transform(X_test_grey)"
      ],
      "execution_count": null,
      "outputs": []
    },
    {
      "cell_type": "code",
      "metadata": {
        "id": "twCBtXRJKnfX"
      },
      "source": [
        "X_train_flat_T,y_train = shuffle(X_train_flat_T, y_train)\n",
        "X_valid_flat_T,y_valid = shuffle(X_valid_flat_T, y_valid)"
      ],
      "execution_count": null,
      "outputs": []
    },
    {
      "cell_type": "code",
      "metadata": {
        "colab": {
          "base_uri": "https://localhost:8080/",
          "height": 446
        },
        "id": "MTfrMoSrACWr",
        "outputId": "8e6667b1-4f13-4830-ee28-c69a09e9c1f1"
      },
      "source": [
        "pca = PCA().fit(X_train_flat_T)\n",
        "plt.figure(figsize=(18, 7))\n",
        "plt.plot(pca.explained_variance_ratio_.cumsum(), lw=3)"
      ],
      "execution_count": null,
      "outputs": [
        {
          "output_type": "execute_result",
          "data": {
            "text/plain": [
              "[<matplotlib.lines.Line2D at 0x7f85d9745810>]"
            ]
          },
          "metadata": {
            "tags": []
          },
          "execution_count": 84
        },
        {
          "output_type": "display_data",
          "data": {
            "image/png": "[encoded data removed]",
            "text/plain": [
              "<Figure size 1296x504 with 1 Axes>"
            ]
          },
          "metadata": {
            "tags": [],
            "needs_background": "light"
          }
        }
      ]
    },
    {
      "cell_type": "code",
      "metadata": {
        "id": "oGN1FypWRZqn"
      },
      "source": [
        "def PCA_iter(x_all,start, end, step):\n",
        "  lis =[]\n",
        "  for i in range(start, end, step):\n",
        "    (train, valid, test) = x_all\n",
        "    pca = PCA(n_components=i)\n",
        "\n",
        "    pca.fit_transform(train)\n",
        "                \n",
        "    train_PCA =  pca.transform(train)\n",
        "    train_new = pca.inverse_transform(train_PCA)\n",
        "\n",
        "    valid_PCA =  pca.transform(valid)       \n",
        "    valid_new = pca.inverse_transform(valid_PCA)\n",
        "                \n",
        "    test_PCA = pca.transform(test)\n",
        "    test_new = pca.inverse_transform(test_PCA)\n",
        "\n",
        "    tupla = (x_train_PCA, x_valid_PCA, x_test_PCA) =train_new,valid_new,test_new\n",
        "                \n",
        "    lis.append(tupla)\n",
        "  \n",
        "  return lis"
      ],
      "execution_count": null,
      "outputs": []
    },
    {
      "cell_type": "code",
      "metadata": {
        "id": "Db2BYXlBSmrB"
      },
      "source": [
        "lis_PCA =  PCA_iter((X_train_flat_T,X_valid_flat_T, X_test_flat_T),10,201,20)"
      ],
      "execution_count": null,
      "outputs": []
    },
    {
      "cell_type": "code",
      "metadata": {
        "id": "oG6Wkeu9S4ph"
      },
      "source": [
        "lis_PCA.append((X_train_flat_T,X_valid_flat_T, X_test_flat_T))"
      ],
      "execution_count": null,
      "outputs": []
    },
    {
      "cell_type": "code",
      "metadata": {
        "id": "w-xQoMRUTYvM"
      },
      "source": [
        "def FW_iter(lis_PCA, ep, bs):\n",
        "    lis_FW = []\n",
        "    epochs = ep\n",
        "    batch_size = bs\n",
        "    for itr in range(len(lis_PCA)):\n",
        "        x_train_PCA, x_valid_PCA, x_test_PCA = lis_PCA[itr]\n",
        "        \n",
        "       \n",
        "        print(\"FW- components: \",(itr+1)*20-10)\n",
        "        #feed forward neural network\n",
        "        model = tf.keras.Sequential([\n",
        "          tf.keras.layers.Input(shape = (1024)),\n",
        "          tf.keras.layers.Dense(64, activation = \"relu\"),\n",
        "          tf.keras.layers.Dropout(0.3),\n",
        "          tf.keras.layers.Dense(10, activation='softmax')\n",
        "          ])\n",
        "        model.compile(optimizer = \"adam\", loss='categorical_crossentropy', metrics=['accuracy'])\n",
        "        \n",
        "        \n",
        "        history = model.fit(x_train_PCA, y_train,\n",
        "                        batch_size = bs,\n",
        "                        epochs = epochs,\n",
        "                        validation_data=(x_valid_PCA, y_valid))\n",
        "        \n",
        "        y_pred = model.predict(x_test_PCA).round()\n",
        "        \n",
        "        tupla = (history, model)\n",
        "        lis_FW.append(tupla)\n",
        "    return lis_FW"
      ],
      "execution_count": null,
      "outputs": []
    },
    {
      "cell_type": "code",
      "metadata": {
        "colab": {
          "base_uri": "https://localhost:8080/"
        },
        "collapsed": true,
        "id": "4MWB7RuqTtKP",
        "outputId": "d6e4a929-2746-4350-c576-363b6466a9c1"
      },
      "source": [
        "epochs = 10\n",
        "batch_size = 16\n",
        "res = FW_iter(lis_PCA, epochs, batch_size)"
      ],
      "execution_count": null,
      "outputs": [
        {
          "output_type": "stream",
          "text": [
            "FW- components:  10\n",
            "WARNING:tensorflow:Please add `keras.layers.InputLayer` instead of `keras.Input` to Sequential model. `keras.Input` is intended to be used by Functional model.\n",
            "Epoch 1/10\n",
            "227/227 [==============================] - 1s 3ms/step - loss: 1.8107 - accuracy: 0.3533 - val_loss: 1.8310 - val_accuracy: 0.3608\n",
            "Epoch 2/10\n",
            "227/227 [==============================] - 1s 3ms/step - loss: 1.6152 - accuracy: 0.4385 - val_loss: 1.7967 - val_accuracy: 0.4479\n",
            "Epoch 3/10\n",
            "227/227 [==============================] - 1s 3ms/step - loss: 1.5343 - accuracy: 0.4407 - val_loss: 2.0239 - val_accuracy: 0.4215\n",
            "Epoch 4/10\n",
            "227/227 [==============================] - 1s 3ms/step - loss: 1.4894 - accuracy: 0.4644 - val_loss: 2.0382 - val_accuracy: 0.4422\n",
            "Epoch 5/10\n",
            "227/227 [==============================] - 1s 3ms/step - loss: 1.4425 - accuracy: 0.4876 - val_loss: 2.0170 - val_accuracy: 0.4605\n",
            "Epoch 6/10\n",
            "227/227 [==============================] - 1s 3ms/step - loss: 1.4267 - accuracy: 0.4961 - val_loss: 1.9855 - val_accuracy: 0.4238\n",
            "Epoch 7/10\n",
            "227/227 [==============================] - 1s 3ms/step - loss: 1.4219 - accuracy: 0.5019 - val_loss: 2.0112 - val_accuracy: 0.4983\n",
            "Epoch 8/10\n",
            "227/227 [==============================] - 1s 3ms/step - loss: 1.3657 - accuracy: 0.5094 - val_loss: 2.0872 - val_accuracy: 0.4605\n",
            "Epoch 9/10\n",
            "227/227 [==============================] - 1s 3ms/step - loss: 1.3702 - accuracy: 0.5097 - val_loss: 1.9324 - val_accuracy: 0.4983\n",
            "Epoch 10/10\n",
            "227/227 [==============================] - 1s 3ms/step - loss: 1.3577 - accuracy: 0.5237 - val_loss: 1.9115 - val_accuracy: 0.4914\n",
            "FW- components:  30\n",
            "WARNING:tensorflow:Please add `keras.layers.InputLayer` instead of `keras.Input` to Sequential model. `keras.Input` is intended to be used by Functional model.\n",
            "Epoch 1/10\n",
            "227/227 [==============================] - 1s 3ms/step - loss: 1.7162 - accuracy: 0.3949 - val_loss: 1.8682 - val_accuracy: 0.3219\n",
            "Epoch 2/10\n",
            "227/227 [==============================] - 1s 3ms/step - loss: 1.4501 - accuracy: 0.4851 - val_loss: 1.9207 - val_accuracy: 0.3620\n",
            "Epoch 3/10\n",
            "227/227 [==============================] - 1s 3ms/step - loss: 1.3513 - accuracy: 0.5182 - val_loss: 1.9026 - val_accuracy: 0.3837\n",
            "Epoch 4/10\n",
            "227/227 [==============================] - 1s 3ms/step - loss: 1.2911 - accuracy: 0.5392 - val_loss: 1.8375 - val_accuracy: 0.4559\n",
            "Epoch 5/10\n",
            "227/227 [==============================] - 1s 3ms/step - loss: 1.2318 - accuracy: 0.5554 - val_loss: 2.1604 - val_accuracy: 0.4284\n",
            "Epoch 6/10\n",
            "227/227 [==============================] - 1s 3ms/step - loss: 1.1891 - accuracy: 0.5833 - val_loss: 2.0549 - val_accuracy: 0.4754\n",
            "Epoch 7/10\n",
            "227/227 [==============================] - 1s 3ms/step - loss: 1.1514 - accuracy: 0.5913 - val_loss: 2.1889 - val_accuracy: 0.4296\n",
            "Epoch 8/10\n",
            "227/227 [==============================] - 1s 3ms/step - loss: 1.1184 - accuracy: 0.6076 - val_loss: 2.2068 - val_accuracy: 0.4261\n",
            "Epoch 9/10\n",
            "227/227 [==============================] - 1s 3ms/step - loss: 1.1128 - accuracy: 0.6128 - val_loss: 2.2758 - val_accuracy: 0.4444\n",
            "Epoch 10/10\n",
            "227/227 [==============================] - 1s 3ms/step - loss: 1.0993 - accuracy: 0.6158 - val_loss: 2.3569 - val_accuracy: 0.4639\n",
            "FW- components:  50\n",
            "WARNING:tensorflow:Please add `keras.layers.InputLayer` instead of `keras.Input` to Sequential model. `keras.Input` is intended to be used by Functional model.\n",
            "Epoch 1/10\n",
            "227/227 [==============================] - 1s 3ms/step - loss: 1.7523 - accuracy: 0.3753 - val_loss: 1.9362 - val_accuracy: 0.3574\n",
            "Epoch 2/10\n",
            "227/227 [==============================] - 1s 3ms/step - loss: 1.4533 - accuracy: 0.5014 - val_loss: 1.9748 - val_accuracy: 0.3826\n",
            "Epoch 3/10\n",
            "227/227 [==============================] - 1s 3ms/step - loss: 1.3246 - accuracy: 0.5372 - val_loss: 1.8889 - val_accuracy: 0.3872\n",
            "Epoch 4/10\n",
            "227/227 [==============================] - 1s 3ms/step - loss: 1.2560 - accuracy: 0.5612 - val_loss: 1.9657 - val_accuracy: 0.4273\n",
            "Epoch 5/10\n",
            "227/227 [==============================] - 1s 3ms/step - loss: 1.2024 - accuracy: 0.5800 - val_loss: 2.1697 - val_accuracy: 0.4376\n",
            "Epoch 6/10\n",
            "227/227 [==============================] - 1s 3ms/step - loss: 1.1447 - accuracy: 0.5976 - val_loss: 2.2445 - val_accuracy: 0.4376\n",
            "Epoch 7/10\n",
            "227/227 [==============================] - 1s 3ms/step - loss: 1.1143 - accuracy: 0.6131 - val_loss: 2.3139 - val_accuracy: 0.4422\n",
            "Epoch 8/10\n",
            "227/227 [==============================] - 1s 3ms/step - loss: 1.1178 - accuracy: 0.6100 - val_loss: 2.3000 - val_accuracy: 0.4273\n",
            "Epoch 9/10\n",
            "227/227 [==============================] - 1s 3ms/step - loss: 1.0645 - accuracy: 0.6258 - val_loss: 2.1616 - val_accuracy: 0.4777\n",
            "Epoch 10/10\n",
            "227/227 [==============================] - 1s 3ms/step - loss: 1.0391 - accuracy: 0.6379 - val_loss: 2.1927 - val_accuracy: 0.4811\n",
            "FW- components:  70\n",
            "WARNING:tensorflow:Please add `keras.layers.InputLayer` instead of `keras.Input` to Sequential model. `keras.Input` is intended to be used by Functional model.\n",
            "Epoch 1/10\n",
            "227/227 [==============================] - 1s 3ms/step - loss: 1.7587 - accuracy: 0.3930 - val_loss: 1.9579 - val_accuracy: 0.4215\n",
            "Epoch 2/10\n",
            "227/227 [==============================] - 1s 3ms/step - loss: 1.4562 - accuracy: 0.4950 - val_loss: 1.9146 - val_accuracy: 0.4433\n",
            "Epoch 3/10\n",
            "227/227 [==============================] - 1s 3ms/step - loss: 1.3613 - accuracy: 0.5295 - val_loss: 1.8389 - val_accuracy: 0.4055\n",
            "Epoch 4/10\n",
            "227/227 [==============================] - 1s 3ms/step - loss: 1.3039 - accuracy: 0.5400 - val_loss: 1.9185 - val_accuracy: 0.4708\n",
            "Epoch 5/10\n",
            "227/227 [==============================] - 1s 3ms/step - loss: 1.2424 - accuracy: 0.5673 - val_loss: 1.9802 - val_accuracy: 0.3849\n",
            "Epoch 6/10\n",
            "227/227 [==============================] - 1s 3ms/step - loss: 1.2162 - accuracy: 0.5745 - val_loss: 2.0395 - val_accuracy: 0.4410\n",
            "Epoch 7/10\n",
            "227/227 [==============================] - 1s 3ms/step - loss: 1.1758 - accuracy: 0.5943 - val_loss: 1.9911 - val_accuracy: 0.4570\n",
            "Epoch 8/10\n",
            "227/227 [==============================] - 1s 3ms/step - loss: 1.1331 - accuracy: 0.6098 - val_loss: 2.0669 - val_accuracy: 0.4479\n",
            "Epoch 9/10\n",
            "227/227 [==============================] - 1s 3ms/step - loss: 1.1227 - accuracy: 0.6095 - val_loss: 2.1553 - val_accuracy: 0.4158\n",
            "Epoch 10/10\n",
            "227/227 [==============================] - 1s 3ms/step - loss: 1.0853 - accuracy: 0.6186 - val_loss: 2.1390 - val_accuracy: 0.4364\n",
            "FW- components:  90\n",
            "WARNING:tensorflow:Please add `keras.layers.InputLayer` instead of `keras.Input` to Sequential model. `keras.Input` is intended to be used by Functional model.\n",
            "Epoch 1/10\n",
            "227/227 [==============================] - 1s 3ms/step - loss: 1.7611 - accuracy: 0.3831 - val_loss: 1.7177 - val_accuracy: 0.4284\n",
            "Epoch 2/10\n",
            "227/227 [==============================] - 1s 3ms/step - loss: 1.4446 - accuracy: 0.5030 - val_loss: 1.8200 - val_accuracy: 0.4032\n",
            "Epoch 3/10\n",
            "227/227 [==============================] - 1s 3ms/step - loss: 1.3259 - accuracy: 0.5394 - val_loss: 1.8238 - val_accuracy: 0.4593\n",
            "Epoch 4/10\n",
            "227/227 [==============================] - 1s 3ms/step - loss: 1.2616 - accuracy: 0.5684 - val_loss: 2.0863 - val_accuracy: 0.4444\n",
            "Epoch 5/10\n",
            "227/227 [==============================] - 1s 3ms/step - loss: 1.2119 - accuracy: 0.5924 - val_loss: 2.0448 - val_accuracy: 0.4467\n",
            "Epoch 6/10\n",
            "227/227 [==============================] - 1s 3ms/step - loss: 1.1668 - accuracy: 0.6004 - val_loss: 1.9818 - val_accuracy: 0.4731\n",
            "Epoch 7/10\n",
            "227/227 [==============================] - 1s 3ms/step - loss: 1.1349 - accuracy: 0.6015 - val_loss: 2.1020 - val_accuracy: 0.4066\n",
            "Epoch 8/10\n",
            "227/227 [==============================] - 1s 3ms/step - loss: 1.1001 - accuracy: 0.6230 - val_loss: 2.1411 - val_accuracy: 0.4570\n",
            "Epoch 9/10\n",
            "227/227 [==============================] - 1s 3ms/step - loss: 1.0843 - accuracy: 0.6244 - val_loss: 2.3156 - val_accuracy: 0.4570\n",
            "Epoch 10/10\n",
            "227/227 [==============================] - 1s 3ms/step - loss: 1.0630 - accuracy: 0.6315 - val_loss: 2.3093 - val_accuracy: 0.4410\n",
            "FW- components:  110\n",
            "WARNING:tensorflow:Please add `keras.layers.InputLayer` instead of `keras.Input` to Sequential model. `keras.Input` is intended to be used by Functional model.\n",
            "Epoch 1/10\n",
            "227/227 [==============================] - 1s 3ms/step - loss: 1.7444 - accuracy: 0.3784 - val_loss: 1.6154 - val_accuracy: 0.4536\n",
            "Epoch 2/10\n",
            "227/227 [==============================] - 1s 3ms/step - loss: 1.4314 - accuracy: 0.4972 - val_loss: 1.7335 - val_accuracy: 0.4021\n",
            "Epoch 3/10\n",
            "227/227 [==============================] - 1s 3ms/step - loss: 1.3409 - accuracy: 0.5419 - val_loss: 1.8619 - val_accuracy: 0.4273\n",
            "Epoch 4/10\n",
            "227/227 [==============================] - 1s 3ms/step - loss: 1.2513 - accuracy: 0.5667 - val_loss: 1.8252 - val_accuracy: 0.4273\n",
            "Epoch 5/10\n",
            "227/227 [==============================] - 1s 3ms/step - loss: 1.2033 - accuracy: 0.5965 - val_loss: 1.8668 - val_accuracy: 0.4273\n",
            "Epoch 6/10\n",
            "227/227 [==============================] - 1s 3ms/step - loss: 1.1334 - accuracy: 0.6023 - val_loss: 1.9510 - val_accuracy: 0.4204\n",
            "Epoch 7/10\n",
            "227/227 [==============================] - 1s 3ms/step - loss: 1.1215 - accuracy: 0.6062 - val_loss: 1.9718 - val_accuracy: 0.4880\n",
            "Epoch 8/10\n",
            "227/227 [==============================] - 1s 3ms/step - loss: 1.0803 - accuracy: 0.6219 - val_loss: 1.8985 - val_accuracy: 0.4605\n",
            "Epoch 9/10\n",
            "227/227 [==============================] - 1s 3ms/step - loss: 1.0605 - accuracy: 0.6429 - val_loss: 2.0610 - val_accuracy: 0.4708\n",
            "Epoch 10/10\n",
            "227/227 [==============================] - 1s 3ms/step - loss: 1.0330 - accuracy: 0.6442 - val_loss: 2.1309 - val_accuracy: 0.4456\n",
            "FW- components:  130\n",
            "WARNING:tensorflow:Please add `keras.layers.InputLayer` instead of `keras.Input` to Sequential model. `keras.Input` is intended to be used by Functional model.\n",
            "Epoch 1/10\n",
            "227/227 [==============================] - 1s 3ms/step - loss: 1.7796 - accuracy: 0.3867 - val_loss: 1.7348 - val_accuracy: 0.4490\n",
            "Epoch 2/10\n",
            "227/227 [==============================] - 1s 3ms/step - loss: 1.4677 - accuracy: 0.4868 - val_loss: 1.7830 - val_accuracy: 0.4330\n",
            "Epoch 3/10\n",
            "227/227 [==============================] - 1s 3ms/step - loss: 1.3592 - accuracy: 0.5281 - val_loss: 1.8988 - val_accuracy: 0.4192\n",
            "Epoch 4/10\n",
            "227/227 [==============================] - 1s 3ms/step - loss: 1.2495 - accuracy: 0.5717 - val_loss: 1.8178 - val_accuracy: 0.4456\n",
            "Epoch 5/10\n",
            "227/227 [==============================] - 1s 3ms/step - loss: 1.1906 - accuracy: 0.5849 - val_loss: 1.7334 - val_accuracy: 0.4651\n",
            "Epoch 6/10\n",
            "227/227 [==============================] - 1s 3ms/step - loss: 1.1465 - accuracy: 0.6065 - val_loss: 1.8396 - val_accuracy: 0.4215\n",
            "Epoch 7/10\n",
            "227/227 [==============================] - 1s 3ms/step - loss: 1.1078 - accuracy: 0.6098 - val_loss: 1.9891 - val_accuracy: 0.4135\n",
            "Epoch 8/10\n",
            "227/227 [==============================] - 1s 3ms/step - loss: 1.0828 - accuracy: 0.6186 - val_loss: 2.0235 - val_accuracy: 0.4353\n",
            "Epoch 9/10\n",
            "227/227 [==============================] - 1s 3ms/step - loss: 1.0810 - accuracy: 0.6224 - val_loss: 2.0560 - val_accuracy: 0.4353\n",
            "Epoch 10/10\n",
            "227/227 [==============================] - 1s 3ms/step - loss: 1.0414 - accuracy: 0.6373 - val_loss: 2.0994 - val_accuracy: 0.4444\n",
            "FW- components:  150\n",
            "WARNING:tensorflow:Please add `keras.layers.InputLayer` instead of `keras.Input` to Sequential model. `keras.Input` is intended to be used by Functional model.\n",
            "Epoch 1/10\n",
            "227/227 [==============================] - 1s 3ms/step - loss: 1.7117 - accuracy: 0.4029 - val_loss: 1.9847 - val_accuracy: 0.3757\n",
            "Epoch 2/10\n",
            "227/227 [==============================] - 1s 3ms/step - loss: 1.3979 - accuracy: 0.5119 - val_loss: 1.9859 - val_accuracy: 0.3986\n",
            "Epoch 3/10\n",
            "227/227 [==============================] - 1s 3ms/step - loss: 1.2732 - accuracy: 0.5621 - val_loss: 2.1930 - val_accuracy: 0.3517\n",
            "Epoch 4/10\n",
            "227/227 [==============================] - 1s 3ms/step - loss: 1.2092 - accuracy: 0.5918 - val_loss: 2.1722 - val_accuracy: 0.3814\n",
            "Epoch 5/10\n",
            "227/227 [==============================] - 1s 3ms/step - loss: 1.1448 - accuracy: 0.6078 - val_loss: 2.1410 - val_accuracy: 0.4021\n",
            "Epoch 6/10\n",
            "227/227 [==============================] - 1s 3ms/step - loss: 1.1132 - accuracy: 0.6147 - val_loss: 2.1373 - val_accuracy: 0.4101\n",
            "Epoch 7/10\n",
            "227/227 [==============================] - 1s 3ms/step - loss: 1.0576 - accuracy: 0.6371 - val_loss: 2.1605 - val_accuracy: 0.4044\n",
            "Epoch 8/10\n",
            "227/227 [==============================] - 1s 3ms/step - loss: 1.0337 - accuracy: 0.6420 - val_loss: 2.1951 - val_accuracy: 0.4444\n",
            "Epoch 9/10\n",
            "227/227 [==============================] - 1s 3ms/step - loss: 0.9857 - accuracy: 0.6602 - val_loss: 2.5146 - val_accuracy: 0.4147\n",
            "Epoch 10/10\n",
            "227/227 [==============================] - 1s 3ms/step - loss: 0.9915 - accuracy: 0.6514 - val_loss: 2.3472 - val_accuracy: 0.4536\n",
            "FW- components:  170\n",
            "WARNING:tensorflow:Please add `keras.layers.InputLayer` instead of `keras.Input` to Sequential model. `keras.Input` is intended to be used by Functional model.\n",
            "Epoch 1/10\n",
            "227/227 [==============================] - 1s 3ms/step - loss: 1.7879 - accuracy: 0.3800 - val_loss: 1.9196 - val_accuracy: 0.3322\n",
            "Epoch 2/10\n",
            "227/227 [==============================] - 1s 3ms/step - loss: 1.4681 - accuracy: 0.4903 - val_loss: 1.8757 - val_accuracy: 0.4227\n",
            "Epoch 3/10\n",
            "227/227 [==============================] - 1s 3ms/step - loss: 1.3274 - accuracy: 0.5411 - val_loss: 1.8632 - val_accuracy: 0.4376\n",
            "Epoch 4/10\n",
            "227/227 [==============================] - 1s 3ms/step - loss: 1.2609 - accuracy: 0.5565 - val_loss: 1.9470 - val_accuracy: 0.4330\n",
            "Epoch 5/10\n",
            "227/227 [==============================] - 1s 3ms/step - loss: 1.1737 - accuracy: 0.5949 - val_loss: 1.8372 - val_accuracy: 0.4857\n",
            "Epoch 6/10\n",
            "227/227 [==============================] - 1s 3ms/step - loss: 1.1472 - accuracy: 0.6106 - val_loss: 1.9872 - val_accuracy: 0.4502\n",
            "Epoch 7/10\n",
            "227/227 [==============================] - 1s 3ms/step - loss: 1.1023 - accuracy: 0.6131 - val_loss: 2.0911 - val_accuracy: 0.4215\n",
            "Epoch 8/10\n",
            "227/227 [==============================] - 1s 3ms/step - loss: 1.0611 - accuracy: 0.6351 - val_loss: 1.9270 - val_accuracy: 0.4857\n",
            "Epoch 9/10\n",
            "227/227 [==============================] - 1s 3ms/step - loss: 1.0324 - accuracy: 0.6511 - val_loss: 2.1576 - val_accuracy: 0.4765\n",
            "Epoch 10/10\n",
            "227/227 [==============================] - 1s 3ms/step - loss: 1.0182 - accuracy: 0.6409 - val_loss: 2.2438 - val_accuracy: 0.4593\n",
            "FW- components:  190\n",
            "WARNING:tensorflow:Please add `keras.layers.InputLayer` instead of `keras.Input` to Sequential model. `keras.Input` is intended to be used by Functional model.\n",
            "Epoch 1/10\n",
            "227/227 [==============================] - 1s 3ms/step - loss: 1.7830 - accuracy: 0.3776 - val_loss: 1.8519 - val_accuracy: 0.3872\n",
            "Epoch 2/10\n",
            "227/227 [==============================] - 1s 3ms/step - loss: 1.4801 - accuracy: 0.4763 - val_loss: 1.8825 - val_accuracy: 0.4112\n",
            "Epoch 3/10\n",
            "227/227 [==============================] - 1s 3ms/step - loss: 1.3557 - accuracy: 0.5256 - val_loss: 1.8155 - val_accuracy: 0.4089\n",
            "Epoch 4/10\n",
            "227/227 [==============================] - 1s 3ms/step - loss: 1.2630 - accuracy: 0.5645 - val_loss: 1.7156 - val_accuracy: 0.4376\n",
            "Epoch 5/10\n",
            "227/227 [==============================] - 1s 3ms/step - loss: 1.2129 - accuracy: 0.5734 - val_loss: 1.8650 - val_accuracy: 0.4009\n",
            "Epoch 6/10\n",
            "227/227 [==============================] - 1s 3ms/step - loss: 1.1765 - accuracy: 0.5896 - val_loss: 1.9263 - val_accuracy: 0.4307\n",
            "Epoch 7/10\n",
            "227/227 [==============================] - 1s 3ms/step - loss: 1.1243 - accuracy: 0.6070 - val_loss: 1.8826 - val_accuracy: 0.4318\n",
            "Epoch 8/10\n",
            "227/227 [==============================] - 1s 3ms/step - loss: 1.1191 - accuracy: 0.6122 - val_loss: 1.8942 - val_accuracy: 0.4078\n",
            "Epoch 9/10\n",
            "227/227 [==============================] - 1s 3ms/step - loss: 1.0700 - accuracy: 0.6136 - val_loss: 2.1689 - val_accuracy: 0.4124\n",
            "Epoch 10/10\n",
            "227/227 [==============================] - 1s 3ms/step - loss: 1.0660 - accuracy: 0.6194 - val_loss: 2.0285 - val_accuracy: 0.4353\n",
            "FW- components:  210\n",
            "WARNING:tensorflow:Please add `keras.layers.InputLayer` instead of `keras.Input` to Sequential model. `keras.Input` is intended to be used by Functional model.\n",
            "Epoch 1/10\n",
            "227/227 [==============================] - 1s 3ms/step - loss: 1.7827 - accuracy: 0.3864 - val_loss: 1.7248 - val_accuracy: 0.4135\n",
            "Epoch 2/10\n",
            "227/227 [==============================] - 1s 3ms/step - loss: 1.4437 - accuracy: 0.4964 - val_loss: 1.7609 - val_accuracy: 0.4158\n",
            "Epoch 3/10\n",
            "227/227 [==============================] - 1s 3ms/step - loss: 1.3287 - accuracy: 0.5361 - val_loss: 1.7629 - val_accuracy: 0.4307\n",
            "Epoch 4/10\n",
            "227/227 [==============================] - 1s 3ms/step - loss: 1.2419 - accuracy: 0.5623 - val_loss: 1.9446 - val_accuracy: 0.4387\n",
            "Epoch 5/10\n",
            "227/227 [==============================] - 1s 3ms/step - loss: 1.1837 - accuracy: 0.5849 - val_loss: 1.9729 - val_accuracy: 0.4215\n",
            "Epoch 6/10\n",
            "227/227 [==============================] - 1s 3ms/step - loss: 1.1357 - accuracy: 0.5996 - val_loss: 2.0056 - val_accuracy: 0.4674\n",
            "Epoch 7/10\n",
            "227/227 [==============================] - 1s 3ms/step - loss: 1.1014 - accuracy: 0.6122 - val_loss: 1.9824 - val_accuracy: 0.4387\n",
            "Epoch 8/10\n",
            "227/227 [==============================] - 1s 3ms/step - loss: 1.0548 - accuracy: 0.6382 - val_loss: 2.1746 - val_accuracy: 0.4479\n",
            "Epoch 9/10\n",
            "227/227 [==============================] - 1s 3ms/step - loss: 0.9865 - accuracy: 0.6486 - val_loss: 2.0531 - val_accuracy: 0.4525\n",
            "Epoch 10/10\n",
            "227/227 [==============================] - 1s 3ms/step - loss: 0.9998 - accuracy: 0.6517 - val_loss: 2.0773 - val_accuracy: 0.4376\n"
          ],
          "name": "stdout"
        }
      ]
    },
    {
      "cell_type": "code",
      "metadata": {
        "colab": {
          "base_uri": "https://localhost:8080/",
          "height": 625
        },
        "id": "hOQT6Hbwf7gU",
        "outputId": "5c598f42-583e-467a-c244-e0a57d69795c"
      },
      "source": [
        "fontP = FontProperties()\n",
        "fontP.set_size('medium')\n",
        "\n",
        "fig, ax = plt.subplots(2,2,figsize=(15,10))\n",
        "\n",
        "x = list(range(1,11))\n",
        "\n",
        "for i in range(10):\n",
        "  accuracy = res[i][0].history['accuracy']\n",
        "  val_accuracy = res[i][0].history['val_accuracy']\n",
        "  loss = res[i][0].history['loss']\n",
        "  val_loss = res[i][0].history['val_loss']\n",
        "  \n",
        "  ax[0, 0].plot(x, accuracy, label = 'component' + str(i*20+10))\n",
        "  ax[0, 1].plot(x, val_accuracy, label = 'component' + str(i*20+10))\n",
        "  ax[1, 0].plot(x, loss, label = 'component' + str(i*20+10))\n",
        "  ax[1, 1].plot(x, val_loss, label = 'component' + str(i*20+10))\n",
        "ax[0, 0].plot(x, res[10][0].history['accuracy'], label = 'without PCA', color = 'red')\n",
        "ax[0, 0].set(title='Accuracy')\n",
        "ax[0, 0].set_ylim([0.3, 0.8])\n",
        "ax[0, 1].plot(x, res[10][0].history['val_accuracy'], label = 'without PCA', color = 'red')\n",
        "ax[0, 1].set(title='Val_Accuracy') \n",
        "ax[0, 1].set_ylim([0.3, 0.6])\n",
        "ax[1, 0].plot(x, res[10][0].history['loss'], label = 'without PCA', color = 'red')\n",
        "ax[1, 0].set(title='Loss')\n",
        "ax[1, 0].set_ylim([0.6, 2])\n",
        "ax[1, 1].plot(x, res[10][0].history['val_loss'], label = 'without PCA', color = 'red')\n",
        "ax[1, 1].set(title='Val_Loss')\n",
        "ax[1, 1].set_ylim([0.6, 2.6])\n",
        "\n",
        "plt.legend(title='components', bbox_to_anchor=(1.05, 1), loc='upper left', prop=fontP)\n"
      ],
      "execution_count": null,
      "outputs": [
        {
          "output_type": "execute_result",
          "data": {
            "text/plain": [
              "<matplotlib.legend.Legend at 0x7f85c7c81710>"
            ]
          },
          "metadata": {
            "tags": []
          },
          "execution_count": 95
        },
        {
          "output_type": "display_data",
          "data": {
            "image/png": "[encoded data removed]",
            "text/plain": [
              "<Figure size 1080x720 with 4 Axes>"
            ]
          },
          "metadata": {
            "tags": [],
            "needs_background": "light"
          }
        }
      ]
    },
    {
      "cell_type": "markdown",
      "metadata": {
        "id": "jirH67letlbE"
      },
      "source": [
        "# 3 Convolution Neural Network"
      ]
    },
    {
      "cell_type": "markdown",
      "metadata": {
        "id": "z0rFXdFNkmmw"
      },
      "source": [
        "## 3.1 Image Classification"
      ]
    },
    {
      "cell_type": "markdown",
      "metadata": {
        "id": "J_vcUtVltvaC"
      },
      "source": [
        "### 3.1.1 Image of Mel-Frequency Spectrogram"
      ]
    },
    {
      "cell_type": "code",
      "metadata": {
        "id": "KWpvIAIN90ba"
      },
      "source": [
        "X_train = mel_train_array.astype('float32')/255 \n",
        "X_valid = mel_valid_array.astype('float32')/255\n",
        "X_test = mel_test_array.astype('float32')/255"
      ],
      "execution_count": null,
      "outputs": []
    },
    {
      "cell_type": "code",
      "metadata": {
        "id": "wKM3cMoz-Is4"
      },
      "source": [
        "y_train_label = train_meta_split['label']\n",
        "y_valid_label = valid_meta_split['label']\n",
        "y_test_label = test_meta_split['label']"
      ],
      "execution_count": null,
      "outputs": []
    },
    {
      "cell_type": "code",
      "metadata": {
        "id": "pQPviUVC-je8"
      },
      "source": [
        "y_train = np_utils.to_categorical(y_train_label,10)\n",
        "y_valid = np_utils.to_categorical(y_valid_label,10)\n",
        "y_test = np_utils.to_categorical(y_test_label,10)"
      ],
      "execution_count": null,
      "outputs": []
    },
    {
      "cell_type": "code",
      "metadata": {
        "id": "peoMqPsU1cI0"
      },
      "source": [
        "X_train,y_train = shuffle(X_train,y_train) \n",
        "X_valid, y_valid = shuffle(X_valid, y_valid)"
      ],
      "execution_count": null,
      "outputs": []
    },
    {
      "cell_type": "code",
      "metadata": {
        "id": "ciw4wzxmtuf2"
      },
      "source": [
        "model_cnn = tf.keras.Sequential([\n",
        "    tf.keras.layers.Conv2D(32, (3, 3), padding = \"same\", activation='relu', input_shape = (32, 32, 3)),\n",
        "    tf.keras.layers.Conv2D(32, (3, 3), padding = \"same\", activation='relu'),\n",
        "    tf.keras.layers.MaxPooling2D(pool_size = (2, 2)),\n",
        "    tf.keras.layers.Dropout(0.3),\n",
        "    tf.keras.layers.Conv2D(64, (3, 3), padding = \"same\", activation='relu'),\n",
        "    tf.keras.layers.Conv2D(64, (3, 3), padding = \"same\", activation='relu'),\n",
        "    tf.keras.layers.MaxPooling2D(pool_size = (2, 2)),\n",
        "    tf.keras.layers.Dropout(0.3),\n",
        "    tf.keras.layers.Conv2D(128, (3, 3), padding = \"same\", activation='relu'),\n",
        "    tf.keras.layers.Conv2D(128, (3, 3), padding = \"same\", activation='relu'),\n",
        "    tf.keras.layers.MaxPooling2D(pool_size = (2, 2)),\n",
        "    tf.keras.layers.Dropout(0.3),\n",
        "    tf.keras.layers.Flatten(),\n",
        "    tf.keras.layers.Dense(128, activation = 'relu'),\n",
        "    tf.keras.layers.Dropout(0.3),\n",
        "    tf.keras.layers.Dense(10, activation = 'softmax')\n",
        "])\n",
        "\n",
        "model_cnn.compile(optimizer = \"adam\", loss='categorical_crossentropy', metrics=['accuracy'])\n",
        "\n",
        "\n",
        "model_cnn.summary()"
      ],
      "execution_count": null,
      "outputs": []
    },
    {
      "cell_type": "code",
      "metadata": {
        "id": "xeCJhru_01ys"
      },
      "source": [
        "history_cnn = model_cnn.fit(X_train,y_train,\n",
        "        batch_size = 16,\n",
        "        epochs=10,\n",
        "        validation_data=(X_valid, y_valid))"
      ],
      "execution_count": null,
      "outputs": []
    },
    {
      "cell_type": "code",
      "metadata": {
        "id": "76FUtc43gAGE"
      },
      "source": [
        ""
      ],
      "execution_count": null,
      "outputs": []
    },
    {
      "cell_type": "markdown",
      "metadata": {
        "id": "z9Av9LZrkthj"
      },
      "source": [
        "### 3.1.2 Image of Chromagram"
      ]
    },
    {
      "cell_type": "code",
      "metadata": {
        "id": "1ICELFcR2bBd"
      },
      "source": [
        "X_train = chroma_train_array.astype('float32')/255\n",
        "X_valid = chroma_valid_array.astype('float32')/255\n",
        "X_test = chroma_test_array.astype('float32')/255"
      ],
      "execution_count": null,
      "outputs": []
    },
    {
      "cell_type": "code",
      "metadata": {
        "id": "FKf5PPmy2bBe"
      },
      "source": [
        "y_train_label = train_meta_split['label']\n",
        "y_valid_label = valid_meta_split['label']\n",
        "y_test_label = test_meta_split['label']"
      ],
      "execution_count": null,
      "outputs": []
    },
    {
      "cell_type": "code",
      "metadata": {
        "id": "WHxAHq2G2bBe"
      },
      "source": [
        "y_train = np_utils.to_categorical(y_train_label,10)\n",
        "y_valid = np_utils.to_categorical(y_valid_label,10)\n",
        "y_test = np_utils.to_categorical(y_test_label,10)"
      ],
      "execution_count": null,
      "outputs": []
    },
    {
      "cell_type": "code",
      "metadata": {
        "id": "dLENeMtI2bBe"
      },
      "source": [
        "X_train,y_train = shuffle(X_train,y_train)\n",
        "X_valid, y_valid = shuffle(X_valid, y_valid)"
      ],
      "execution_count": null,
      "outputs": []
    },
    {
      "cell_type": "code",
      "metadata": {
        "colab": {
          "base_uri": "https://localhost:8080/"
        },
        "id": "oK3InLXM2bBe",
        "outputId": "3a37bc5d-c79b-402c-c445-a7885df7ec16"
      },
      "source": [
        "model_cnn_chroma = tf.keras.Sequential([\n",
        "    tf.keras.layers.Conv2D(32, (3, 3), padding = \"same\", activation='relu', input_shape = (32, 32, 3)),\n",
        "    tf.keras.layers.Conv2D(32, (3, 3), padding = \"same\", activation='relu'),\n",
        "    tf.keras.layers.MaxPooling2D(pool_size = (2, 2)),\n",
        "    tf.keras.layers.Dropout(0.3),\n",
        "    tf.keras.layers.Conv2D(64, (3, 3), padding = \"same\", activation='relu'),\n",
        "    tf.keras.layers.Conv2D(64, (3, 3), padding = \"same\", activation='relu'),\n",
        "    tf.keras.layers.MaxPooling2D(pool_size = (2, 2)),\n",
        "    tf.keras.layers.Dropout(0.3),\n",
        "    tf.keras.layers.Conv2D(128, (3, 3), padding = \"same\", activation='relu'),\n",
        "    tf.keras.layers.Conv2D(128, (3, 3), padding = \"same\", activation='relu'),\n",
        "    tf.keras.layers.MaxPooling2D(pool_size = (2, 2)),\n",
        "    tf.keras.layers.Dropout(0.3),\n",
        "    tf.keras.layers.Flatten(),\n",
        "    tf.keras.layers.Dense(128, activation = 'relu'),\n",
        "    tf.keras.layers.Dropout(0.3),\n",
        "    tf.keras.layers.Dense(10, activation = 'softmax')\n",
        "])\n",
        "\n",
        "model_cnn_chroma.compile(optimizer = \"adam\", loss='categorical_crossentropy', metrics=['accuracy'])\n",
        "\n",
        "\n",
        "model_cnn_chroma.summary()"
      ],
      "execution_count": null,
      "outputs": [
        {
          "output_type": "stream",
          "text": [
            "Model: \"sequential_2\"\n",
            "_________________________________________________________________\n",
            "Layer (type)                 Output Shape              Param #   \n",
            "=================================================================\n",
            "conv2d_12 (Conv2D)           (None, 32, 32, 32)        896       \n",
            "_________________________________________________________________\n",
            "conv2d_13 (Conv2D)           (None, 32, 32, 32)        9248      \n",
            "_________________________________________________________________\n",
            "max_pooling2d_6 (MaxPooling2 (None, 16, 16, 32)        0         \n",
            "_________________________________________________________________\n",
            "dropout_8 (Dropout)          (None, 16, 16, 32)        0         \n",
            "_________________________________________________________________\n",
            "conv2d_14 (Conv2D)           (None, 16, 16, 64)        18496     \n",
            "_________________________________________________________________\n",
            "conv2d_15 (Conv2D)           (None, 16, 16, 64)        36928     \n",
            "_________________________________________________________________\n",
            "max_pooling2d_7 (MaxPooling2 (None, 8, 8, 64)          0         \n",
            "_________________________________________________________________\n",
            "dropout_9 (Dropout)          (None, 8, 8, 64)          0         \n",
            "_________________________________________________________________\n",
            "conv2d_16 (Conv2D)           (None, 8, 8, 128)         73856     \n",
            "_________________________________________________________________\n",
            "conv2d_17 (Conv2D)           (None, 8, 8, 128)         147584    \n",
            "_________________________________________________________________\n",
            "max_pooling2d_8 (MaxPooling2 (None, 4, 4, 128)         0         \n",
            "_________________________________________________________________\n",
            "dropout_10 (Dropout)         (None, 4, 4, 128)         0         \n",
            "_________________________________________________________________\n",
            "flatten_2 (Flatten)          (None, 2048)              0         \n",
            "_________________________________________________________________\n",
            "dense_4 (Dense)              (None, 128)               262272    \n",
            "_________________________________________________________________\n",
            "dropout_11 (Dropout)         (None, 128)               0         \n",
            "_________________________________________________________________\n",
            "dense_5 (Dense)              (None, 10)                1290      \n",
            "=================================================================\n",
            "Total params: 550,570\n",
            "Trainable params: 550,570\n",
            "Non-trainable params: 0\n",
            "_________________________________________________________________\n"
          ],
          "name": "stdout"
        }
      ]
    },
    {
      "cell_type": "code",
      "metadata": {
        "colab": {
          "base_uri": "https://localhost:8080/"
        },
        "id": "xWDNCs0C2bBf",
        "outputId": "fb336b28-4324-48de-b946-348089d2250b"
      },
      "source": [
        "history_cnn = model_cnn_chroma.fit(X_train,y_train,\n",
        "        batch_size = 16,\n",
        "        epochs=10,\n",
        "        validation_data=(X_valid, y_valid))"
      ],
      "execution_count": null,
      "outputs": [
        {
          "output_type": "stream",
          "text": [
            "Epoch 1/10\n",
            "1739/1739 [==============================] - 42s 6ms/step - loss: 1.8232 - accuracy: 0.3045 - val_loss: 1.6782 - val_accuracy: 0.3902\n",
            "Epoch 2/10\n",
            "1739/1739 [==============================] - 10s 6ms/step - loss: 1.4379 - accuracy: 0.4768 - val_loss: 1.4491 - val_accuracy: 0.4890\n",
            "Epoch 3/10\n",
            "1739/1739 [==============================] - 10s 6ms/step - loss: 1.2503 - accuracy: 0.5555 - val_loss: 1.5445 - val_accuracy: 0.4939\n",
            "Epoch 4/10\n",
            "1739/1739 [==============================] - 10s 6ms/step - loss: 1.1435 - accuracy: 0.5973 - val_loss: 1.6050 - val_accuracy: 0.4688\n",
            "Epoch 5/10\n",
            "1739/1739 [==============================] - 9s 5ms/step - loss: 1.0740 - accuracy: 0.6210 - val_loss: 1.5076 - val_accuracy: 0.4967\n",
            "Epoch 6/10\n",
            "1739/1739 [==============================] - 9s 5ms/step - loss: 1.0144 - accuracy: 0.6465 - val_loss: 1.6762 - val_accuracy: 0.4873\n",
            "Epoch 7/10\n",
            "1739/1739 [==============================] - 9s 5ms/step - loss: 0.9822 - accuracy: 0.6563 - val_loss: 1.5264 - val_accuracy: 0.4909\n",
            "Epoch 8/10\n",
            "1739/1739 [==============================] - 9s 5ms/step - loss: 0.9438 - accuracy: 0.6683 - val_loss: 1.5466 - val_accuracy: 0.5354\n",
            "Epoch 9/10\n",
            "1739/1739 [==============================] - 10s 6ms/step - loss: 0.9136 - accuracy: 0.6776 - val_loss: 1.6744 - val_accuracy: 0.5033\n",
            "Epoch 10/10\n",
            "1739/1739 [==============================] - 10s 6ms/step - loss: 0.8847 - accuracy: 0.6882 - val_loss: 1.7027 - val_accuracy: 0.4985\n"
          ],
          "name": "stdout"
        }
      ]
    },
    {
      "cell_type": "markdown",
      "metadata": {
        "id": "nZv9XiUMqPTd"
      },
      "source": [
        "### 3.1.3 Image of MFCC plot"
      ]
    },
    {
      "cell_type": "code",
      "metadata": {
        "id": "VsLxPrJzrlGQ"
      },
      "source": [
        "X_train = mfcc_train_array.astype('float32')/255\n",
        "X_valid = mfcc_valid_array.astype('float32')/255\n",
        "X_test = mfcc_test_array.astype('float32')/255"
      ],
      "execution_count": null,
      "outputs": []
    },
    {
      "cell_type": "code",
      "metadata": {
        "id": "Rs6ArMM0rlGQ"
      },
      "source": [
        "y_train_label = train_meta_split['label']\n",
        "y_valid_label = valid_meta_split['label']\n",
        "y_test_label = test_meta_split['label']"
      ],
      "execution_count": null,
      "outputs": []
    },
    {
      "cell_type": "code",
      "metadata": {
        "id": "ZeUyA3IarlGR"
      },
      "source": [
        "y_train = np_utils.to_categorical(y_train_label,10)\n",
        "y_valid = np_utils.to_categorical(y_valid_label,10)\n",
        "y_test = np_utils.to_categorical(y_test_label,10)"
      ],
      "execution_count": null,
      "outputs": []
    },
    {
      "cell_type": "code",
      "metadata": {
        "id": "6t8kZzvorlGR"
      },
      "source": [
        "X_train,y_train = shuffle(X_train,y_train)\n",
        "X_valid, y_valid = shuffle(X_valid, y_valid)"
      ],
      "execution_count": null,
      "outputs": []
    },
    {
      "cell_type": "code",
      "metadata": {
        "colab": {
          "base_uri": "https://localhost:8080/"
        },
        "id": "7wRHUd5VrlGR",
        "outputId": "78879767-ad78-4142-b8cb-1725810df5c4"
      },
      "source": [
        "model_cnn_mfcc = tf.keras.Sequential([\n",
        "    tf.keras.layers.Conv2D(32, (3, 3), padding = \"same\", activation='relu', input_shape = (32, 32, 3)),\n",
        "    tf.keras.layers.Conv2D(32, (3, 3), padding = \"same\", activation='relu'),\n",
        "    tf.keras.layers.MaxPooling2D(pool_size = (2, 2)),\n",
        "    tf.keras.layers.Dropout(0.3),\n",
        "    tf.keras.layers.Conv2D(64, (3, 3), padding = \"same\", activation='relu'),\n",
        "    tf.keras.layers.Conv2D(64, (3, 3), padding = \"same\", activation='relu'),\n",
        "    tf.keras.layers.MaxPooling2D(pool_size = (2, 2)),\n",
        "    tf.keras.layers.Dropout(0.3),\n",
        "    tf.keras.layers.Conv2D(128, (3, 3), padding = \"same\", activation='relu'),\n",
        "    tf.keras.layers.Conv2D(128, (3, 3), padding = \"same\", activation='relu'),\n",
        "    tf.keras.layers.MaxPooling2D(pool_size = (2, 2)),\n",
        "    tf.keras.layers.Dropout(0.3),\n",
        "    tf.keras.layers.Flatten(),\n",
        "    tf.keras.layers.Dense(128, activation = 'relu'),\n",
        "    tf.keras.layers.Dropout(0.3),\n",
        "    tf.keras.layers.Dense(10, activation = 'softmax')\n",
        "])\n",
        "\n",
        "model_cnn_mfcc.compile(optimizer = \"adam\", loss='categorical_crossentropy', metrics=['accuracy'])\n",
        "\n",
        "\n",
        "model_cnn_mfcc.summary()"
      ],
      "execution_count": null,
      "outputs": [
        {
          "output_type": "stream",
          "text": [
            "Model: \"sequential\"\n",
            "_________________________________________________________________\n",
            "Layer (type)                 Output Shape              Param #   \n",
            "=================================================================\n",
            "conv2d (Conv2D)              (None, 32, 32, 32)        896       \n",
            "_________________________________________________________________\n",
            "conv2d_1 (Conv2D)            (None, 32, 32, 32)        9248      \n",
            "_________________________________________________________________\n",
            "max_pooling2d (MaxPooling2D) (None, 16, 16, 32)        0         \n",
            "_________________________________________________________________\n",
            "dropout (Dropout)            (None, 16, 16, 32)        0         \n",
            "_________________________________________________________________\n",
            "conv2d_2 (Conv2D)            (None, 16, 16, 64)        18496     \n",
            "_________________________________________________________________\n",
            "conv2d_3 (Conv2D)            (None, 16, 16, 64)        36928     \n",
            "_________________________________________________________________\n",
            "max_pooling2d_1 (MaxPooling2 (None, 8, 8, 64)          0         \n",
            "_________________________________________________________________\n",
            "dropout_1 (Dropout)          (None, 8, 8, 64)          0         \n",
            "_________________________________________________________________\n",
            "conv2d_4 (Conv2D)            (None, 8, 8, 128)         73856     \n",
            "_________________________________________________________________\n",
            "conv2d_5 (Conv2D)            (None, 8, 8, 128)         147584    \n",
            "_________________________________________________________________\n",
            "max_pooling2d_2 (MaxPooling2 (None, 4, 4, 128)         0         \n",
            "_________________________________________________________________\n",
            "dropout_2 (Dropout)          (None, 4, 4, 128)         0         \n",
            "_________________________________________________________________\n",
            "flatten (Flatten)            (None, 2048)              0         \n",
            "_________________________________________________________________\n",
            "dense (Dense)                (None, 128)               262272    \n",
            "_________________________________________________________________\n",
            "dropout_3 (Dropout)          (None, 128)               0         \n",
            "_________________________________________________________________\n",
            "dense_1 (Dense)              (None, 10)                1290      \n",
            "=================================================================\n",
            "Total params: 550,570\n",
            "Trainable params: 550,570\n",
            "Non-trainable params: 0\n",
            "_________________________________________________________________\n"
          ],
          "name": "stdout"
        }
      ]
    },
    {
      "cell_type": "code",
      "metadata": {
        "colab": {
          "base_uri": "https://localhost:8080/"
        },
        "id": "Ac2xdDK6rlGR",
        "outputId": "d0749077-5683-4ccb-d4f8-a791654d3d8a"
      },
      "source": [
        "history_cnn = model_cnn_mfcc.fit(X_train,y_train,\n",
        "        batch_size = 16,\n",
        "        epochs=10,\n",
        "        validation_data=(X_valid, y_valid))"
      ],
      "execution_count": null,
      "outputs": [
        {
          "output_type": "stream",
          "text": [
            "Epoch 1/10\n",
            "1739/1739 [==============================] - 41s 5ms/step - loss: 1.6367 - accuracy: 0.4017 - val_loss: 2.1457 - val_accuracy: 0.3498\n",
            "Epoch 2/10\n",
            "1739/1739 [==============================] - 9s 5ms/step - loss: 0.8613 - accuracy: 0.7100 - val_loss: 2.0430 - val_accuracy: 0.4203\n",
            "Epoch 3/10\n",
            "1739/1739 [==============================] - 9s 5ms/step - loss: 0.6497 - accuracy: 0.7794 - val_loss: 2.0857 - val_accuracy: 0.4096\n",
            "Epoch 4/10\n",
            "1739/1739 [==============================] - 9s 5ms/step - loss: 0.5496 - accuracy: 0.8167 - val_loss: 2.9560 - val_accuracy: 0.3795\n",
            "Epoch 5/10\n",
            "1739/1739 [==============================] - 9s 5ms/step - loss: 0.4952 - accuracy: 0.8322 - val_loss: 2.6993 - val_accuracy: 0.4004\n",
            "Epoch 6/10\n",
            "1739/1739 [==============================] - 9s 5ms/step - loss: 0.4429 - accuracy: 0.8496 - val_loss: 2.7901 - val_accuracy: 0.4213\n",
            "Epoch 7/10\n",
            "1739/1739 [==============================] - 9s 5ms/step - loss: 0.4110 - accuracy: 0.8615 - val_loss: 3.1739 - val_accuracy: 0.4150\n",
            "Epoch 8/10\n",
            "1739/1739 [==============================] - 9s 5ms/step - loss: 0.3963 - accuracy: 0.8659 - val_loss: 3.4572 - val_accuracy: 0.3955\n",
            "Epoch 9/10\n",
            "1739/1739 [==============================] - 9s 5ms/step - loss: 0.3722 - accuracy: 0.8757 - val_loss: 3.1364 - val_accuracy: 0.4347\n",
            "Epoch 10/10\n",
            "1739/1739 [==============================] - 9s 5ms/step - loss: 0.3527 - accuracy: 0.8798 - val_loss: 3.7657 - val_accuracy: 0.4166\n"
          ],
          "name": "stdout"
        }
      ]
    },
    {
      "cell_type": "markdown",
      "metadata": {
        "id": "CDCUuWk_tgpt"
      },
      "source": [
        "### 3.1.4 Image Combination"
      ]
    },
    {
      "cell_type": "code",
      "metadata": {
        "id": "DdfXN7vbVilb"
      },
      "source": [
        "train_com = img_combine(mel_train_array, mfcc_train_array, chroma_train_array)\n",
        "test_com = img_combine(mel_test_array, mfcc_test_array, chroma_test_array)\n",
        "valid_com = img_combine(mel_valid_array, mfcc_valid_array, chroma_valid_array)"
      ],
      "execution_count": null,
      "outputs": []
    },
    {
      "cell_type": "code",
      "metadata": {
        "id": "p5T9d2yMVvnh"
      },
      "source": [
        "X_train = train_com.astype('float32')/255\n",
        "X_test = test_com.astype('float32')/255\n",
        "X_valid = valid_com.astype('float32')/255"
      ],
      "execution_count": null,
      "outputs": []
    },
    {
      "cell_type": "code",
      "metadata": {
        "id": "ufIiRg-wVvnh"
      },
      "source": [
        "y_train_label = train_meta_split['label']\n",
        "y_valid_label = valid_meta_split['label']\n",
        "y_test_label = test_meta_split['label']"
      ],
      "execution_count": null,
      "outputs": []
    },
    {
      "cell_type": "code",
      "metadata": {
        "id": "iKYk4NThVvni"
      },
      "source": [
        "y_train = np_utils.to_categorical(y_train_label,10)\n",
        "y_valid = np_utils.to_categorical(y_valid_label,10)\n",
        "y_test = np_utils.to_categorical(y_test_label,10)"
      ],
      "execution_count": null,
      "outputs": []
    },
    {
      "cell_type": "code",
      "metadata": {
        "id": "vTZ727twVvni"
      },
      "source": [
        "X_train,y_train = shuffle(X_train,y_train)\n",
        "X_valid, y_valid = shuffle(X_valid, y_valid)"
      ],
      "execution_count": null,
      "outputs": []
    },
    {
      "cell_type": "code",
      "metadata": {
        "colab": {
          "base_uri": "https://localhost:8080/"
        },
        "id": "Qa3gh0dgVvni",
        "outputId": "08040099-8445-427f-c73e-d29ac4baf930"
      },
      "source": [
        "model_cnn_com = tf.keras.Sequential([\n",
        "    tf.keras.layers.Conv2D(32, (3, 3), padding = \"same\", activation='relu', input_shape = (32, 32, 3)),\n",
        "    tf.keras.layers.Conv2D(32, (3, 3), padding = \"same\", activation='relu'),\n",
        "    tf.keras.layers.MaxPooling2D(pool_size = (2, 2)),\n",
        "    tf.keras.layers.Dropout(0.4),\n",
        "    tf.keras.layers.Conv2D(64, (3, 3), padding = \"same\", activation='relu'),\n",
        "    tf.keras.layers.Conv2D(64, (3, 3), padding = \"same\", activation='relu'),\n",
        "    tf.keras.layers.MaxPooling2D(pool_size = (2, 2)),\n",
        "    tf.keras.layers.Dropout(0.4),\n",
        "    tf.keras.layers.Conv2D(128, (3, 3), padding = \"same\", activation='relu'),\n",
        "    tf.keras.layers.Conv2D(128, (3, 3), padding = \"same\", activation='relu'),\n",
        "    tf.keras.layers.MaxPooling2D(pool_size = (2, 2)),\n",
        "    tf.keras.layers.Conv2D(128, (3, 3), padding = \"same\", activation='relu'),\n",
        "    tf.keras.layers.Conv2D(128, (3, 3), padding = \"same\", activation='relu'),\n",
        "    tf.keras.layers.MaxPooling2D(pool_size = (2, 2)),\n",
        "    tf.keras.layers.Dropout(0.4),    \n",
        "    tf.keras.layers.Flatten(),\n",
        "    tf.keras.layers.Dense(128, activation = 'relu'),\n",
        "    tf.keras.layers.Dropout(0.4),\n",
        "    tf.keras.layers.Dense(10, activation = 'softmax')\n",
        "])\n",
        "\n",
        "model_cnn_com.compile(optimizer = \"adam\", loss='categorical_crossentropy', metrics=['accuracy'])\n",
        "\n",
        "\n",
        "model_cnn_com.summary()"
      ],
      "execution_count": null,
      "outputs": [
        {
          "output_type": "stream",
          "text": [
            "Model: \"sequential_3\"\n",
            "_________________________________________________________________\n",
            "Layer (type)                 Output Shape              Param #   \n",
            "=================================================================\n",
            "conv2d_20 (Conv2D)           (None, 32, 32, 32)        896       \n",
            "_________________________________________________________________\n",
            "conv2d_21 (Conv2D)           (None, 32, 32, 32)        9248      \n",
            "_________________________________________________________________\n",
            "max_pooling2d_10 (MaxPooling (None, 16, 16, 32)        0         \n",
            "_________________________________________________________________\n",
            "dropout_12 (Dropout)         (None, 16, 16, 32)        0         \n",
            "_________________________________________________________________\n",
            "conv2d_22 (Conv2D)           (None, 16, 16, 64)        18496     \n",
            "_________________________________________________________________\n",
            "conv2d_23 (Conv2D)           (None, 16, 16, 64)        36928     \n",
            "_________________________________________________________________\n",
            "max_pooling2d_11 (MaxPooling (None, 8, 8, 64)          0         \n",
            "_________________________________________________________________\n",
            "dropout_13 (Dropout)         (None, 8, 8, 64)          0         \n",
            "_________________________________________________________________\n",
            "conv2d_24 (Conv2D)           (None, 8, 8, 128)         73856     \n",
            "_________________________________________________________________\n",
            "conv2d_25 (Conv2D)           (None, 8, 8, 128)         147584    \n",
            "_________________________________________________________________\n",
            "max_pooling2d_12 (MaxPooling (None, 4, 4, 128)         0         \n",
            "_________________________________________________________________\n",
            "conv2d_26 (Conv2D)           (None, 4, 4, 128)         147584    \n",
            "_________________________________________________________________\n",
            "conv2d_27 (Conv2D)           (None, 4, 4, 128)         147584    \n",
            "_________________________________________________________________\n",
            "max_pooling2d_13 (MaxPooling (None, 2, 2, 128)         0         \n",
            "_________________________________________________________________\n",
            "dropout_14 (Dropout)         (None, 2, 2, 128)         0         \n",
            "_________________________________________________________________\n",
            "flatten_3 (Flatten)          (None, 512)               0         \n",
            "_________________________________________________________________\n",
            "dense_6 (Dense)              (None, 128)               65664     \n",
            "_________________________________________________________________\n",
            "dropout_15 (Dropout)         (None, 128)               0         \n",
            "_________________________________________________________________\n",
            "dense_7 (Dense)              (None, 10)                1290      \n",
            "=================================================================\n",
            "Total params: 649,130\n",
            "Trainable params: 649,130\n",
            "Non-trainable params: 0\n",
            "_________________________________________________________________\n"
          ],
          "name": "stdout"
        }
      ]
    },
    {
      "cell_type": "code",
      "metadata": {
        "colab": {
          "base_uri": "https://localhost:8080/"
        },
        "id": "yaA4Q40aVvnj",
        "outputId": "a0ceed28-041a-48fe-e42e-2cb2fd67ab67"
      },
      "source": [
        "history_cnn = model_cnn_com.fit(X_train,y_train,\n",
        "        batch_size = 16,\n",
        "        epochs=10,\n",
        "        validation_data=(X_valid, y_valid))"
      ],
      "execution_count": null,
      "outputs": [
        {
          "output_type": "stream",
          "text": [
            "Epoch 1/10\n",
            "1739/1739 [==============================] - 11s 6ms/step - loss: 1.8517 - accuracy: 0.2994 - val_loss: 2.0059 - val_accuracy: 0.2916\n",
            "Epoch 2/10\n",
            "1739/1739 [==============================] - 11s 6ms/step - loss: 1.1918 - accuracy: 0.5852 - val_loss: 1.8360 - val_accuracy: 0.4199\n",
            "Epoch 3/10\n",
            "1739/1739 [==============================] - 10s 6ms/step - loss: 0.9016 - accuracy: 0.6959 - val_loss: 2.3933 - val_accuracy: 0.3816\n",
            "Epoch 4/10\n",
            "1739/1739 [==============================] - 10s 5ms/step - loss: 0.7520 - accuracy: 0.7440 - val_loss: 2.3101 - val_accuracy: 0.4597\n",
            "Epoch 5/10\n",
            "1739/1739 [==============================] - 10s 5ms/step - loss: 0.6757 - accuracy: 0.7723 - val_loss: 2.1461 - val_accuracy: 0.4581\n",
            "Epoch 6/10\n",
            "1739/1739 [==============================] - 10s 6ms/step - loss: 0.6307 - accuracy: 0.7870 - val_loss: 2.4227 - val_accuracy: 0.4426\n",
            "Epoch 7/10\n",
            "1739/1739 [==============================] - 10s 6ms/step - loss: 0.5861 - accuracy: 0.8067 - val_loss: 2.8093 - val_accuracy: 0.4078\n",
            "Epoch 8/10\n",
            "1739/1739 [==============================] - 10s 6ms/step - loss: 0.5500 - accuracy: 0.8195 - val_loss: 2.2944 - val_accuracy: 0.4417\n",
            "Epoch 9/10\n",
            "1739/1739 [==============================] - 10s 6ms/step - loss: 0.5267 - accuracy: 0.8257 - val_loss: 3.4189 - val_accuracy: 0.4199\n",
            "Epoch 10/10\n",
            "1739/1739 [==============================] - 10s 6ms/step - loss: 0.5088 - accuracy: 0.8319 - val_loss: 2.8139 - val_accuracy: 0.4082\n"
          ],
          "name": "stdout"
        }
      ]
    },
    {
      "cell_type": "markdown",
      "metadata": {
        "id": "0LWZoEA9YAmi"
      },
      "source": [
        "## 3.2 Classification with Features"
      ]
    },
    {
      "cell_type": "markdown",
      "metadata": {
        "id": "wbGvGWPS5CFP"
      },
      "source": [
        "- Mel-frequency Spectrogram: 128\n",
        "- Chromagram: 12\n",
        "- Tonnetz: 6\n",
        "- MFCCs: 50"
      ]
    },
    {
      "cell_type": "code",
      "metadata": {
        "id": "Sgz2jaA75IRp"
      },
      "source": [
        "def extract_features(raw_data):\n",
        "  all_feature = []\n",
        "  for signal in raw_data:\n",
        "    melspec = librosa.feature.melspectrogram(signal, n_mels = 128) # melspectrogram features\n",
        "    logspec = librosa.amplitude_to_db(melspec)\n",
        "    chroma = librosa.feature.chroma_stft(S=logspec) # chromagram features\n",
        "    y = librosa.effects.harmonic(signal)\n",
        "    tonnetz = librosa.feature.tonnetz(y=y) # tonnetz features\n",
        "    mfcc = librosa.feature.mfcc(S=logspec, n_mfcc=50)\n",
        "    f = np.concatenate((logspec, chroma, tonnetz, mfcc), axis=0)\n",
        "    f = f.T.flatten()[:, np.newaxis].T\n",
        "    all_feature.append(f)\n",
        "           \n",
        "  all_feature = np.asarray(all_feature).reshape(len(all_feature),196,41,1)\n",
        "  features = np.concatenate((all_feature, np.zeros(np.shape(all_feature))), axis = 3)\n",
        "  for i in range(len(features)):\n",
        "    features[i, :, :, 1] = librosa.feature.delta(features[i, :, :, 0])\n",
        "    \n",
        "  return np.array(features)"
      ],
      "execution_count": null,
      "outputs": []
    },
    {
      "cell_type": "code",
      "metadata": {
        "id": "f8BOe1iv8R6G"
      },
      "source": [
        "feature_fold1 = extract_features(train_raw_split) "
      ],
      "execution_count": null,
      "outputs": []
    },
    {
      "cell_type": "code",
      "metadata": {
        "id": "zM6gPTTPU1ci"
      },
      "source": [
        "np.save('/content/drive/MyDrive/machine learning/all_feature_train.npy', feature_fold1') "
      ],
      "execution_count": null,
      "outputs": []
    },
    {
      "cell_type": "code",
      "metadata": {
        "id": "qDUJesYyCi7t"
      },
      "source": [
        "all_feature_valid = extract_features(valid_raw_split) "
      ],
      "execution_count": null,
      "outputs": []
    },
    {
      "cell_type": "code",
      "metadata": {
        "id": "TIHWbwK1VHAu"
      },
      "source": [
        "np.save('/content/drive/MyDrive/machine learning/all_feature_valid.npy', all_feature_valid') "
      ],
      "execution_count": null,
      "outputs": []
    },
    {
      "cell_type": "code",
      "metadata": {
        "id": "ljMZHSCIhCtA"
      },
      "source": [
        "all_feature_test = extract_features(test_raw_split) "
      ],
      "execution_count": null,
      "outputs": []
    },
    {
      "cell_type": "code",
      "metadata": {
        "id": "wO1kzPdfhCyI"
      },
      "source": [
        "np.save('/content/drive/MyDrive/machine learning/all_feature_valid.npy', all_feature_valid') "
      ],
      "execution_count": null,
      "outputs": []
    },
    {
      "cell_type": "code",
      "metadata": {
        "id": "VqUcHE9hhRwd"
      },
      "source": [
        "X_train = all_feature_train\n",
        "X_valid = all_feature_valid\n",
        "X_test = all_feature_test "
      ],
      "execution_count": null,
      "outputs": []
    },
    {
      "cell_type": "code",
      "metadata": {
        "id": "2w1Gs06S8R6I"
      },
      "source": [
        "y_train = np_utils.to_categorical(train_label,10)\n",
        "y_valid = np_utils.to_categorical(valid_label,10)\n",
        "y_test = np_utils.to_categorical(test_label,10) "
      ],
      "execution_count": null,
      "outputs": []
    },
    {
      "cell_type": "code",
      "metadata": {
        "id": "3X0TSc3Z8R6I"
      },
      "source": [
        "model_cnn_s = Sequential([\n",
        "     Conv2D(32,kernel_size=1,strides=1, padding='same', input_shape=(196, 41, 2)),\n",
        "     Conv2D(32,kernel_size=1,strides=1, padding='same',activation='relu'), \n",
        "     MaxPooling2D(pool_size = (2, 2)),\n",
        "     Dropout(0.5),\n",
        "\n",
        "     Conv2D(64,kernel_size=1,strides=1, padding='same', input_shape=(128, 41, 2)),\n",
        "     Conv2D(64,kernel_size=1,strides=1, padding='same',activation='relu'),\n",
        "     MaxPooling2D(pool_size = (2, 2)),\n",
        "     Dropout(0.5),    \n",
        "\n",
        "     Flatten(),\n",
        "\n",
        "     Dense(128,activation='relu'),\n",
        "     Dropout(0.5),\n",
        "\n",
        "     Dense(10,activation='softmax')\n",
        "])\n",
        "     \n",
        "model_cnn_s.compile(optimizer = \"adam\", loss='categorical_crossentropy', metrics=['accuracy'])\n",
        "\n",
        "model_cnn_s.summary()"
      ],
      "execution_count": null,
      "outputs": []
    },
    {
      "cell_type": "code",
      "metadata": {
        "id": "owoblnwD8R6Q"
      },
      "source": [
        "history_cnn_s = model_cnn_s.fit(X_train, y_train, batch_size=16, epochs=15, validation_data=(X_valid, y_valid)) "
      ],
      "execution_count": null,
      "outputs": []
    },
    {
      "cell_type": "markdown",
      "metadata": {
        "id": "DFfJCxhvGVFW"
      },
      "source": [
        ""
      ]
    },
    {
      "cell_type": "markdown",
      "metadata": {
        "id": "_M4-mt_02rSc"
      },
      "source": [
        "# 4 Convolution Recurrent Neural Network"
      ]
    },
    {
      "cell_type": "markdown",
      "metadata": {
        "id": "zexCejJw2yhX"
      },
      "source": [
        "## 4.1 CRNN with Mel-Frequency Spectrogram"
      ]
    },
    {
      "cell_type": "code",
      "metadata": {
        "id": "b5J2-cRGoeW0"
      },
      "source": [
        "mel_valid_data = mel_data(valid_raw_split)"
      ],
      "execution_count": 28,
      "outputs": []
    },
    {
      "cell_type": "code",
      "metadata": {
        "id": "CuZHKRoEqxiT"
      },
      "source": [
        "mel_train_data = mel_data(train_raw_split)"
      ],
      "execution_count": 29,
      "outputs": []
    },
    {
      "cell_type": "code",
      "metadata": {
        "id": "nAfZROsmuAoR"
      },
      "source": [
        "train_label = train_meta_split['label']\n",
        "valid_label = valid_meta_split['label']"
      ],
      "execution_count": 30,
      "outputs": []
    },
    {
      "cell_type": "code",
      "metadata": {
        "id": "ZbpNRSCVuJT9"
      },
      "source": [
        "y_train = np_utils.to_categorical(train_label,10)\n",
        "y_valid = np_utils.to_categorical(valid_label,10)"
      ],
      "execution_count": 31,
      "outputs": []
    },
    {
      "cell_type": "code",
      "metadata": {
        "id": "ucROv0yIuS9Y"
      },
      "source": [
        "X_train = mel_train_data\n",
        "X_valid = mel_valid_data"
      ],
      "execution_count": 33,
      "outputs": []
    },
    {
      "cell_type": "code",
      "metadata": {
        "id": "rvdMXEOkvmrv"
      },
      "source": [
        "X_train,y_train = shuffle(X_train,y_train)\n",
        "X_valid, y_valid = shuffle(X_valid, y_valid)"
      ],
      "execution_count": 34,
      "outputs": []
    },
    {
      "cell_type": "code",
      "metadata": {
        "colab": {
          "base_uri": "https://localhost:8080/"
        },
        "id": "NbzdlhX3v-W-",
        "outputId": "fbf2f401-7f54-4fd4-dda7-07aebea2bc2d"
      },
      "source": [
        "model_crnn = Sequential([\n",
        "    Conv1D(16, 1, activation='relu', input_shape = (41,128)),\n",
        "    MaxPooling1D(2),\n",
        "    Dropout(0.1),\n",
        "\n",
        "    Conv1D(32, 1, activation='relu'),\n",
        "    MaxPooling1D(2),\n",
        "    Dropout(0.1),\n",
        "\n",
        "    Conv1D(64, 1, activation='relu'),\n",
        "    MaxPooling1D(2),\n",
        "    Dropout(0.1),    \n",
        "  \n",
        "\n",
        "    LSTM(96, return_sequences=False),\n",
        "    Dropout(0.4),\n",
        "\n",
        "    Flatten(),\n",
        "\n",
        "    Dense(128, activation='relu'),\n",
        "    Dropout(0.4),\n",
        "    Dense(10, activation = 'softmax')\n",
        "])\n",
        "\n",
        "\n",
        "optimizer = adam_v2.Adam(learning_rate=0.001)\n",
        "model_crnn.compile(optimizer = optimizer, loss='categorical_crossentropy', metrics=['accuracy'])\n",
        "\n",
        "\n",
        "model_crnn.summary()"
      ],
      "execution_count": 23,
      "outputs": [
        {
          "output_type": "stream",
          "text": [
            "Model: \"sequential_4\"\n",
            "_________________________________________________________________\n",
            "Layer (type)                 Output Shape              Param #   \n",
            "=================================================================\n",
            "conv1d_12 (Conv1D)           (None, 41, 16)            2064      \n",
            "_________________________________________________________________\n",
            "max_pooling1d_12 (MaxPooling (None, 20, 16)            0         \n",
            "_________________________________________________________________\n",
            "dropout_20 (Dropout)         (None, 20, 16)            0         \n",
            "_________________________________________________________________\n",
            "conv1d_13 (Conv1D)           (None, 20, 32)            544       \n",
            "_________________________________________________________________\n",
            "max_pooling1d_13 (MaxPooling (None, 10, 32)            0         \n",
            "_________________________________________________________________\n",
            "dropout_21 (Dropout)         (None, 10, 32)            0         \n",
            "_________________________________________________________________\n",
            "conv1d_14 (Conv1D)           (None, 10, 64)            2112      \n",
            "_________________________________________________________________\n",
            "max_pooling1d_14 (MaxPooling (None, 5, 64)             0         \n",
            "_________________________________________________________________\n",
            "dropout_22 (Dropout)         (None, 5, 64)             0         \n",
            "_________________________________________________________________\n",
            "lstm_4 (LSTM)                (None, 96)                61824     \n",
            "_________________________________________________________________\n",
            "dropout_23 (Dropout)         (None, 96)                0         \n",
            "_________________________________________________________________\n",
            "flatten_4 (Flatten)          (None, 96)                0         \n",
            "_________________________________________________________________\n",
            "dense_8 (Dense)              (None, 128)               12416     \n",
            "_________________________________________________________________\n",
            "dropout_24 (Dropout)         (None, 128)               0         \n",
            "_________________________________________________________________\n",
            "dense_9 (Dense)              (None, 10)                1290      \n",
            "=================================================================\n",
            "Total params: 80,250\n",
            "Trainable params: 80,250\n",
            "Non-trainable params: 0\n",
            "_________________________________________________________________\n"
          ],
          "name": "stdout"
        }
      ]
    },
    {
      "cell_type": "code",
      "metadata": {
        "id": "Id8ZnjgYD8wV"
      },
      "source": [
        "history = model_crnn.fit(X_train, y_train, batch_size=16, epochs=50, validation_data=(X_valid, y_valid))"
      ],
      "execution_count": null,
      "outputs": []
    },
    {
      "cell_type": "markdown",
      "metadata": {
        "id": "UwS-pWml5zcA"
      },
      "source": [
        "## 4.2 With all features"
      ]
    },
    {
      "cell_type": "code",
      "metadata": {
        "id": "OB1V66nI59C5"
      },
      "source": [
        "X_train = all_feature_train\n",
        "X_valid = all_feature_valid"
      ],
      "execution_count": 23,
      "outputs": []
    },
    {
      "cell_type": "code",
      "metadata": {
        "id": "3l7gFQzP6GCC"
      },
      "source": [
        "y_train = np_utils.to_categorical(train_meta_split['label'],10)\n",
        "y_valid = np_utils.to_categorical(valid_meta_split['label'],10)"
      ],
      "execution_count": 24,
      "outputs": []
    },
    {
      "cell_type": "code",
      "metadata": {
        "id": "nbV62d4Z6Z_5"
      },
      "source": [
        "X_train,y_train = shuffle(X_train,y_train)\n",
        "X_valid, y_valid = shuffle(X_valid, y_valid)"
      ],
      "execution_count": 25,
      "outputs": []
    },
    {
      "cell_type": "code",
      "metadata": {
        "colab": {
          "base_uri": "https://localhost:8080/"
        },
        "id": "4uS-F9ve6lPs",
        "outputId": "90bcf661-6798-4b49-f8ab-9ad8454a8a94"
      },
      "source": [
        "model_crnn_all = Sequential([\n",
        "    Conv1D(16, 1, activation='relu', input_shape = (41,190)),\n",
        "    MaxPooling1D(2),\n",
        "    Dropout(0.1),\n",
        "\n",
        "    Conv1D(32, 1, activation='relu'),\n",
        "    MaxPooling1D(2),\n",
        "    Dropout(0.1),\n",
        "\n",
        "    Conv1D(64, 1, activation='relu'),\n",
        "    MaxPooling1D(2),\n",
        "    Dropout(0.1),    \n",
        "  \n",
        "\n",
        "    LSTM(96, return_sequences=False),\n",
        "    Dropout(0.4),\n",
        "\n",
        "    Flatten(),\n",
        "\n",
        "    Dense(128, activation='relu'),\n",
        "    Dropout(0.4),\n",
        "    Dense(10, activation = 'softmax')\n",
        "])\n",
        "\n",
        "\n",
        "optimizer = adam_v2.Adam(learning_rate=0.001)\n",
        "model_crnn_all.compile(optimizer = optimizer, loss='categorical_crossentropy', metrics=['accuracy'])\n",
        "\n",
        "\n",
        "model_crnn_all.summary()"
      ],
      "execution_count": 31,
      "outputs": [
        {
          "output_type": "stream",
          "text": [
            "Model: \"sequential_1\"\n",
            "_________________________________________________________________\n",
            "Layer (type)                 Output Shape              Param #   \n",
            "=================================================================\n",
            "conv1d_3 (Conv1D)            (None, 41, 16)            3056      \n",
            "_________________________________________________________________\n",
            "max_pooling1d_3 (MaxPooling1 (None, 20, 16)            0         \n",
            "_________________________________________________________________\n",
            "dropout_5 (Dropout)          (None, 20, 16)            0         \n",
            "_________________________________________________________________\n",
            "conv1d_4 (Conv1D)            (None, 20, 32)            544       \n",
            "_________________________________________________________________\n",
            "max_pooling1d_4 (MaxPooling1 (None, 10, 32)            0         \n",
            "_________________________________________________________________\n",
            "dropout_6 (Dropout)          (None, 10, 32)            0         \n",
            "_________________________________________________________________\n",
            "conv1d_5 (Conv1D)            (None, 10, 64)            2112      \n",
            "_________________________________________________________________\n",
            "max_pooling1d_5 (MaxPooling1 (None, 5, 64)             0         \n",
            "_________________________________________________________________\n",
            "dropout_7 (Dropout)          (None, 5, 64)             0         \n",
            "_________________________________________________________________\n",
            "lstm_1 (LSTM)                (None, 96)                61824     \n",
            "_________________________________________________________________\n",
            "dropout_8 (Dropout)          (None, 96)                0         \n",
            "_________________________________________________________________\n",
            "flatten_1 (Flatten)          (None, 96)                0         \n",
            "_________________________________________________________________\n",
            "dense_2 (Dense)              (None, 128)               12416     \n",
            "_________________________________________________________________\n",
            "dropout_9 (Dropout)          (None, 128)               0         \n",
            "_________________________________________________________________\n",
            "dense_3 (Dense)              (None, 10)                1290      \n",
            "=================================================================\n",
            "Total params: 81,242\n",
            "Trainable params: 81,242\n",
            "Non-trainable params: 0\n",
            "_________________________________________________________________\n"
          ],
          "name": "stdout"
        }
      ]
    },
    {
      "cell_type": "code",
      "metadata": {
        "colab": {
          "base_uri": "https://localhost:8080/",
          "height": 995
        },
        "collapsed": true,
        "id": "RQ_lrJtD6lPt",
        "outputId": "2246c734-f900-4710-d5a5-9384544201fd"
      },
      "source": [
        "history = model_crnn_all.fit(X_train, y_train, batch_size=32, epochs=50, validation_data=(X_valid, y_valid)) "
      ],
      "execution_count": 32,
      "outputs": [
        {
          "output_type": "stream",
          "text": [
            "Epoch 1/50\n",
            "870/870 [==============================] - 11s 9ms/step - loss: 2.0065 - accuracy: 0.2525 - val_loss: 2.1180 - val_accuracy: 0.1997\n",
            "Epoch 2/50\n",
            "870/870 [==============================] - 7s 8ms/step - loss: 1.6937 - accuracy: 0.3936 - val_loss: 2.1364 - val_accuracy: 0.2558\n",
            "Epoch 3/50\n",
            "870/870 [==============================] - 7s 8ms/step - loss: 1.4781 - accuracy: 0.4865 - val_loss: 1.9918 - val_accuracy: 0.3148\n",
            "Epoch 4/50\n",
            "870/870 [==============================] - 7s 8ms/step - loss: 1.2741 - accuracy: 0.5737 - val_loss: 2.0419 - val_accuracy: 0.3844\n",
            "Epoch 5/50\n",
            "870/870 [==============================] - 7s 9ms/step - loss: 1.1495 - accuracy: 0.6166 - val_loss: 2.1734 - val_accuracy: 0.3950\n",
            "Epoch 6/50\n",
            "870/870 [==============================] - 7s 8ms/step - loss: 1.0525 - accuracy: 0.6537 - val_loss: 2.3082 - val_accuracy: 0.3930\n",
            "Epoch 7/50\n",
            "870/870 [==============================] - 7s 9ms/step - loss: 0.9933 - accuracy: 0.6739 - val_loss: 2.2965 - val_accuracy: 0.4073\n",
            "Epoch 8/50\n",
            "870/870 [==============================] - 7s 9ms/step - loss: 0.9384 - accuracy: 0.6885 - val_loss: 2.4461 - val_accuracy: 0.4090\n",
            "Epoch 9/50\n",
            "870/870 [==============================] - 7s 8ms/step - loss: 0.8948 - accuracy: 0.7061 - val_loss: 2.6472 - val_accuracy: 0.3814\n",
            "Epoch 10/50\n",
            "870/870 [==============================] - 7s 9ms/step - loss: 0.8749 - accuracy: 0.7113 - val_loss: 2.3438 - val_accuracy: 0.4124\n",
            "Epoch 11/50\n",
            "870/870 [==============================] - 8s 9ms/step - loss: 0.8344 - accuracy: 0.7240 - val_loss: 2.7909 - val_accuracy: 0.3725\n",
            "Epoch 12/50\n",
            "870/870 [==============================] - 8s 9ms/step - loss: 0.8148 - accuracy: 0.7333 - val_loss: 2.7020 - val_accuracy: 0.3832\n",
            "Epoch 13/50\n",
            "870/870 [==============================] - 7s 9ms/step - loss: 0.7847 - accuracy: 0.7408 - val_loss: 2.2702 - val_accuracy: 0.4676\n",
            "Epoch 14/50\n",
            "870/870 [==============================] - 7s 8ms/step - loss: 0.7743 - accuracy: 0.7452 - val_loss: 2.6988 - val_accuracy: 0.4075\n",
            "Epoch 15/50\n",
            "870/870 [==============================] - 7s 9ms/step - loss: 0.7658 - accuracy: 0.7499 - val_loss: 2.6076 - val_accuracy: 0.3987\n",
            "Epoch 16/50\n",
            "870/870 [==============================] - 7s 8ms/step - loss: 0.7526 - accuracy: 0.7538 - val_loss: 2.5681 - val_accuracy: 0.4143\n",
            "Epoch 17/50\n",
            "870/870 [==============================] - 8s 9ms/step - loss: 0.7424 - accuracy: 0.7583 - val_loss: 2.5921 - val_accuracy: 0.4382\n",
            "Epoch 18/50\n",
            "870/870 [==============================] - 7s 9ms/step - loss: 0.7109 - accuracy: 0.7653 - val_loss: 2.6113 - val_accuracy: 0.4231\n",
            "Epoch 19/50\n",
            "820/870 [===========================>..] - ETA: 0s - loss: 0.7189 - accuracy: 0.7631"
          ],
          "name": "stdout"
        },
        {
          "output_type": "error",
          "ename": "KeyboardInterrupt",
          "evalue": "ignored",
          "traceback": [
            "\u001b[0;31m---------------------------------------------------------------------------\u001b[0m",
            "\u001b[0;31mKeyboardInterrupt\u001b[0m                         Traceback (most recent call last)",
            "\u001b[0;32m<ipython-input-32-c3f1bb12f3c0>\u001b[0m in \u001b[0;36m<module>\u001b[0;34m()\u001b[0m\n\u001b[0;32m----> 1\u001b[0;31m \u001b[0mhistory\u001b[0m \u001b[0;34m=\u001b[0m \u001b[0mmodel_crnn_all\u001b[0m\u001b[0;34m.\u001b[0m\u001b[0mfit\u001b[0m\u001b[0;34m(\u001b[0m\u001b[0mX_train\u001b[0m\u001b[0;34m,\u001b[0m \u001b[0my_train\u001b[0m\u001b[0;34m,\u001b[0m \u001b[0mbatch_size\u001b[0m\u001b[0;34m=\u001b[0m\u001b[0;36m32\u001b[0m\u001b[0;34m,\u001b[0m \u001b[0mepochs\u001b[0m\u001b[0;34m=\u001b[0m\u001b[0;36m50\u001b[0m\u001b[0;34m,\u001b[0m \u001b[0mvalidation_data\u001b[0m\u001b[0;34m=\u001b[0m\u001b[0;34m(\u001b[0m\u001b[0mX_valid\u001b[0m\u001b[0;34m,\u001b[0m \u001b[0my_valid\u001b[0m\u001b[0;34m)\u001b[0m\u001b[0;34m)\u001b[0m\u001b[0;34m\u001b[0m\u001b[0;34m\u001b[0m\u001b[0m\n\u001b[0m",
            "\u001b[0;32m/usr/local/lib/python3.7/dist-packages/keras/engine/training.py\u001b[0m in \u001b[0;36mfit\u001b[0;34m(self, x, y, batch_size, epochs, verbose, callbacks, validation_split, validation_data, shuffle, class_weight, sample_weight, initial_epoch, steps_per_epoch, validation_steps, validation_batch_size, validation_freq, max_queue_size, workers, use_multiprocessing)\u001b[0m\n\u001b[1;32m   1182\u001b[0m                 _r=1):\n\u001b[1;32m   1183\u001b[0m               \u001b[0mcallbacks\u001b[0m\u001b[0;34m.\u001b[0m\u001b[0mon_train_batch_begin\u001b[0m\u001b[0;34m(\u001b[0m\u001b[0mstep\u001b[0m\u001b[0;34m)\u001b[0m\u001b[0;34m\u001b[0m\u001b[0;34m\u001b[0m\u001b[0m\n\u001b[0;32m-> 1184\u001b[0;31m               \u001b[0mtmp_logs\u001b[0m \u001b[0;34m=\u001b[0m \u001b[0mself\u001b[0m\u001b[0;34m.\u001b[0m\u001b[0mtrain_function\u001b[0m\u001b[0;34m(\u001b[0m\u001b[0miterator\u001b[0m\u001b[0;34m)\u001b[0m\u001b[0;34m\u001b[0m\u001b[0;34m\u001b[0m\u001b[0m\n\u001b[0m\u001b[1;32m   1185\u001b[0m               \u001b[0;32mif\u001b[0m \u001b[0mdata_handler\u001b[0m\u001b[0;34m.\u001b[0m\u001b[0mshould_sync\u001b[0m\u001b[0;34m:\u001b[0m\u001b[0;34m\u001b[0m\u001b[0;34m\u001b[0m\u001b[0m\n\u001b[1;32m   1186\u001b[0m                 \u001b[0mcontext\u001b[0m\u001b[0;34m.\u001b[0m\u001b[0masync_wait\u001b[0m\u001b[0;34m(\u001b[0m\u001b[0;34m)\u001b[0m\u001b[0;34m\u001b[0m\u001b[0;34m\u001b[0m\u001b[0m\n",
            "\u001b[0;32m/usr/local/lib/python3.7/dist-packages/tensorflow/python/eager/def_function.py\u001b[0m in \u001b[0;36m__call__\u001b[0;34m(self, *args, **kwds)\u001b[0m\n\u001b[1;32m    883\u001b[0m \u001b[0;34m\u001b[0m\u001b[0m\n\u001b[1;32m    884\u001b[0m       \u001b[0;32mwith\u001b[0m \u001b[0mOptionalXlaContext\u001b[0m\u001b[0;34m(\u001b[0m\u001b[0mself\u001b[0m\u001b[0;34m.\u001b[0m\u001b[0m_jit_compile\u001b[0m\u001b[0;34m)\u001b[0m\u001b[0;34m:\u001b[0m\u001b[0;34m\u001b[0m\u001b[0;34m\u001b[0m\u001b[0m\n\u001b[0;32m--> 885\u001b[0;31m         \u001b[0mresult\u001b[0m \u001b[0;34m=\u001b[0m \u001b[0mself\u001b[0m\u001b[0;34m.\u001b[0m\u001b[0m_call\u001b[0m\u001b[0;34m(\u001b[0m\u001b[0;34m*\u001b[0m\u001b[0margs\u001b[0m\u001b[0;34m,\u001b[0m \u001b[0;34m**\u001b[0m\u001b[0mkwds\u001b[0m\u001b[0;34m)\u001b[0m\u001b[0;34m\u001b[0m\u001b[0;34m\u001b[0m\u001b[0m\n\u001b[0m\u001b[1;32m    886\u001b[0m \u001b[0;34m\u001b[0m\u001b[0m\n\u001b[1;32m    887\u001b[0m       \u001b[0mnew_tracing_count\u001b[0m \u001b[0;34m=\u001b[0m \u001b[0mself\u001b[0m\u001b[0;34m.\u001b[0m\u001b[0mexperimental_get_tracing_count\u001b[0m\u001b[0;34m(\u001b[0m\u001b[0;34m)\u001b[0m\u001b[0;34m\u001b[0m\u001b[0;34m\u001b[0m\u001b[0m\n",
            "\u001b[0;32m/usr/local/lib/python3.7/dist-packages/tensorflow/python/eager/def_function.py\u001b[0m in \u001b[0;36m_call\u001b[0;34m(self, *args, **kwds)\u001b[0m\n\u001b[1;32m    915\u001b[0m       \u001b[0;31m# In this case we have created variables on the first call, so we run the\u001b[0m\u001b[0;34m\u001b[0m\u001b[0;34m\u001b[0m\u001b[0;34m\u001b[0m\u001b[0m\n\u001b[1;32m    916\u001b[0m       \u001b[0;31m# defunned version which is guaranteed to never create variables.\u001b[0m\u001b[0;34m\u001b[0m\u001b[0;34m\u001b[0m\u001b[0;34m\u001b[0m\u001b[0m\n\u001b[0;32m--> 917\u001b[0;31m       \u001b[0;32mreturn\u001b[0m \u001b[0mself\u001b[0m\u001b[0;34m.\u001b[0m\u001b[0m_stateless_fn\u001b[0m\u001b[0;34m(\u001b[0m\u001b[0;34m*\u001b[0m\u001b[0margs\u001b[0m\u001b[0;34m,\u001b[0m \u001b[0;34m**\u001b[0m\u001b[0mkwds\u001b[0m\u001b[0;34m)\u001b[0m  \u001b[0;31m# pylint: disable=not-callable\u001b[0m\u001b[0;34m\u001b[0m\u001b[0;34m\u001b[0m\u001b[0m\n\u001b[0m\u001b[1;32m    918\u001b[0m     \u001b[0;32melif\u001b[0m \u001b[0mself\u001b[0m\u001b[0;34m.\u001b[0m\u001b[0m_stateful_fn\u001b[0m \u001b[0;32mis\u001b[0m \u001b[0;32mnot\u001b[0m \u001b[0;32mNone\u001b[0m\u001b[0;34m:\u001b[0m\u001b[0;34m\u001b[0m\u001b[0;34m\u001b[0m\u001b[0m\n\u001b[1;32m    919\u001b[0m       \u001b[0;31m# Release the lock early so that multiple threads can perform the call\u001b[0m\u001b[0;34m\u001b[0m\u001b[0;34m\u001b[0m\u001b[0;34m\u001b[0m\u001b[0m\n",
            "\u001b[0;32m/usr/local/lib/python3.7/dist-packages/tensorflow/python/eager/function.py\u001b[0m in \u001b[0;36m__call__\u001b[0;34m(self, *args, **kwargs)\u001b[0m\n\u001b[1;32m   3038\u001b[0m        filtered_flat_args) = self._maybe_define_function(args, kwargs)\n\u001b[1;32m   3039\u001b[0m     return graph_function._call_flat(\n\u001b[0;32m-> 3040\u001b[0;31m         filtered_flat_args, captured_inputs=graph_function.captured_inputs)  # pylint: disable=protected-access\n\u001b[0m\u001b[1;32m   3041\u001b[0m \u001b[0;34m\u001b[0m\u001b[0m\n\u001b[1;32m   3042\u001b[0m   \u001b[0;34m@\u001b[0m\u001b[0mproperty\u001b[0m\u001b[0;34m\u001b[0m\u001b[0;34m\u001b[0m\u001b[0m\n",
            "\u001b[0;32m/usr/local/lib/python3.7/dist-packages/tensorflow/python/eager/function.py\u001b[0m in \u001b[0;36m_call_flat\u001b[0;34m(self, args, captured_inputs, cancellation_manager)\u001b[0m\n\u001b[1;32m   1962\u001b[0m       \u001b[0;31m# No tape is watching; skip to running the function.\u001b[0m\u001b[0;34m\u001b[0m\u001b[0;34m\u001b[0m\u001b[0;34m\u001b[0m\u001b[0m\n\u001b[1;32m   1963\u001b[0m       return self._build_call_outputs(self._inference_function.call(\n\u001b[0;32m-> 1964\u001b[0;31m           ctx, args, cancellation_manager=cancellation_manager))\n\u001b[0m\u001b[1;32m   1965\u001b[0m     forward_backward = self._select_forward_and_backward_functions(\n\u001b[1;32m   1966\u001b[0m         \u001b[0margs\u001b[0m\u001b[0;34m,\u001b[0m\u001b[0;34m\u001b[0m\u001b[0;34m\u001b[0m\u001b[0m\n",
            "\u001b[0;32m/usr/local/lib/python3.7/dist-packages/tensorflow/python/eager/function.py\u001b[0m in \u001b[0;36mcall\u001b[0;34m(self, ctx, args, cancellation_manager)\u001b[0m\n\u001b[1;32m    594\u001b[0m               \u001b[0minputs\u001b[0m\u001b[0;34m=\u001b[0m\u001b[0margs\u001b[0m\u001b[0;34m,\u001b[0m\u001b[0;34m\u001b[0m\u001b[0;34m\u001b[0m\u001b[0m\n\u001b[1;32m    595\u001b[0m               \u001b[0mattrs\u001b[0m\u001b[0;34m=\u001b[0m\u001b[0mattrs\u001b[0m\u001b[0;34m,\u001b[0m\u001b[0;34m\u001b[0m\u001b[0;34m\u001b[0m\u001b[0m\n\u001b[0;32m--> 596\u001b[0;31m               ctx=ctx)\n\u001b[0m\u001b[1;32m    597\u001b[0m         \u001b[0;32melse\u001b[0m\u001b[0;34m:\u001b[0m\u001b[0;34m\u001b[0m\u001b[0;34m\u001b[0m\u001b[0m\n\u001b[1;32m    598\u001b[0m           outputs = execute.execute_with_cancellation(\n",
            "\u001b[0;32m/usr/local/lib/python3.7/dist-packages/tensorflow/python/eager/execute.py\u001b[0m in \u001b[0;36mquick_execute\u001b[0;34m(op_name, num_outputs, inputs, attrs, ctx, name)\u001b[0m\n\u001b[1;32m     58\u001b[0m     \u001b[0mctx\u001b[0m\u001b[0;34m.\u001b[0m\u001b[0mensure_initialized\u001b[0m\u001b[0;34m(\u001b[0m\u001b[0;34m)\u001b[0m\u001b[0;34m\u001b[0m\u001b[0;34m\u001b[0m\u001b[0m\n\u001b[1;32m     59\u001b[0m     tensors = pywrap_tfe.TFE_Py_Execute(ctx._handle, device_name, op_name,\n\u001b[0;32m---> 60\u001b[0;31m                                         inputs, attrs, num_outputs)\n\u001b[0m\u001b[1;32m     61\u001b[0m   \u001b[0;32mexcept\u001b[0m \u001b[0mcore\u001b[0m\u001b[0;34m.\u001b[0m\u001b[0m_NotOkStatusException\u001b[0m \u001b[0;32mas\u001b[0m \u001b[0me\u001b[0m\u001b[0;34m:\u001b[0m\u001b[0;34m\u001b[0m\u001b[0;34m\u001b[0m\u001b[0m\n\u001b[1;32m     62\u001b[0m     \u001b[0;32mif\u001b[0m \u001b[0mname\u001b[0m \u001b[0;32mis\u001b[0m \u001b[0;32mnot\u001b[0m \u001b[0;32mNone\u001b[0m\u001b[0;34m:\u001b[0m\u001b[0;34m\u001b[0m\u001b[0;34m\u001b[0m\u001b[0m\n",
            "\u001b[0;31mKeyboardInterrupt\u001b[0m: "
          ]
        }
      ]
    },
    {
      "cell_type": "markdown",
      "metadata": {
        "id": "mJYG-2vC7i03"
      },
      "source": [
        "# 5 Parallel CNN-RNN Model"
      ]
    },
    {
      "cell_type": "markdown",
      "metadata": {
        "id": "VsQ7Jco-7qpL"
      },
      "source": [
        "## 5.1 with Mel-Frequency Spectrogram"
      ]
    },
    {
      "cell_type": "code",
      "metadata": {
        "id": "7piDovpnF8lq"
      },
      "source": [
        "def parallel_cnn_rnn(model_input):\n",
        "  print('Builing model...')\n",
        "  layer = model_input\n",
        "\n",
        "  ## CNN block\n",
        "  conv_1 = Conv2D(16, (3, 1), strides=1, padding = 'same', activation='relu')(layer)\n",
        "  pool_1 = MaxPooling2D((2,2))(conv_1)\n",
        "\n",
        "  conv_2 = Conv2D(32, (3, 1), strides=1, padding = 'same', activation='relu')(pool_1)\n",
        "  pool_2 = MaxPooling2D((2,2))(conv_2)\n",
        "\n",
        "  conv_3 = Conv2D(64, (3, 1), strides=1, padding = 'same', activation='relu')(pool_2)\n",
        "  pool_3 = MaxPooling2D((2,2))(conv_3)\n",
        "\n",
        "  conv_4 = Conv2D(64, (3, 1), strides=1, padding = 'same', activation='relu')(pool_3)\n",
        "  pool_4 = MaxPooling2D((2,2))(conv_4)\n",
        "\n",
        "  conv_5 = Conv2D(64, (3, 1), strides=1, padding = 'same', activation='relu')(pool_4)\n",
        "  pool_5 = MaxPooling2D((2,2))(conv_5)\n",
        "\n",
        "  flatten_1 = Flatten()(pool_5)\n",
        "\n",
        "  ## Bi-RNN block\n",
        "  pool_lstm1 = MaxPooling2D((4,2))(layer)\n",
        "  squeezed = Lambda(lambda x: keras.backend.squeeze(x, axis= -1))(pool_lstm1)\n",
        "  lstm = Bidirectional(GRU(64))(squeezed)\n",
        "\n",
        "  ## Concat two output\n",
        "  concat = concatenate([flatten_1, lstm], axis=-1)\n",
        "  output = Dense(10, activation = 'softmax')(concat)\n",
        "\n",
        "  model_output = output\n",
        "\n",
        "  model = Model(model_input, model_output)\n",
        "\n",
        "  optimizer = adam_v2.Adam(learning_rate=0.001)\n",
        "  model.compile(optimizer = optimizer, loss='categorical_crossentropy', metrics=['accuracy'])\n",
        "\n",
        "  print(model.summary())\n",
        "  \n",
        "  return model"
      ],
      "execution_count": 59,
      "outputs": []
    },
    {
      "cell_type": "code",
      "metadata": {
        "colab": {
          "base_uri": "https://localhost:8080/"
        },
        "id": "SGLHzmAi4fBR",
        "outputId": "c8edff69-ca21-4077-d604-9fc11866e889"
      },
      "source": [
        "model_input = Input((41,128,1))\n",
        "model_pcrnn = parallel_cnn_rnn(model_input)"
      ],
      "execution_count": 60,
      "outputs": [
        {
          "output_type": "stream",
          "text": [
            "Builing model...\n",
            "Model: \"model_1\"\n",
            "__________________________________________________________________________________________________\n",
            "Layer (type)                    Output Shape         Param #     Connected to                     \n",
            "==================================================================================================\n",
            "input_12 (InputLayer)           [(None, 41, 128, 1)] 0                                            \n",
            "__________________________________________________________________________________________________\n",
            "conv2d_52 (Conv2D)              (None, 41, 128, 16)  64          input_12[0][0]                   \n",
            "__________________________________________________________________________________________________\n",
            "max_pooling2d_48 (MaxPooling2D) (None, 20, 64, 16)   0           conv2d_52[0][0]                  \n",
            "__________________________________________________________________________________________________\n",
            "conv2d_53 (Conv2D)              (None, 20, 64, 32)   1568        max_pooling2d_48[0][0]           \n",
            "__________________________________________________________________________________________________\n",
            "max_pooling2d_49 (MaxPooling2D) (None, 10, 32, 32)   0           conv2d_53[0][0]                  \n",
            "__________________________________________________________________________________________________\n",
            "conv2d_54 (Conv2D)              (None, 10, 32, 64)   6208        max_pooling2d_49[0][0]           \n",
            "__________________________________________________________________________________________________\n",
            "max_pooling2d_50 (MaxPooling2D) (None, 5, 16, 64)    0           conv2d_54[0][0]                  \n",
            "__________________________________________________________________________________________________\n",
            "conv2d_55 (Conv2D)              (None, 5, 16, 64)    12352       max_pooling2d_50[0][0]           \n",
            "__________________________________________________________________________________________________\n",
            "max_pooling2d_51 (MaxPooling2D) (None, 2, 8, 64)     0           conv2d_55[0][0]                  \n",
            "__________________________________________________________________________________________________\n",
            "conv2d_56 (Conv2D)              (None, 2, 8, 64)     12352       max_pooling2d_51[0][0]           \n",
            "__________________________________________________________________________________________________\n",
            "max_pooling2d_53 (MaxPooling2D) (None, 10, 64, 1)    0           input_12[0][0]                   \n",
            "__________________________________________________________________________________________________\n",
            "max_pooling2d_52 (MaxPooling2D) (None, 1, 4, 64)     0           conv2d_56[0][0]                  \n",
            "__________________________________________________________________________________________________\n",
            "lambda_6 (Lambda)               (None, 10, 64)       0           max_pooling2d_53[0][0]           \n",
            "__________________________________________________________________________________________________\n",
            "flatten_6 (Flatten)             (None, 256)          0           max_pooling2d_52[0][0]           \n",
            "__________________________________________________________________________________________________\n",
            "bidirectional_3 (Bidirectional) (None, 128)          49920       lambda_6[0][0]                   \n",
            "__________________________________________________________________________________________________\n",
            "concatenate_1 (Concatenate)     (None, 384)          0           flatten_6[0][0]                  \n",
            "                                                                 bidirectional_3[0][0]            \n",
            "__________________________________________________________________________________________________\n",
            "dense_2 (Dense)                 (None, 10)           3850        concatenate_1[0][0]              \n",
            "==================================================================================================\n",
            "Total params: 86,314\n",
            "Trainable params: 86,314\n",
            "Non-trainable params: 0\n",
            "__________________________________________________________________________________________________\n",
            "None\n"
          ],
          "name": "stdout"
        }
      ]
    },
    {
      "cell_type": "code",
      "metadata": {
        "id": "84UH0UZyEtUg"
      },
      "source": [
        "X_train = mel_train_data\n",
        "X_valid = mel_valid_data"
      ],
      "execution_count": 61,
      "outputs": []
    },
    {
      "cell_type": "code",
      "metadata": {
        "id": "zYZOytmHE0TU"
      },
      "source": [
        "y_train = np_utils.to_categorical(train_meta_split['label'], 10)\n",
        "y_valid = np_utils.to_categorical(valid_meta_split['label'], 10)"
      ],
      "execution_count": 62,
      "outputs": []
    },
    {
      "cell_type": "code",
      "metadata": {
        "id": "8QjZ_agXFE2i"
      },
      "source": [
        "X_train, y_train = shuffle(X_train, y_train)\n",
        "X_valid, y_valid = shuffle(X_valid, y_valid)"
      ],
      "execution_count": 63,
      "outputs": []
    },
    {
      "cell_type": "code",
      "metadata": {
        "colab": {
          "base_uri": "https://localhost:8080/"
        },
        "id": "GZqcMyGlFUqR",
        "outputId": "3fd30abe-5291-4ed0-9261-5ecf9b8d84e7"
      },
      "source": [
        "X_train.shape"
      ],
      "execution_count": 64,
      "outputs": [
        {
          "output_type": "execute_result",
          "data": {
            "text/plain": [
              "(27809, 41, 128)"
            ]
          },
          "metadata": {
            "tags": []
          },
          "execution_count": 64
        }
      ]
    },
    {
      "cell_type": "code",
      "metadata": {
        "id": "JWwdbwEaFb0u"
      },
      "source": [
        "X_train_new = X_train[:,:,:, np.newaxis]\n",
        "X_valid_new = X_valid[:,:,:, np.newaxis]"
      ],
      "execution_count": 65,
      "outputs": []
    },
    {
      "cell_type": "code",
      "metadata": {
        "colab": {
          "base_uri": "https://localhost:8080/"
        },
        "id": "e1TfRc5LF2tT",
        "outputId": "b25be281-70eb-4390-c195-883b83b52c2f"
      },
      "source": [
        "history = model_pcrnn.fit(X_train_new, y_train, batch_size=16, epochs=20, validation_data=(X_valid_new, y_valid))"
      ],
      "execution_count": 67,
      "outputs": [
        {
          "output_type": "stream",
          "text": [
            "Epoch 1/20\n",
            "1739/1739 [==============================] - 15s 8ms/step - loss: 1.4123 - accuracy: 0.5054 - val_loss: 1.5817 - val_accuracy: 0.4746\n",
            "Epoch 2/20\n",
            "1739/1739 [==============================] - 13s 8ms/step - loss: 1.0647 - accuracy: 0.6281 - val_loss: 1.4374 - val_accuracy: 0.5219\n",
            "Epoch 3/20\n",
            "1739/1739 [==============================] - 13s 8ms/step - loss: 0.9034 - accuracy: 0.6896 - val_loss: 1.4349 - val_accuracy: 0.5410\n",
            "Epoch 4/20\n",
            "1739/1739 [==============================] - 13s 8ms/step - loss: 0.7966 - accuracy: 0.7339 - val_loss: 1.4858 - val_accuracy: 0.5481\n",
            "Epoch 5/20\n",
            "1739/1739 [==============================] - 13s 8ms/step - loss: 0.7023 - accuracy: 0.7643 - val_loss: 1.4322 - val_accuracy: 0.5409\n",
            "Epoch 6/20\n",
            "1739/1739 [==============================] - 13s 8ms/step - loss: 0.6511 - accuracy: 0.7828 - val_loss: 1.3742 - val_accuracy: 0.5968\n",
            "Epoch 7/20\n",
            "1739/1739 [==============================] - 13s 8ms/step - loss: 0.5923 - accuracy: 0.8033 - val_loss: 1.4562 - val_accuracy: 0.5439\n",
            "Epoch 8/20\n",
            "1739/1739 [==============================] - 13s 8ms/step - loss: 0.5462 - accuracy: 0.8200 - val_loss: 1.3576 - val_accuracy: 0.6001\n",
            "Epoch 9/20\n",
            "1739/1739 [==============================] - 13s 8ms/step - loss: 0.5237 - accuracy: 0.8257 - val_loss: 1.5481 - val_accuracy: 0.5966\n",
            "Epoch 10/20\n",
            "1739/1739 [==============================] - 13s 8ms/step - loss: 0.4822 - accuracy: 0.8388 - val_loss: 1.5300 - val_accuracy: 0.5711\n",
            "Epoch 11/20\n",
            "1739/1739 [==============================] - 13s 8ms/step - loss: 0.4524 - accuracy: 0.8490 - val_loss: 1.6072 - val_accuracy: 0.5584\n",
            "Epoch 12/20\n",
            "1739/1739 [==============================] - 14s 8ms/step - loss: 0.4275 - accuracy: 0.8547 - val_loss: 1.4385 - val_accuracy: 0.6006\n",
            "Epoch 13/20\n",
            "1739/1739 [==============================] - 14s 8ms/step - loss: 0.4131 - accuracy: 0.8611 - val_loss: 1.6482 - val_accuracy: 0.5567\n",
            "Epoch 14/20\n",
            "1739/1739 [==============================] - 14s 8ms/step - loss: 0.3854 - accuracy: 0.8694 - val_loss: 1.7011 - val_accuracy: 0.5711\n",
            "Epoch 15/20\n",
            "1739/1739 [==============================] - 13s 8ms/step - loss: 0.3806 - accuracy: 0.8705 - val_loss: 1.6068 - val_accuracy: 0.5954\n",
            "Epoch 16/20\n",
            "1739/1739 [==============================] - 13s 8ms/step - loss: 0.3588 - accuracy: 0.8780 - val_loss: 1.8276 - val_accuracy: 0.5931\n",
            "Epoch 17/20\n",
            "1739/1739 [==============================] - 13s 8ms/step - loss: 0.3454 - accuracy: 0.8811 - val_loss: 1.6952 - val_accuracy: 0.5901\n",
            "Epoch 18/20\n",
            "1739/1739 [==============================] - 13s 8ms/step - loss: 0.3512 - accuracy: 0.8771 - val_loss: 1.8997 - val_accuracy: 0.5839\n",
            "Epoch 19/20\n",
            "1739/1739 [==============================] - 14s 8ms/step - loss: 0.3327 - accuracy: 0.8859 - val_loss: 2.1920 - val_accuracy: 0.5732\n",
            "Epoch 20/20\n",
            "1739/1739 [==============================] - 13s 8ms/step - loss: 0.3225 - accuracy: 0.8908 - val_loss: 1.8743 - val_accuracy: 0.6212\n"
          ],
          "name": "stdout"
        }
      ]
    },
    {
      "cell_type": "markdown",
      "metadata": {
        "id": "hEZXuVVuMeLZ"
      },
      "source": [
        "# 6 Error Analysis"
      ]
    },
    {
      "cell_type": "code",
      "metadata": {
        "id": "_kMP8BNDMl5e"
      },
      "source": [
        ""
      ],
      "execution_count": null,
      "outputs": []
    }
  ]
}